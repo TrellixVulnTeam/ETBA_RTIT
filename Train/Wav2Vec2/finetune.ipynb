{
 "cells": [
  {
   "cell_type": "code",
   "execution_count": 3,
   "metadata": {},
   "outputs": [
    {
     "name": "stderr",
     "output_type": "stream",
     "text": [
      "Reusing dataset timit_asr (/home/slzhang/.cache/huggingface/datasets/timit_asr/clean/2.0.1/66d672b7070257726bc9e76100d06d3e342aa6c37aed742803302c293540e96d)\n"
     ]
    },
    {
     "name": "stdout",
     "output_type": "stream",
     "text": [
      "DatasetDict({\n",
      "    train: Dataset({\n",
      "        features: ['file', 'text', 'phonetic_detail', 'word_detail', 'dialect_region', 'sentence_type', 'speaker_id', 'id'],\n",
      "        num_rows: 4620\n",
      "    })\n",
      "    test: Dataset({\n",
      "        features: ['file', 'text', 'phonetic_detail', 'word_detail', 'dialect_region', 'sentence_type', 'speaker_id', 'id'],\n",
      "        num_rows: 1680\n",
      "    })\n",
      "})\n"
     ]
    }
   ],
   "source": [
    "from datasets import load_dataset, load_metric\n",
    "\n",
    "timit = load_dataset(\"timit_asr\")\n",
    "\n",
    "print(timit)"
   ]
  },
  {
   "cell_type": "code",
   "execution_count": 4,
   "metadata": {},
   "outputs": [
    {
     "data": {
      "text/html": [
       "<table border=\"1\" class=\"dataframe\">\n",
       "  <thead>\n",
       "    <tr style=\"text-align: right;\">\n",
       "      <th></th>\n",
       "      <th>text</th>\n",
       "    </tr>\n",
       "  </thead>\n",
       "  <tbody>\n",
       "    <tr>\n",
       "      <th>0</th>\n",
       "      <td>Movies never have enough villains.</td>\n",
       "    </tr>\n",
       "    <tr>\n",
       "      <th>1</th>\n",
       "      <td>We've got plenty of time to think about that.</td>\n",
       "    </tr>\n",
       "    <tr>\n",
       "      <th>2</th>\n",
       "      <td>Leave me your address.</td>\n",
       "    </tr>\n",
       "    <tr>\n",
       "      <th>3</th>\n",
       "      <td>But briefly, the topping configuration must be examined for its inferences.</td>\n",
       "    </tr>\n",
       "    <tr>\n",
       "      <th>4</th>\n",
       "      <td>Naturally no woman can ever completely monopolize the sexual initiative.</td>\n",
       "    </tr>\n",
       "    <tr>\n",
       "      <th>5</th>\n",
       "      <td>Guerrillas were racing toward him.</td>\n",
       "    </tr>\n",
       "    <tr>\n",
       "      <th>6</th>\n",
       "      <td>She always jokes about too much garlic in his food.</td>\n",
       "    </tr>\n",
       "    <tr>\n",
       "      <th>7</th>\n",
       "      <td>Don't ask me to carry an oily rag like that.</td>\n",
       "    </tr>\n",
       "    <tr>\n",
       "      <th>8</th>\n",
       "      <td>They were both walking towards each other, unhurried.</td>\n",
       "    </tr>\n",
       "    <tr>\n",
       "      <th>9</th>\n",
       "      <td>She had your dark suit in greasy wash water all year.</td>\n",
       "    </tr>\n",
       "  </tbody>\n",
       "</table>"
      ],
      "text/plain": [
       "<IPython.core.display.HTML object>"
      ]
     },
     "metadata": {},
     "output_type": "display_data"
    }
   ],
   "source": [
    "timit = timit.remove_columns([\"phonetic_detail\", \"word_detail\", \"dialect_region\", \"id\", \"sentence_type\", \"speaker_id\"])\n",
    "\n",
    "from datasets import ClassLabel\n",
    "import random\n",
    "import pandas as pd\n",
    "from IPython.display import display, HTML\n",
    "\n",
    "def show_random_elements(dataset, num_examples=10):\n",
    "    assert num_examples <= len(dataset), \"Can't pick more elements than there are in the dataset.\"\n",
    "    picks = []\n",
    "    for _ in range(num_examples):\n",
    "        pick = random.randint(0, len(dataset)-1)\n",
    "        while pick in picks:\n",
    "            pick = random.randint(0, len(dataset)-1)\n",
    "        picks.append(pick)\n",
    "    \n",
    "    df = pd.DataFrame(dataset[picks])\n",
    "    display(HTML(df.to_html()))\n",
    "\n",
    "show_random_elements(timit[\"train\"].remove_columns([\"file\"]))"
   ]
  },
  {
   "cell_type": "code",
   "execution_count": 5,
   "metadata": {},
   "outputs": [
    {
     "name": "stderr",
     "output_type": "stream",
     "text": [
      "Loading cached processed dataset at /home/slzhang/.cache/huggingface/datasets/timit_asr/clean/2.0.1/66d672b7070257726bc9e76100d06d3e342aa6c37aed742803302c293540e96d/cache-b88dbc8ee61360f1.arrow\n",
      "Loading cached processed dataset at /home/slzhang/.cache/huggingface/datasets/timit_asr/clean/2.0.1/66d672b7070257726bc9e76100d06d3e342aa6c37aed742803302c293540e96d/cache-957c31b128545f2d.arrow\n"
     ]
    }
   ],
   "source": [
    "import re\n",
    "chars_to_ignore_regex = '[\\,\\?\\.\\!\\-\\;\\:\\\"]'\n",
    "\n",
    "def remove_special_characters(batch):\n",
    "    batch[\"text\"] = re.sub(chars_to_ignore_regex, '', batch[\"text\"]).lower()\n",
    "    return batch\n",
    "\n",
    "timit = timit.map(remove_special_characters)"
   ]
  },
  {
   "cell_type": "code",
   "execution_count": 6,
   "metadata": {},
   "outputs": [
    {
     "data": {
      "text/html": [
       "<table border=\"1\" class=\"dataframe\">\n",
       "  <thead>\n",
       "    <tr style=\"text-align: right;\">\n",
       "      <th></th>\n",
       "      <th>text</th>\n",
       "    </tr>\n",
       "  </thead>\n",
       "  <tbody>\n",
       "    <tr>\n",
       "      <th>0</th>\n",
       "      <td>get a calico cat to keep</td>\n",
       "    </tr>\n",
       "    <tr>\n",
       "      <th>1</th>\n",
       "      <td>the irate actor stomped away idiotically</td>\n",
       "    </tr>\n",
       "    <tr>\n",
       "      <th>2</th>\n",
       "      <td>it's impossible to deal with bureaucracy</td>\n",
       "    </tr>\n",
       "    <tr>\n",
       "      <th>3</th>\n",
       "      <td>the news agency hired a great journalist</td>\n",
       "    </tr>\n",
       "    <tr>\n",
       "      <th>4</th>\n",
       "      <td>quince seed gum is the main ingredient in wavesetting lotions</td>\n",
       "    </tr>\n",
       "    <tr>\n",
       "      <th>5</th>\n",
       "      <td>birthday parties have cupcakes and ice cream</td>\n",
       "    </tr>\n",
       "    <tr>\n",
       "      <th>6</th>\n",
       "      <td>she had your dark suit in greasy wash water all year</td>\n",
       "    </tr>\n",
       "    <tr>\n",
       "      <th>7</th>\n",
       "      <td>we got drenched from the uninterrupted rain</td>\n",
       "    </tr>\n",
       "    <tr>\n",
       "      <th>8</th>\n",
       "      <td>don't ask me to carry an oily rag like that</td>\n",
       "    </tr>\n",
       "    <tr>\n",
       "      <th>9</th>\n",
       "      <td>they find deep pessimism in them</td>\n",
       "    </tr>\n",
       "  </tbody>\n",
       "</table>"
      ],
      "text/plain": [
       "<IPython.core.display.HTML object>"
      ]
     },
     "metadata": {},
     "output_type": "display_data"
    }
   ],
   "source": [
    "show_random_elements(timit[\"train\"].remove_columns([\"file\"]))"
   ]
  },
  {
   "cell_type": "code",
   "execution_count": 7,
   "metadata": {},
   "outputs": [
    {
     "data": {
      "application/vnd.jupyter.widget-view+json": {
       "model_id": "2e2dc7a810a9443a895d5f99820bac09",
       "version_major": 2,
       "version_minor": 0
      },
      "text/plain": [
       "  0%|          | 0/1 [00:00<?, ?ba/s]"
      ]
     },
     "metadata": {},
     "output_type": "display_data"
    },
    {
     "data": {
      "application/vnd.jupyter.widget-view+json": {
       "model_id": "a4de7ff5ce37427fae4829089d651f1b",
       "version_major": 2,
       "version_minor": 0
      },
      "text/plain": [
       "  0%|          | 0/1 [00:00<?, ?ba/s]"
      ]
     },
     "metadata": {},
     "output_type": "display_data"
    },
    {
     "name": "stdout",
     "output_type": "stream",
     "text": [
      "30\n"
     ]
    }
   ],
   "source": [
    "def extract_all_chars(batch):\n",
    "  all_text = \" \".join(batch[\"text\"])\n",
    "  vocab = list(set(all_text))\n",
    "  return {\"vocab\": [vocab], \"all_text\": [all_text]}\n",
    "\n",
    "vocabs = timit.map(extract_all_chars, batched=True, batch_size=-1, keep_in_memory=True, remove_columns=timit.column_names[\"train\"])\n",
    "\n",
    "vocab_list = list(set(vocabs[\"train\"][\"vocab\"][0]) | set(vocabs[\"test\"][\"vocab\"][0]))\n",
    "\n",
    "vocab_dict = {v: k for k, v in enumerate(vocab_list)}\n",
    "\n",
    "vocab_dict[\"|\"] = vocab_dict[\" \"]\n",
    "del vocab_dict[\" \"]\n",
    "vocab_dict[\"[UNK]\"] = len(vocab_dict)\n",
    "vocab_dict[\"[PAD]\"] = len(vocab_dict)\n",
    "print(len(vocab_dict))"
   ]
  },
  {
   "cell_type": "code",
   "execution_count": 8,
   "metadata": {},
   "outputs": [],
   "source": [
    "import json\n",
    "with open('vocab.json', 'w') as vocab_file:\n",
    "    json.dump(vocab_dict, vocab_file)\n",
    "\n",
    "from transformers import Wav2Vec2CTCTokenizer\n",
    "\n",
    "tokenizer = Wav2Vec2CTCTokenizer(\"./vocab.json\", unk_token=\"[UNK]\", pad_token=\"[PAD]\", word_delimiter_token=\"|\")"
   ]
  },
  {
   "cell_type": "code",
   "execution_count": 9,
   "metadata": {},
   "outputs": [],
   "source": [
    "from transformers import Wav2Vec2FeatureExtractor, Wav2Vec2Processor\n",
    "\n",
    "feature_extractor = Wav2Vec2FeatureExtractor(feature_size=1, sampling_rate=16000, padding_value=0.0, do_normalize=True, return_attention_mask=False)\n",
    "processor = Wav2Vec2Processor(feature_extractor=feature_extractor, tokenizer=tokenizer)"
   ]
  },
  {
   "cell_type": "code",
   "execution_count": 10,
   "metadata": {},
   "outputs": [
    {
     "name": "stderr",
     "output_type": "stream",
     "text": [
      "Loading cached processed dataset at /home/slzhang/.cache/huggingface/datasets/timit_asr/clean/2.0.1/66d672b7070257726bc9e76100d06d3e342aa6c37aed742803302c293540e96d/cache-74d3b8e6dc352907.arrow\n",
      "Loading cached processed dataset at /home/slzhang/.cache/huggingface/datasets/timit_asr/clean/2.0.1/66d672b7070257726bc9e76100d06d3e342aa6c37aed742803302c293540e96d/cache-6c7d2671723cd6e0.arrow\n",
      "Loading cached processed dataset at /home/slzhang/.cache/huggingface/datasets/timit_asr/clean/2.0.1/66d672b7070257726bc9e76100d06d3e342aa6c37aed742803302c293540e96d/cache-4e158e336671bd11.arrow\n",
      "Loading cached processed dataset at /home/slzhang/.cache/huggingface/datasets/timit_asr/clean/2.0.1/66d672b7070257726bc9e76100d06d3e342aa6c37aed742803302c293540e96d/cache-cd59151092b0bcee.arrow\n",
      "Loading cached processed dataset at /home/slzhang/.cache/huggingface/datasets/timit_asr/clean/2.0.1/66d672b7070257726bc9e76100d06d3e342aa6c37aed742803302c293540e96d/cache-2a192eaa3342b134.arrow\n",
      "Loading cached processed dataset at /home/slzhang/.cache/huggingface/datasets/timit_asr/clean/2.0.1/66d672b7070257726bc9e76100d06d3e342aa6c37aed742803302c293540e96d/cache-ba62e93ee642a121.arrow\n",
      "Loading cached processed dataset at /home/slzhang/.cache/huggingface/datasets/timit_asr/clean/2.0.1/66d672b7070257726bc9e76100d06d3e342aa6c37aed742803302c293540e96d/cache-426e894ea0cb2bab.arrow\n",
      "Loading cached processed dataset at /home/slzhang/.cache/huggingface/datasets/timit_asr/clean/2.0.1/66d672b7070257726bc9e76100d06d3e342aa6c37aed742803302c293540e96d/cache-065d488a7f485a1d.arrow\n"
     ]
    }
   ],
   "source": [
    "import soundfile as sf\n",
    "\n",
    "def speech_file_to_array_fn(batch):\n",
    "    speech_array, sampling_rate = sf.read(batch[\"file\"])\n",
    "    batch[\"speech\"] = speech_array\n",
    "    batch[\"sampling_rate\"] = sampling_rate\n",
    "    batch[\"target_text\"] = batch[\"text\"]\n",
    "    return batch\n",
    "\n",
    "timit = timit.map(speech_file_to_array_fn, remove_columns=timit.column_names[\"train\"], num_proc=4)"
   ]
  },
  {
   "cell_type": "code",
   "execution_count": 11,
   "metadata": {},
   "outputs": [
    {
     "data": {
      "text/html": [
       "\n",
       "                <audio  controls=\"controls\" autoplay=\"autoplay\">\n",
       "                    <source src=\"data:audio/wav;base64,UklGRvLAAABXQVZFZm10IBAAAAABAAEAgD4AAAB9AAACABAAZGF0Yc7AAAA3AFMAGwDJ/8n/1//z/ykAUwBhAFMA8//X/ykARQBFAFMARQBTACkAAACf/8n/yf8pACkA5f+t//P/DQDX/w0AAAANACkAAADz/9f/8/83AEUAGwApACkAUwA3AEUARQA3AJ//1//l//P/1/+t/+X/GwBFAEUARQAbAPP/KQBTADcAKQBFAEUADQDl/9f/NwBFAEUAKQAAAPP/5f8bAFMARQBTADcA5f+f/7v/DQBTADcAYQAbADcA1/8AAFMARQBTAEUANwDz/wAAGwBFAEUA8//l/w0AAAAbAFMAYQBTADcAUwAbACkADQBFAEUARQApADcAKQBTABsAUwBFAFMANwBTADcAUwA3AFMADQDl//P/8//X/7v/AADX/+X/AAANAAAANwAbABsARQAAADcAGwDX/wAADQAbADcADQBFAA0AGwAbAEUADQApAFMANwBTACkANwAbADcAUwBTAGEARQBFADcAUwDz/wAAUwBFAEUA8/8NAOX/DQAbADcAyf/z/w0AAADJ/0UAKQApAA0A5f9FACkAUwA3AEUAGwBhAAAAKQAbACkAUwA3AAAADQDl/xsANwApACkANwBTAEUAUwBFAG8AfQBTAFMAKQAAAPP/AAANAAAAGwA3ACkARQBvANAA3gBvADcA8//X/7v/g/+D/5//5f/z/63/1/9FAEUAUwApADcAGwA3AMn/rf/J/9f/GwBFAEUARQBhAJgAiwBFAEUARQBTADcANwAbAAAA8//X/ykARQBFACkA5f/z/8n/DQAAAAAA8/+7/+X/yf/X/+X/RQA3AFMAGwApAAAA8/8NAOX/5f/l/9f/yf/J/+X/5f8pAEUARQApAPP/8/8AACkAKQANAFMARQBFAEUARQBFAG8ARQBTAEUARQBFAEUARQBFAA0AAAANAOX/AAA3ACkANwANAAAADQA3ABsARQBFAEUANwDl//P/KQBTADcAUwAAAA0AGwDl/wAAGwANABsA8//X/+X/AAA3AEUAGwBTABsARQBFAEUARQBTADcAUwANAEUANwA3AEUAUwApAAAAAAApAAAANwANACkA5f/l/+X/5f8AAOX/GwANANf/8/83AEUARQBTAEUARQBFAEUARQA3AOX/5f8bABsAGwDz/w0AKQApAEUARQANAFMAKQA3AEUADQAbAAAARQBFAEUARQBFAFMAUwAbAEUANwAbAFMAAABFAOX/KQBFAEUARQBFAEUANwApAFMANwApACkADQDl/8n/AAAbACkARQBFAFMARQBFAEUARQBFADcA8/83ACkARQANAEUANwApACkAKQAAACkAAAA3AEUA8//z/w0AAAA3ACkANwBTAEUAUwBFAEUARQBTAEUAUwApANf/RQBFAFMAGwApACkANwDz/xsAAAAbADcA8/83AA0A8/8AABsARQApAAAANwDz/w0ANwBFAA0AUwApACkAKQAAAEUARQAbAFMADQA3AAAAUwA3AFMAGwANACkAGwAAAA0A5f/X/9f/5f8AAAAADQANAAAAGwANACkAGwBFAA0ANwApAA0ARQBFACkAKQAbADcADQANAAAA1/8NADcA8/8AANf/GwDz/xsA8/9FACkAGwAAACkAKQANAFMARQBFAEUARQBFAEUARQBFAEUAAAApACkAGwA3AA0A8/8NABsAAAAAABsARQBFACkARQA3ACkAUwA3AEUARQBFAEUARQBFAEUARQBFAEUARQAbAEUARQBFAEUAUwAbABsADQAbACkAGwANAA0AKQA3ACkAKQApADcARQAAAAAAGwA3ACkAKQApAFMANwBTAA0ANwBFACkANwApAA0ADQAAADcAGwBTABsARQA3ACkAKQA3AA0AKQBTAA0ADQANADcARQBFAEUAKQA3ACkANwApAA0ARQA3APP/RQAbADcAKQA3ABsAUwANAEUAKQA3AAAANwBFACkAUwAbADcAKQBTADcAUwA3AFMADQBTACkANwAbAA0AGwANAA0AGwAAADcARQAbAFMARQBFABsAUwAbAEUARQBFAEUARQBFAEUARQBFADcAKQApAAAAUwAbAEUANwAbACkAKQApACkANwAbADcARQAAAFMAAAA3ACkARQA3ACkAGwApABsARQApADcAGwAbADcA8/8NABsAUwANAA0AKQA3APP/DQANAPP/AAAbAPP/GwA3AAAADQAbAPP/8//z/+X/8/8bAA0AKQANAA0AAAApAA0AGwApACkAUwAbACkAUwANADcAAAANAA0ARQAAABsAKQANADcA8/8bACkAGwApAAAARQAAAEUADQAbADcA8/83ABsADQAAAEUADQApAFMANwApACkAKQApAA0ARQANABsARQBFAFMADQBFACkADQBhAA0AUwAbADcARQAbAFMANwBTADcANwApAA0AUwApABsANwApAFMAKQA3ABsAKQBTAA0AUwAbACkAUwApABsAUwANAA0AKQApABsARQANAFMANwAbAEUARQAbAEUAAAANAA0AGwApACkADQBFACkANwAbAAAAYQANAEUAKQApAFMAGwBFAEUAKQANACkANwAAAEUANwApAEUAKQApACkANwA3AFMAKQA3AFMANwApAEUARQBFAEUARQBTACkAKQApADcAKQBTABsARQA3ACkARQBFADcAKQApADcANwAbAFMADQBTACkANwBFAEUANwBTADcANwApADcANwApACkAGwApACkAGwBTADcAUwANADcADQBTABsAKQBFAA0AUwBFAEUARQA3ACkAKQAAACkAKQDz/1MAGwApACkAKQA3AA0ADQBTADcADQANACkAGwANAPP/KQApAA0ADQANAAAAGwANAAAAGwANAA0AGwAAADcAGwAAAA0AAAA3APP/KQBFABsANwDl/ykARQAAABsA8/8NAAAA1//z/w0AKQAbAPP/KQApAPP/5f9FAPP/KQBFAPP/AAApACkAAAANAAAADQA3AAAA8/8bAAAANwAbACkAKQApAAAANwBFABsARQDz/0UA8/8bACkADQAbABsARQA3ADcAGwApAFMANwBTACkANwAbAFMANwApADcAKQBFAEUARQBFAEUARQBFAEUARQA3ABsAUwBFAEUADQA3ACkANwBTACkAGwBFACkAUwAbACkAGwAbAPP/NwApACkAUwA3ABsAKQApADcAKQAAADcARQDz/zcAKQAbADcAKQBTADcAKQA3AA0ANwBTACkAKQBFABsAUwA3ADcAKQAbACkAKQBTABsARQAbABsANwApAFMANwApAFMANwAbAEUARQA3ACkAKQApAEUAGwBTADcAKQApADcARQApAEUARQBFAFMAKQApADcANwBTAA0ANwBFACkARQBFAEUARQBFAEUARQBFAEUARQBFADcAKQBTADcAKQBTACkARQBFAEUARQBFAEUARQBFAEUARQBFAEUARQBFAEUARQBFAEUARQBFAFMAKQAbAFMANwBFAEUARQBFAEUARQBFAEUARQBFAEUARQBFAEUARQBFAEUARQBFAEUAUwAbACkAUwApADcARQBFAEUARQBFAEUANwA3AFMAGwApADcAKQBTAPP/KQAbADcAAAAbADcADQBFAPP/RQAbAPP/AAA3AA0AAAANACkANwApADcAKQBFADcADQA3ADcANwApADcAKQAbAEUAKQA3AAAADQA3AA0ADQA3ACkADQANABsAGwApADcAKQBTAA0ADQBTABsAGwA3AAAARQAbACkAKQAAACkANwAbAFMADQBTACkANwApAEUARQAbACkAKQA3ABsARQAbAFMANwA3ACkANwApABsANwApAEUARQDz/zcAGwApACkA8/8pAA0AUwAbABsANwApACkADQBFABsANwApABsAKQANABsANwA3AA0ANwBFACkAKQAAACkANwANAAAANwApACkANwA3AFMAGwANAA0ADQANACkAKQA3ABsAKQA3ABsAGwAbADcADQAbADcANwBTAEUAGwApACkAKQApAFMARQBFAEUARQBFAEUARQBFABsAUwAbAEUANwApADcAKQA3ACkAGwA3AFMADQAbAFMA8/83AEUAKQBFADcADQA3AA0AUwA3AFMANwAAAAAANwAAACkAKQAAACkARQBFAA0AGwBTACkAKQAbADcANwBFABsANwDz/0UAAAAbABsARQAAADcAKQA3AEUARQBFABsARQApACkAKQApADcARQBFAEUAUwAbAEUARQBTABsARQA3ADcAGwAbADcAAAANAA0ANwAAAEUADQANADcAKQAAAPP/DQDl/wAANwAAAAAA8/8NABsA5f8pAA0AGwAbAA0ANwDl/wAARQA3ACkAKQA3AAAAKQBFAEUANwApABsAKQApACkANwANAA0AGwANAEUADQA3ABsAGwA3AAAARQA3AA0ARQDz/xsADQANAPP/NwANADcAGwA3AA0ANwApADcADQApAFMARQBFACkAAABFAEUARQBFAFMAKQA3ABsANwBFAEUARQBFAEUARQBFAEUARQBFAFMANwApACkANwBFAA0AUwBFAEUAGwBTABsAGwBFAA0AKQA3ACkANwApADcAUwAbACkADQBFAEUARQBFACkAUwApADcAUwApADcARQApAEUARQApAEUANwApAFMAKQAbAEUARQA3ABsAUwANAFMAGwApAFMANwApAFMARQBFAEUARQBFAEUARQBFADcAUwAbACkAKQApAAAARQA3ABsANwApACkAKQApAEUAGwBFAEUAKQANADcAKQBTABsAUwBFAEUARQBFAEUAUwAbAFMAKQA3AEUAKQBFACkAKQAbADcANwANAAAANwBFAEUARQApACkAKQA3AFMAGwBFAEUAUwAbAEUANwApAEUANwA3ACkARQBFAEUARQApAEUANwAbAFMANwAbAFMADQA3AFMAKQA3ABsADQAAADcARQAbAFMAKQA3AA0AKQA3ACkADQAbAPP/DQAAAA0AAAApACkA5f83ABsAGwAAADcAAAApACkADQAbAA0AAAANAPP/AAApAAAADQDz/ykADQANAAAAKQAbAAAANwAbAGEAAAApACkANwAAACkAKQANABsAKQANAA0AAAAbACkAKQBTACkAGwBTAAAAUwAbADcARQANAA0ANwBFABsAUwAbACkAGwApAPP/UwApABsAUwA3ADcAKQA3ADcADQA3ACkANwA3AA0ARQAbAFMAKQA3ADcADQBTAEUARQApAEUARQBFAFMAGwApACkAAABFABsADQA3ABsAUwAAADcAKQA3ABsAGwA3ACkAUwApADcAGwBFADcAKQBTADcARQBFAEUANwBvAH0AbwBTADcAUwAbANf/yf/z//P/DQDX/xsANwANAFMAKQANACkANwAAAEUAKQBFAEUAGwBFADcAKQBTABsARQBFAEUARQBFAEUARQANAEUARQBFADcADQBTADcAUwApACkARQBFAAAA8//z/wAA5f/X//P/AADl/+X/1/8NAOX/8/8NAOX/GwBTABsARQANACkARQAAADcADQAAADcA8/8NAFMANwDz/w0AKQC7/w0ADQAbAFMADQBTACkAAAApADcAGwA3ACkAUwDz//P/DQDX/ykA8/+7/ykAGwAbADcAAAAAANf/DQBTAAAAGwAAAOX/8/8NADcAGwANAA0AKQA3ABsADQA3AAAADQAAAA0Ayf8NALv/yf8AAK3/1/8bAAAADQApAEUAGwBhANf/DQAAAA0Ayf/X/wAA5f/l/wAAKQDJ//P/8//X/63/8/9FAAAA8/8pABsAKQDz/9f/AAC7/xsAKQCt/7v/8/83ABsA8/83AGEARQB9AA0ADQDJ/8n/DQB9AOX/Wv8NALQARQANAA0AfQB9AGEADQC7/9f/AABhACkArf83AAAAiwCmAH0AJAF1/5gAmACLAA0Akf8bAOX/1/9o/+X/AACR/zEBAADQAFMAdf+LACkAiwDl/5H/GwDl/0UAKQCR/7QARQA3AJH/aP+D/wAA0AD6AGEANwA3APoAn//X/ykA+P5a/4sAAADJ/63/tADsAIsAwgBFAKYAn/+R//P/n//J/z7/GwDz/9AAtADX/6YAbwANADcA8/9o/5H/df+D/0UArf8bAJgApgBhAG8A3gB9AAAAUwANAK3/YQApAH0ANwCt/9f/KQDl/63/GwC7/+X/rf/z/6YAmACmAN4AtABvADcAbwBTAPP/KQB1/4P/aP/J/94AWwHCAG8A7ACmAAAADQAAAEz/n//X/4P/Wv9M//P/YQANAFMAKQDl/7v/AADQAGEAUwBFAFMADQCt/zcAUwBFACkANwBhAOX/u/99AIsARQCmAFMA1//X/5//5f8AAOX/5f8pAA0Adf83AEUAKQB9AIsAfQApAOX/RQB9AEUAAAA3ADcAWv9a/zcAAABhAG8AYQBhAEUAfQCmAH0AiwBTAGEADQC7/7v/1/8NAGEA1/91/5H/kf/CACQBwgBR/vj+pf4w/4n+X/76AJgAFP8+/0z/TP+R//oA2AGmAAAArf8IAT8BNwAxAZsCJAFhAMIATQFhAFMAJAGFAX0Akf/l/30ATP/J/+wAbwAU/yL/rf+t/0z/yf9hAA0ATP+D/1MAyf9a/30A0ABhAHX/5f9TABsAAAA3AA0Akf+f/2EAKQCR/2j/GwBFAA0ATP9o/0z/kf+f/28AKQAi/0z/bwANAHX/u/9TADcAAADCAJgAu//X/z8B+gB9AH0ApgAbACkA0AAWAbQAiwBvAKYAtABvAIsAtABhAG8A7ABTAMn/u/+YAJgANwDz/+X/rf+R/63/NwB1/2j/df+7//j++P6R/1r/Bv91/1r/l/5t/hT/kf9a/xT/6v5a/zD/Wv9a/9f/rf+t/5H/1/+R/+X/YQBvAG8AYQDeAAgB+gB3AR4CvQG9AToCmwL0AY0CCgP8AnECcQK3ApsCfwIeAh4C5gGvAU0BaQHCAIsAUwA3AGj/MP8G//j+s/5R/vD9xv1X/RH9c/1J/V38Cfx4/N/7jPuM+7b7AfsP+5r7cPt2+kz6yfrl+qD6D/vE+1T7fvt4/EP+FP+0ABgD4wTQBfQGEgndClUMvg2EEIQQLQ6aDBIOsA2aDMoLygu/CN4FdARYBNMCmAAG//D9YvuB+Hn3Cveu9Xz0B/U29LHyCvKC84r0tPRg9Hz0q/Mg87T0BPhl+Ef2RPTC9Hz0W/VV9g/2q/Mg8//zsfdgCiMhFhfH+Cj5CBcjIaQZ2x6mIB0M4AfyGiMhnQ6YCioWgxVKBF38Q/6l/lH+AgLq/g3vUeO95qvzSvgs8QXpN+py7Kns4PF8+f74D/bM/EgC/v2o+1IFbQ/BDx0MYwzdCvYIZQ5iFj0Vtgy5CaUKxwlHB3EHKweCBH0AX/7M/MH54/jl+t/7jfYK8jrxWPMp9H/2cfYV9V7yufNx9v74UvmJ+T76B/ql+Wj6Cfy+/Lj9O/3o/E/8sPz2/K3/JgN8CioRRwxeA/8E/g6AE0kTZRP+DusFRwdJDv4OhwgQBzkHrASmAGj/df+f/5//Pv+2+2P2pvSB+Dv9H/1g+Wv3LvjP+cz8wgDKAdf/FP8NACL/kf+hAY0CKQDf+773K/Z591f4vPV/8e/s+Ohf6JHpr+aG4avd9/IpIJAfFuYNz2kG4imbHWwZDydbBkH3Jh5sPqwfXQjQG6gnVBHTAlUMUg/KC5QNcAxu9AHgsujJ/40HP/VE3oTay+b066HwOfY68fDilugw+tX4P/DB+ccJAgd7/sH+uQQ5B88Plhn4FIoFCAH7DCoWuxVRFOoUmgw0AzcFUg/oDbQFiAM0A7v6h/ca/k0B6/kp9Cn0ZvN38ODxmvaN9pPweu0p76bvKe/p8gH2CvJp62Tsk/DF8fzxwvTd+WkBKArSDPkFEAKuC54aPR8OG/AT8xBUERkZEB16GW0PKwySC64LTQa3At4Ayf8J/Lb2m/FL7m/vZvO09A3vsugF6bTv3fQP9sr1dvUK93D7kwEuBKAGUg/qFEwQFQsREyEaABstGAAWOQwQBxoKwQrvAuX6K/Yg88LvFutI59zjauG53VraytWN0anR29fK9fAT8P2OzE/X3BQxJiQX4Rg6HZ39ZgmZNgRECBzyFc8qRCqiEl8UAiI6HXsUwxF/B4Xwze0AAHwK+/u24IrUbd6A7I3smeoy5gnco9cL6Af1NO216tL2Gv4V9YT1pgD/CTkMOBHRES4JWwZOEjEhnh+ZFp0O4g74D7sV2RwLHqgRBQTQBaUKWAnhAjcFV/0u82bu9PUu87TvL+407ZnlxuI656/rU+pZ5JziV+Iw5K3k/ecf5+rjJOZM/ykgrRXh7EDrQh7qNCkl7x00IxoP1A7UMyA/5BprCKkdxSI7DjcFOw4aCpgANv4o+Uvp9eGK70z6MfAx2sfTrd8L7Xrtp+q66SrlFua09GMCzPza9xACcAw2CqsJXxT3GV4ZZxp5I64hUxsnGXEimCDWFXkN6A1YCfQBdf8X/GPxeuje6lPq8OLg2+Db3dnm1dXT3tSe07rOL87S29sDyRVh7yTLW/DVKSgqJBwQIjIcHgLSItpNOULDFpAfgDMrJ7IULx8VJosWJQ2/CAn8COu/8mwDIv9n5JbNCtKX4wLse+Oz3tvXm9Gz2frvTfWA533qNvkl/Ob1pgDiDrURPhA7E4ATjw4yF5AkLikcG74SlxQWHNkc0xiqE+AMtgeSBsQMPwb7+2P26Px59+zvsu0Y8r/tTusI62zo8uRW55vsvetA5tTiA+cW6wjreugv6cbniOhs8mIWqCeVA7ndiwDDNvsxZxrIH70c9AEpG8pBJDLxBJQNiiDGE28ABwtoEOEC/vjg9i/ureSA7Gj6mvYl4R7RrtpT7yv2AuwZ6P3n++X37b0BwgVK+N35sQiYCnoDVQxRGU4X0REcFu8YtRGGEmQd3iAnFJcPLROREHkIDwxlDqkCCvdX+HD7P/U/8P3sdekM447iCebv55/foNqw3K3fCdzo3AbfRN6O4soL9CEa+ZDOcPsFOpQywxabHcscowO0JUNP3juNBzsThCtHIocNbxakGZgKGwCi/BX1y+ub8aL82PX827vJq9gj8PzxD+BP3IfcM9wL6C39ovzy6f/uWwGKBUz/pQrkFbgTcw5zE5kWPRVAHEIjEx/rD5gKjBHqGfsWxAwaCkoJygEP++4HNg8o/ljukPPM91PvivTj+A3vKuBD6HrtJu2D6YDsKuot5zDkSOck6y/psuNZ5GTscwnYJtcL7tv97H4x2TfnHCQXtRt9AIYX7kJeOesF9AYbIMAZxAdjDIwRIQQ7/W75P/DO6NjwYvu89QzjENGr2ObwVPtb69/gWeQJ5tbudwFNBvHzUPKeBPkKxwRMC0AXnBNzDj4QOxMcEZQXfx2GF3wKZgSBCTAQjBEuCdMCvvy5+Br5ygEeAuD2EPH09Zr2v/LM9/D9YPnu8XTzh/dX+M/5Oft/9rTvCvIi+kH8bvTs73zviO1W5/LpZvPkFZUo8P2Fy4jtZzVOMgwUvg2PCRbrBhVgReIuG/QU/7UWjAyVA5QSDxGw/FL5KPlN8HzvePwNBbH3g+Su1a3kaP/mBvzxn+Th51PqnfhoC3YLVfFV8V4DPAmVAzMNSxXHCUoEBAnMDbwL6hR4F2MMdf8i/yYIpQ97D+YBZfiu9df6pf6pAv79VfGW7S7zSvgH9Qf6aQFD/r/yZvOTARUL+wzEBxgDdf//BKgRBhV2Cx/9MPqq/WAFbgUCAhLzmeoQ7Nvynu4U5M/ePt/08IsWwQqV0svGThJXLswN3fkHC0T5CfyDMFY4/wQF8xYc+iBED4wMJBd5DSAJSgk+/yL6yf8mCCEE6Pdt4+3gWvpPCBj3CeHv54XryO7X+jwER/Fw5cf4ggSd/XD7SglHB0gC6QPaCGYJvg17FHsP0gcYAzQIWhDqFIoK6v5M/7cC6QOVA7kEaPpY83/2lPxK+E31x/gz9ybym/HS9hL4WvpP/Hb6Cvf++IsAigrDEawEXfeYAOoZyBr+DuMJ4g4gDm0UQBdBDeECPARVB6X+1fNj8YH4R/bD6lfdIN1M337gSd1j1hrZggSfELvfIr8t/fkqDBQ8BB8T7wKQ87guO0mWHjD6ABvPJWEb3BmYIFcTpQpBDfcDX/7l/3ECkf/++GLlttb066YAivSa2yLfuOLa4QryFgE08uveTfD6AJH/X/7VCdUJBQTHCXMOkRBJEw4bDhatEMoLcAzMEhMahhI6AikAGAMKA68BzQM++pbtpu/S9qb0N++x8oXw2esQ7PzxG/TY9fn5c/ju9v74NwC5BAQJTwhYBGAF+QqzD90PfhG+DdUJ/wnGDkkOswqxCJgFvQE3AMoBfQCd/Xb6a/eY9G70BPg2/hsAIPiN8Wj6igUdBxACTQFt/tz+kwG3Arv6h/d++3j87vZL7r3rOuyy7RbmLeKd/cQnfwf6ygrXaygUK74NBwvREaToNAO0QDg2MPo5+9MYbQ/jCZQS8xC9AakCfvvb8mX4gf0R/Tv9CvJd10ndJAHEBw3vkeQm7ZboCvJYCSML/PEN714DPwYbBUwLohKjCGsIBAndCo8O5BVXE2AKdwaYACYDEg5GEeX/P/Xw+LP5z/k+/0z/W/BO617ytvZN9V33YPkN9FjzY/ao+9z+xQJjAkz/n//YAQIH1wuPDpsH2wMHBjELTAsPDDEL1QQxAfwC0AV6A1YCNwAX/NX4UvlU+/P65fra9+v0RPQY9+v5R/sX/KL8EAKYACX8sPw2Cp8QNg9aC+AMPgslDUwQyRD2CFr/GvnJ+tr8bvnF8brpjuLz37bgYN6S2sfzLxpP/G3Dzs0NIPwnjw7QBUENvetVBxVByDpNBpMBZxrWFW8WWRpGFqUK1Qmd/ab0Bv/eAJT8a/w08mDUdNhd/BgD5+u73zLm7eBQ7V4DIwaN8c3tj/00A8QHCQ1BEkcMog0jCzkMJxRvG2oXNg/zC+ECvwPrDycUqQLS9jz4rvXE9vb8Ef007fjoUO0x8EfxHfa89djwUPLC9Gv3KP5SBdsDmAAYA5AEtgc2D4kUlA3EB1IKJQ2UDQwPew8CBx4CfwITBAICFgFa/275hPW09PT1R/bM9031t/Hm8FjzD/Zu+UH8IvqB+Ef7GwD8AmAFRweKBf8EOQduCloLOQx2CyAJOQc5B3EHEAc/BogDNwDU/Y/9gf0E/d/78Pjg9jn71QSLADb5jPvdChoKOQcmA/wCO/0eAncBDPn/80H3cfZb8ALsWeQG5CLku9+q4kMZoCa95uO42AHAOS8fLQ7IGuEC/eedKQ9HpiAo+agRbQ8HC74NgQ6QBJsHs/7L5oXrYPmj8rb2Gv6R5IbGfeUjBnv+d+uF8MXsX+iD/4wRIwuw/IgDEAdoC8kQdRXJFaUUVBFgBYEJYhEnFA8M1QnX/1DyBPhuBaMDdPMj8I3sHOqY76v4kvUv7orvfO/b8rn4u/8+/3cBjQIw/2MCoAsXEi0Ocw6gC08IYAozEqISIwt3BogDSALYAUoEkwHt+773P/VS9D/1a/e89Yr0sfKb8b/yvvcJ/N/77fu2+0n91/98BZUI4AfKBvQGGAirCeAMDwzdCiYIkgaQBDEG4wnGGA4W4v0k63cBbRQXDUP+8PjF8f/uc/2M+wXusOEL6J7pk+sJ4YzbFN8M45jZ8djoDec34wnWyQ7qHj2nNrQl2ii2J//utRaJSts+wgVPDYATSgRjAvwCQfxH+yX8KN6601/jauHc4432CPClw+fLD/YYA133VPs7/d7vdf+nFlgfexRvFjIXmRYTGksaAh3FHc0eIwubAnQEtgfvAqkCe/5D6CLfWenC9PTrzuhW5zjgJeEZ7Y32nfM2+cH5u/pR/pUIfgwBEToYxhM7DtcQXhktGIAYFhcgDlIFMQbHCf8EPwFU+1v1fO8j8K7wfO8b7+Hs+uoO6nTujfFV9nb67fu7+vD95gayFCEfUB7yFVQRpRQIHCAk9CEZFH8Cdf8pAJsCrvrT8a3k199M2pjZadWC04vPEczRxYzFxuePKXEiDN4OxdMdwUUvOokvSD2tEEoJLkQkV3AsMxJxIn4RLgmt/4z7R/ahAezqk8sRzJvR9NBD4/fyt9GptnTTUvQw+t35PATE+5r7BA5NIeMk4CJ5KKskRCVeHv8fpiASKXoepQqP/R37Ofvw+DP89+2Y2ZvRDN7U4h3gDOOG4aXeF+Fm7lL0M/xFBQQJ6AhwDHsUSBipIn8njSLAGaQZKRvnF/0YexTPCpH/bAOvAc/5tO9K80/3LPHZ5k/hb+rj84n5CvJ07nLsxfGS+psCBv9j9pX3H/0w//n5q/P37ezvPe6l41zmPisIUrsQ4LuA7BBCWTpKJIQr8hWS1ZgFEDigK4LzbwCu+jb0WO6A7K/mQfx/Arbg0NQ74gnhxewfE74S++A52+r+URSGEmwZJBd0BFIFVBEIHK0VwxaMEWUO1QS+/Pn5kwHXC9f/7O+Z5WfpX+iY9Kr9W/XO47XlSvOj90n9IQSjA8n/bAOECz0VNyDFHdYVNxtNJqEcxg77ERQVIwu0ANT9//PZ69DqoetR42jaqdYP237g5d8B25jZ/Nap1kndbOh74/jjshngYlVCX+j75dFR32fDTMJAa0Nd/G3+AzhHQnQEdO4N9Bbm/t1N0F/IqdEq6unS9rwcxSzMJNBK+GwZO/224I/4aRwgKYEuajczLWsjkCSqLpQtbiUNIEMZrRAX/LrucudK83HxZ+Rx0aTNQMt9z/vgHuzq40/cyOl/9iL/QxSZMWw5VynvGPcjrDoPR8s3lypvFj8GNvk/ARL4EefS1q7VcswMw4+9Pr/ix1nJ8MJbukfAp8Uk0Cn0sk9qck0mYNTZHP9/eX5uYMlrCUg2/hAd1E5IOOv5F/w97jbZRL6es46sNc1H1rG316TLsNazOsysBJMcfPlA60oJ+yz1N2JHhlK5SQU6PTXbOWIxTCuSJtghowg97l3XntMu3eveZNGJw1/DVMBRyOLdCPBN8Kr9nQ47DusK0CBtNAM4ETOMLMgfFhwWHNEWoAvX/7/tFOQt4gfVV8KiwQPHxLvvrIGn/axb1QMunFPXC8bHwf6WWWVkuV8aZZFLCRJ+LLhO2EGiEqIS1wsw+nbaD8C5uPTQw+Ayy/e3y7A7rHG7xexuCon58umw/O0WGCM+MJJBR0IIPCE1XjliLDwkhyPHJBEYwgC4537b7+f97PDidNPV0wjLx9Ns7XX/5vCA7A/7hAZzCYkPVBYWF28W4AzxBOkDPARM/3v+f/aG4Z7OQ801yEG8KL7y5NkcEDjlEDXj7O+EK4lKEVNnUPc5NRQDEyssTy2vF5UIKweE+iTmPc4qyv/TzOF+4HTYy8t7w17NSOypB5gK9AFxAokPThxuJdwvFDWXL/wnEiRWHX4Rygu8C48J+gDd+ebwHOrI6crwGPLF7LrpW+sI8Bv0PPgm90T5KP6VAzQDwgCG/J34ufgd+3z5cfGe6XbffNT30krTIsnyyTH1Qy8ERE8oLgl5CPkqTk1hW2dQljkcG08N3xGUEqYAQvJ/8Y3s+dmzw0G8bcP/0/vgveaw4XbaKuCr+GoSUB5eHhgeBCT2LR8zVjPvMyIw8yYxIVYYIwYS+E/3K/tP9y/uwd7x03/W/uLT58jpLeew4eXf4eeN7L/tv/LM99303u8v7lPvFfDW6TDfKN6k6B0HfTZvVvNGTSE4ESklB0G7S5g7vyNzCfP6fO8I6zvij92d3QDlhuFC13rNGNKU5qr9NgoPDJgKBAlEDyQc2ihxJ+kebBlRGS0YBhD3A9r8xPug+k31Ge0W5lHjdemK9Ez6PPir+PD99AHNA78DqQJhAH8CPwbjCfwHWAShAeMEhwh/B0IDGwDB+dvypO0h6aXe7NSh0NjVRNn/2M3SQMsUyX3lUCNLVSlWG0DDNtQz/TMCQmpNkzx6HjwJ8/rL5v/Tcsdvyk3Vgd2r2PfSodAg2FnplQMtGOMfEx8QIscp3yxMK+AnwSVvIHoZ4g5M/xntdeRk56/rMuuD6YjtIPOm9DP3pgAXDZoRqBFtD0wLsQPP/kH8Pvrg9jrxLOwf58nf5tU60YvP5tAh097U99LyzrLNu98+EPZIJWMiZnholWO2R7U27zjONHgXvvyL6v3RVbZDqEuujbuOzMra8un59BT/5gatFfYoajcWPJs9Vj0DMzEh0REmCD7/ivRb69HgK9YZzfrKWc6Y2S/pl/mjCPIVMSG5KbUxkzevPKk4DyclDYn5eu2f5Frf89qH13fVZtjE23jh4edQ7VXxpvTx86bv+Ohl4jPc7tuu2rnYcOAi/7YsBks1VLNKWD8BLM8lkiuRMGMiBwux9wzjQtLUxwjL29LM4XHx1P1jAk0BdwGsBDYPrxyYJa4mPyFFG88Prgad/c/5vPUH9Rv07vEL7XLngOc07T76dwaoEdwUdRXnFykg3SV5I4MahAvQAN/72veT62jf6Nc014/dSOfZ66/rgOzN7RDxz/Qr9uPzS+4F6dzjI9ocyhTErtX+/Wstg1AmWVJKdTWNIlYdRSABJ38iQBf3A5DurtpezR7MW9Xc6Kj7Kww4EYEO/Ae5BB0H9g3RFhAdkB8nGesKa/zC76zpbOgp79Xzc/hd9zH11fMg+BsAHQyvHBoqYjGiMhEufx0uCQr3KuoJ4f7dsNyu2pjZK9tE3nvj+uo08k/31/rz+nn3EPE16NffHtYDzFfHDdSd+BgoNU+gXAVVLj+MJ7IZHxhsGYsWkRBWAkvutttFz9nLOtE74vb3Ow59G54ftRtlE1cOCQ21EYsWwhuAGG0PMQHb8rXlwd5M37vklu0d9sT7kf8sAp4EAgdPDWQY+SUkMsU4ajJvGxr+n+SS1VjToNqG4UDmE+lv6gjr7+w371Dy2veq/coBBv/59N/lWNg1zbPD/r3DxVzmlhnER1hfxV1ESrguLxq7EN8RpxZkGMEPUf7Z6/bcfNSLzxXV9ebP/gMTrB/SIiQchhKBCZgFcQedDicUnBMXDXECR/by6b7hkd9Z5D3uWvqYBVUMqw6EC2YJOQwWF3YmxjPkNcomvAte7SvWw8oky1DS/Nvf5XTuQvKN8f/usu0p7y7zo/cg+BLzRepJ3WzN9sH9x3LnoRdMRoRhe2WkVP04dxwrBx/9F/xo/5//V/2B+Cby3Oji3RXaEeLx878IAh3HKSssKSURGMcJn/9B/LD8NwAKA5AEmwIX/KnxpOjc4zjl7+wM+ZgF3Q/yFWoXVhgpG3QfKSCsGt0PqQKo9gjreOEj2ibX49ga3pHkQOss8fn0Y/Zr9yD4f/b67zrnTN/S1inPls1t3n0AUip7SsVYbFSjQ5QtwxY3Bdr8sPxw+4H4Qfe5+Az51fPT7OHnw+op9KMDfhECHfQh8R9cF0EN+QUbANL74/gi+l380AAxAV/+2vf88e/sqew08hH9NAiUEq8cdCTiKagnyxzVCfz29ebB3qLcYuBU5S/pmeq16pnq7OoC7BntkO5p8H/xCPCv6yrl5dpY0+jXrO6MEYg030z1UtFM9DzSJ+0RqQIa+UfxWO667mP2s/6IA+X/6Pdj8bruzfKS+jEG5RDGGDcbExo4FgYQNAgo/rb28fMz90H8FgEKAxACwf7z+nP4SvgP+23+xQJrCEkOTBAzDZIGKQC7+vT1CvKh8H/xq/NS9MfzxfHx7k7rZOdO5sbnmeqv6wLsteqA54PkPuQb714DQBwDLjo4DTvDNu0sxR3XEBsF6v7E9unyRPRw++8CLgQYA8z8MPpd92X4K/sxAU0GgQkrDEkOrRDBD2gLowOB/RX6aPoz/M/+9AHbAyEEdATHBCkF1QTpA6kCrwF3ASQBkf+G/Br5ivSF8L/tgOzT7C/ub+9v7z/wwu//7jTtCOs16CTm3OOw4eTk0/FNBgAb6CiXL5cvaCsQInIYFBAMCpUDzPxa+vb8ZgQuCW4K/wSt/zD6mva89b733/vq/qkCfAXBCmUOpQ8+Cw0FDQC4/bj9DQAKA9AF/AfaCDwJlQiSBgoDbf4o+aj2jfYu+In5D/sw+o/4K/aK9AXz6fKd84Lz4/Ng9DH1hPWS9avzrvDv7MDoi+Vq5nTu0vvxCRkUwBnCGwUa1hU4ESUNIAkxBtMCEALbA+MJ4g4+EPYNsQg8BOX/4v2U/C39j/3P/voAowMdB/YI4AcuBBYBif7G/cH+PwEKA3wFtgdzCQwKPAlpBrcCDP7r+U/3f/Z/9ib3zPc8+HP4gfgu+Hn37va89Xz0q/Pj8270YPSQ81XxS+536/Lpqey586r98QQMCkENLQ72DWMMFQtrCFsG6QM0Ay4EvwjoDSIQ+A9wDIEJMQb3A0IDfwJxAgICQgM8BMoGGAj8B4oFjQKLACL/rf83AMoBGANmBG4F0AVgBb8D7ACi/KX5Evga+QH7a/xX/Sj+DP4t/bD8xPsV+kr4D/bj8wXzLvOx8hjyEPHx7kjsJOvF7KnxufhD/oUBNANjAk0BfQBxAvQB7wI6AlADNwXjCfAO1xAzEgYQLQ5jDA8MrgvrCqUKBAn2CBIJpQquC0cMuQluBR4Cdf+z/rP+bwAWAWMCcQJjAnECYwKhAbP++/v++Ff4KPnX+rb7Qfwz/Nf66/k2+WX4CvdN9YfyrvB38KHw5vCu8JjvXu3F7MjuufOP+FT7ePx4/Gv8Sf34/qEBtwLbA+kD+QX2CL4NARH1Er4S+xGEEIkPGg+PDtoNYwx2C1IKMQsPDEcMNgomCG4FbAPmAQgBYQBFADcAg/+7/wAARQCf/7P+Qfy7+s/5bvko+Sj5YPko+f74DPmP+Ff4lffm9UT0PPNs8tPxm/FV8a7w+u83797vefJ29bH3KPm7+tL7M/xJ/dz+JAH8AqwE+QVrCIQLDA9wEYYSsBIlEn4RPhB7D/4Oxg4SDpQNmgzXC+ULMQtKCUcH8QQmA2kBYQCf/5H/yf9M/8/+Nv4a/gT9Xfyu+on58Pi5+J34Zfjj+I/4SviV92v37vao9vT1pvS58yDz9/Kj8nnyJvI68a7wR/Gd80f2V/g++lT7+/sJ/Dv9n/9jApAE3gWpBxIJrgvoDYQQmhFOEtERrRBtDxoPDA8aD7kOQQ2uCwcLYAr/Cb8IVQcNBV4DdwF9ADcAYQDz/6X+xv2w/E/8xPt++yL6ifnw+Pb3sffo9/b3vvdr95r2D/YB9gH2hPUx9d30KfTV87nznfN08xLz9/JE9FX2V/gH+nD7sPzG/SL/pgDhAvcDYAU/BisH9ggVC10NuQ7rD5cPxg72DdoNzA2+DRIOFw1aC8EK8QkECXkIjQd3Bg0FlQM6AtgBAgJ3AaYAkf82/r78jPvX+jD63flu+Y/4BPix95X3h/cz93/2K/bK9YT1MfVb9Vv1dvWu9aD1vPXm9cr1yvUd9of34/i7+iX8xv3P/p//fQD6ADoCegNmBMIFAgc0CJ0J+QqMDLYM5QvzC/MLdgulCt0KpQpuCm4KuQmxCPwH/AeuBmAF9wOjAzQD7wLvAvQBWwE3ABT/qv2U/Lb7yfrX+uv5RPkM+UT5x/iB+GX4Xfcm9432K/b09XH2f/aN9sT2tvbu9of3EvgE+AT4KPkH+h37ovyq/W3+rf+hARACvQFQA80DowP/BGkGoAZ5CAwKZgmdCRoK8QlzCY8JhwgKCAoItgdxBzkH2AYxBncGpgXHBCEElQPhAjoCVgJbAZgA5f/c/vD9H/2U/An83/t++7v6FfrP+WD51fhz+I/42vfo9y74sfej91f4ufiJ+WD5l/kH+j766/m7+hf8Cfy+/LP+nf0w/9AAbwCvASwCvQHFAnoDjQLNA54EngQ3BU0G6wWSBh0HrgZbBiMGPwYxBm4FmAWYBVIFKQUNBQ0FkAS/A78DlQNQA40C9AFbAUUAaP9o/8/+/v2q/YH92vyU/F38tvs5+wH7oPpo+oT6TPoH+vn5YPnP+YT6+fnJ+h37B/qo+zP8Qfxd/HP9Zf2q/RT/MP8NAK3/pgCFAcoB9AGIA2wDGAO/A0oE2wMFBL8D2wPNAyEEdASeBGYEdASCBCEELgS/A78DegM0A4gDCgPhAuEC7wI6AmkB+gDsAEUAdf/4/lH+nf3G/dT9Ef1r/C39ovzt+9L7F/yG/OX6D/vt+9L7xPuw/BH9zPyU/Mb9c/1J/aX+3P4o/sH+Pv8U/63/rf+mAG8AmAAIARAC+gACAogDEAI0A6MDqQJxAr8DbAMmA80DowOxA5UDiAPTAhgDtwICAhACygGFATEBJAHsALQAUwBFANf/Wv9M/7P+e/6J/vD9gf2q/Y/9j/3G/Tv99vyB/fb89vwM/kP+bf6X/j7/bf4a/pH/l/4w/zcAkf8G//P/tACYAIUBWwEkAcoBvQFbAR4CkwExAfQB5gHKAToCAgLmAa8BvQGFARYBtAA3ADcAKQCt/8n/8/+R/4P/n/8w/wb/wf5t/nv+3P74/ur++P74/tz+Bv9o/z7/Pv+D/5//RQChAToCkwE/AewARQAIAaEBkwFNASQBwgAxAQIC5gH0AT8BbwA3AFMANwAbAJ//+P7q/rP+if7B/m3+/v3G/dT9Nv6X/on+wf6J/qX++P4G/0z/Wv9M/xT/Iv9o/5H/RQCYAMIACAFpAZMB2AEeAvQBvQECAq8BygHYAaEBrwEeAgICAgIQAgIChQGvAU0BmABhADcAu/91/1r/Bv9M/yL/6v7c/tz+pf5f/lH+Q/6J/tz+FP/c/s/+wf7c/iL/df9o/63/1/+f/wAAUwBvAJgApgCYAGEAfQDCAH0AmAB9AH0A0ADsABYBMQE/Aa8BygHKAeYBdwE/AQgBtAC0AEUAYQBFAFMANwBhABsADQCt/63/Iv9M/5f+Bv9R/ur+KP4+/xr+8/+FAd8WggRp8J//KP4w/2L78/8IAfQBbf6q/cH++P5M/6X+Wv8w//P/GwBFAD8BDQAWAX0AiwBhANAApgDeANgBhQFFAFsB5gGYABYBwgDeAFMAPv9a/zcAg/8w/0z/u//l/1MA/v1f/vj+e/57/lH+e/6l/mj/+P74/p//u/9M/4sA5f+R/2j/yf8pAJ//aP99AOX/wgBa//oANwC0AOwApgAAABT/+gBhAEUANwAAAK3/fQBhAH0Adf/J/+X/iwCR/zcAwf6mAIP/Bv+LAJH/Bv8pAGj/Wv9M/3X/Pv9a/0z/s/67/1r/fQCt/7v/dwFo/0gCYQC9AcIAX/4M/lH+LAJ9AHcBAAANAG8AtAD6ACL/kf9FAFMAUwCLAFMA0ADeAFMA+gANAD7/AAAbACkAKQBa/w0Apf7z/zD/+P5M/z7/u/9vABsAkf8G/2j/AAApAPP/mADeAGEAAADsANAApgA3AAAAs/4+/4P/Pv8w/0z/Iv8+/2j/Pv/z/9f/KQBhALQAYQD6ALQAPwHsAIsAKQBhACkA8/9TAJgAPv8bAK3/Pv+7/ykAbwBa/0UAAgIkAdAA3gBTAMIAYQDeABsAJAGYAH0APv+7/yL/+P7J/63/n//J/xT/3P5t/m3+X/6D/3cBpgCR/5H/FP8+/+YBmwKl/hH9qv1M/zcArwExAdf/df8i/z7/z/5a/ykAhQEkAX8C3gB3AQgBKQAU/8/+u/+l/nX/oQHYAbP+qv3w/ZgArwH6ALv/g/9TANf/1/8+/wAAJAFf/ur+YQA+/+j8Pv+hASQB+gBvAK3/e/5o/wgBPwEWARsAdwECAtf/2AEeAmkBiwCP/Sj+bwChAaEBg/+t/4sA3P6D/1sBAgKhAb0B7ABt/p396v4bAEgCCgM6AtAAdf8+/1r/iwBM/1r/fQDTAo0CBv8o/rP+wf4M/j7/oQHJ/8n/CAGYAGj/wgAWAZgAWv8U/2j/pf7CAEIDjQI/ATcAdwFNART/YQAQAk0BwgCf/9f/CAEQAiwCAADi/fP6XfyX/hYB9AFQAy4E/AJIAjQDBv8r+778Uf4NAEgCaQFTAOYB2wO9AW3+e/4U/1H+BP34/jEBzQNCA9gBJAHCAAgB5f/U/Xv+1/93AfoArwGvAW8A7wL8AhACygE2/iX8xPso/lMAQ/4pAGwD4wQYA5H/vvzB/qYAn/97/hT/jQLTAuYB3gAw/7P+uP3t+7j9u/9TAOwAbwDCAK3/X/5TABgD2AHG/Y/9aP/6AOwAWv9TADEBEAJo/4/9VPthAAICyf8i/2j/j/0U/5UDmwINAFr/z/4G/1H+if4/AXcBKQBhAPP/MQEYAyYDvQHq/on+MP9D/sz8Nv6D/9gBowMTBFYCKP4R/YH9DP4i/2EALAJ6A38ChQH6ADoCiwBD/nP9lPxM/68BrwFpAR4C2wPYAer++P7G/Rr+TP/z/6EBoQHsAJMBEALKAXX/ovz7+539kf/CAIsAygE0A7EDUwAM/gT9gf2X/rQAWwF3AYP/Iv/QAL0BOgImA3cBRQB9APD99vwG/0UAygFvAPj+6v6f/7P+H/1a/zoCxwSQBBACfQAAAGEAiwBTAK3/df/P/mEA0ACf/zD/6v4R/bj9Iv9TAJMBAgK/A5UDLAKNAhYBz/7B/nX/df9t/ur+aP/J/4sAMQF9APP/FP/a/JT8JAENBZ4EYwIWAW8AYQAG//79QfwJ/Nz+PwEYA7EDLAJTADD/uP3o/In+pgA6Al4DCgMsAsn/Qfw++oT6fvs7/Wj/5gFsA2YEKQU8BBACwf6w/CX8c/1hAH8CNAPbA0IDEAKR/xf8B/p8+aD6j/1jAlsGHQfCBakC+P4R/U/8XfzM/DD/oQFsA/8E/wSNAqX+a/y7+jb5hPq4/X0AfwKjA80DCgNpAWj/uP2w/Iz7cPs2/r0BXgPNAwoDOgL6AOX/n//P/rP+TP83AJMBjQJWAlsBGwAi//79BP0t/Rr+kf/QAJMBEAICAuYBoQHsAG8An/97/v79Nv51/30AJAGvAToCVgJ9AM/+qv1l/YH9Zf1X/XP9Gv4+/5//TP/+/dr8Qfyi/P79GwD0AeYB7AD6AAIC5gGhAXcB3gANAOr+rf/sAIUBWwF3AXcB3gD6AJgA0AD6AD8BWwHmAfwCzQOxA78DegMsAn0Ag/+D/w0ApgB3AWMCOgKTAYsAkf9D/rj91P2J/kP+c/3o/Ff96PxH+8/5nfix92v3XfdK+N35rvrl+gH7HfsB+9L76Pwf/b78Ef3i/eX/0wJ8BQoInQkxCzkMmgwrDDELbgrxCSgKswpSCrEIvAbjBIgDvQE3ADD/l/5D/gz+Q/57/sH+e/47/U/8tvsr+4T6hPqM+/b8X/7+/Wv8WvrM96D1RPQp9Af1R/Ym96P3tvY/9ePzsfL88dPx6fLm9T76NwA/BkENlBK7FSoWSxWqE04SDxEUEBoP9g2oDBULSgmSBvwC5f+G/Af6h/dH9vT1GPfV+K76+/st/bj9Uf7c/mEAfwIpBRgIDAqzClIKBAmuBoIE4QJbAVMAaP+q/XD7x/jm9bHy+u9C7W/qQ+jL5t/l7eUf52fpVuyK7y7zPPhR/jcFqAyqE3oZZB0hH78evRwFGssX1hVlEwERsA0MCvkFLAKd/WD5vPVm80fxd/Ds72nwOvES8yP1BPjz+s/+EALVBLwGuQnEDFoQCRK+EioRXw/7DLMKNAhgBZsCg//f+2v36fL/7gLs8ul66BHnYuVZ5OrjZ+Ty5FzmsuhA6+TuLvOr+DcAhwiMEeoZ3iApJYQmRCU5IgseuhrZFyIVtREEDgQJZgSX/kT58fOT8BPuJu3h7FDtPe7C75vxZvM/9SD4K/vJ/9sD7gdMC4kPAxMcFtEWABawEokPRwyrCX8HFQYuBD8B0vt29eTu1umi5kbl1+Ri5dHlJOZc5sPlw+XZ5hPpoevI7nnyufivAeUL1hV6HrkkQSijKGgmRyILHvIachitFagRYww/BuX/wfnj8xvvHuy16rXqheu37BPuI/BC8s/0lfc5+/j+0wI/Bo8JCQ3XEHsU+xZqF58VQRK5DnYLsQgQB/kFdARNASv7WPP06+fmg+R15JHk8uQA5Z/kdeQw5Nfkr+bk6ULtCPA88zz47ABMC8MWKSCMJ88qPivEJ/wi/R3kGtMYbxYJEmgLPAQf/fz2jfEm7Q7qS+m66STrAuy/7bTvWPPg9jD6Lf1vAPcD7gfXC8YOlBKtFfUXERgOFnARlA1mCSsHIQSbAjcAKP5a+uv0Be7A6Pvlw+Vc5ufmy+YD50jnqudy56rnbOjs6qTtOvH09bP+nQkOFoog0id2KwEsNiqKJSkgRRuUF/4TIhCdCUIDQfyo9tjw5+vv59nmGehp64LuY/HV87b2DPn7+/D9aQHVBNUJEg5GEVcTshQ9FdwU5xLdD34MjwkCB9sDTQG4/QH7Svj59GnwcuxL6TXoC+gL6Avo+Ois6X3qmeoq6sjpTusT7hDxDfRS+fQBOQyAGKAhTyjdKs8qDyd3IbUbhhdfFAERFQt0BLj9x/im9CPwy+uk6Hro0OrN7crwZvMm96D6X/7z/xACZgRrCB0MGg8UEOUQJRInFMAUHxO5DmAKbgXhAtf/H/2S+p342PXb8nzvJu1b64XrW+uh643slu1m7vftC+1A6zLrHuwF7invqfHK9RT/DArtFvEfaCY8Kb4ofCWsH0sawxZLFS0T6A3eBfb8mva38VPvOuwC7GnrPe767yDzbvRB9zD6V/0bAKkC0AWrCU8NRA/dD4QQcBFqEngSaBArDKkH6QOLAKr9cPsa+bb2RPR/8UXvuu7673HxefIK8q7wCPD67wjwpu9T7wXu4ewC7NnrZOxN8Oj3XgNtD+QaIyHxJBslzSNvIE4cHxj4FLASIhDrCkoEF/zP9Hzv/exC7cjuofBs8in0Ofa+98/5fvs2/uYBNwVYCeULXQ0zDRcNXQ1lDgwP1A5+DBIJKQW3AjcADP5i++P40vZo9avzf/EI8JPwzfK09CP1dPPu8fTwEPHm8GnwKe9L7mzt7+zL60LtsfJz/ccJfRZ6HukjIybrJcohdxyGF8kVxhPXEIoKIQQ7/Qr3XvLb7QLsxezC75DzR/Yo+bP5yfrl+jv9DQApBWYJ6A3iDpcPhw15DaINGg9XDtcLcQf3A6EB1/++/GD5vPXV82bzkPM884LzmPTY9aj2qPZo9ePzBfNC8tPxt/F38AXuw+rc6Hrod+up8df6YwdlE9MdHiKQJNIipiDZHDUZ8hWAE7sQ8wusBLj9R/ZC8iPwrvCF8CbysfId9o/4ovyB/Wj/UwACAhME9AbVCXAMog1PDbwLDwxjDE8NwQqpB/wCmAAi/+L98/qP+B32MfXC9Kb0mPTK9eD2lffo96P3qPYx9Vjz7vEC8crw8e407STrp+qD6Tfq8e67+gcLOhjWHzcgyiGTIWEgfRscFtQT4hPlEOsKCgPo/I32bPIh7tbuLvNX+GD5lff89ij57fvo/G3+TQFVByMLQQ05DIwMOQwxCx0MBA4iEBcNrga0AGX94v0l/GX4+fRS9CP1pvTp8lDyNvTo95f5+fnw+KP3yvXH87/yLvPb8t7v2evW6aHreu2e7lDy1/pKCaoTWRpWGIMaMhwpICYeSxqJFD4QOQz8B80DUwCg+r73h/JK81jzh/dP9xr5fPmg+gn8e/4kAe8CGwWNB2AKqAzSDHwKhwhmCYcNyRDJEDwJVgKB/V38+/t2+pX3yvV29Wj1MfUx9fn0HfaB+Gj68/ql+aj2//Oj8nny7vF38PftAuws7Gztm+yA7MXxhvy8CwAWuhpkGAsZtRsmHsUdwBm1FmoSDA+eBLj9K/aY9MfzGvlU+8z8l/lV9tXzx/iU/NAAmwJHB2YJaAsoCrEIhwgHC7wLTw2lD88PbgqvAa76ZfhM+uX6Lvhx9mP2xPbK9Tn2o/eu+ob8H/3a/N/7DPmu9fHzUvQj9ZDzDe+16tbpOuzk7t7vlu0b75L1uQQMDyIVzhTwEycZiiDbI2weuxXdD9cL8QnjBBr+mvYp9PT1GvkJ/OX68PgE+KD6/v3J/30ACgO5BJ0JdgvEDCAJjQd/Bx0MhBDzEP8JqQLG/Xv+KP7o/Mf44PYz92753fll+Mr1P/Wx9zP8Iv9z/av4UvRE9Mr1cfYN9H/xpu+m73fwAvHu8azu5+se7KD1vQFECmUOSQ6tEKcWbB7bHsAZ7RYwFeoU1A6gBg/7UvTu9uP4aPrH+OP4Lvio+9z+df9o/94AfwJ3BkcHmArCBYoFrATzC7MPARHzEGgLNwW7/xT/rf9t/vj+ufgd9vHzUvSm9E31gfgE/bQAaQFa/yv7/PaN9uD2o/cB9iDzI/Av7hnt/ew97l7ypvTH8+7x+fS2+5MBYwfuDMkQFBU1GWcagBgtGPATIwt5CEoJmwfeALv6Svj09aj74v3o/A/7Uf5o/yL/PwHX/9T9NAMgCdUJeQiPCd0KTw3JEKINjQcrBysHhAZeAzcAF/yu+nb6x/hN9Z3zB/Um9zD6lPx4/Hb6ifnP+Yn5wfnM93b1KfQx9fHzxfHW7kvu9PDC9Lz1JvL67+bw9ve4/dsDvwj+DgwU8hWhF8sXrRXiE4wR6w92C0IIrARd/Er4Y/bH+Cv7j/0E/V38Sf1R/m8AmADi/aEBfAVKCYoKDwwxCxcNuxClD5gKAgebB+YG6QOIA7P+mvto+l33kPMF82j1j/iM+9r8Xfzl+mj6dvqg+tf6oPpE+Xn3ufPm8OzvMfCb8VL06Pej9671QvJ875jvNPJu+V/+OQc+CwYQMBDXELASwBQDGEsV9RJXDnEH9wMYA94AjPvX+iv7M/w5+138+/uU/GX9EALNA7EDhQHvAuMEcAwBEf4TgQ7oCIQGqQepB3EHygasBEUAa/zj+B32AfZ59zD6u/oP+8n6hPo2+eP46/mM+/v7AfuB+JL1EvO09GD01fNC8i7zMfUm9133+fT88eTuvPDm9aj7g/8uBCsHZgnPD8wSURRJE+QVnxBuCrwLowh8BXoDAgKR/wH7Nv6M+wn8jPspAGMCtAWYBT8B6v4eAoIEYAq5DloQqAzHCWAF6QM0A14DMQb0BmwDkwGq/df6LvjP+Y/9c/2d/Zr7Afur+NX4l/lo+vP6TPqg+jb5K/bj88fz5vVE9ET0BfN89Lz1f/Zg9Hz0yvV/9uv0jfaS+sH+SAKgBn4MSQ5iEYkUEROaDB0M+wyrCS4JPAkoCt4A+/s8+Ln4jPsNAKkCzQO9Aa3/7wJbARACtgfiDiAOhw0KCMIF4QIuCfEJvAYhBL0Bn//eAJ//V/1o+rj9nf1R/oT6SviB+Pv7bf51/+L9Wvpz+BL42PVo9ZL1VfYE+J34fPRN8E3wWPPr9Mz39PU59lX20vud+A/2+fS7+h4CLglUEUYRJQ3aCLYM0gzHCegITw3aDVgJSgTq/jn7X/59AF4DowObAsoBlQPX/4z7BP1mBFUHPAmVCIcN8QnKBpAEaAvEDK4LKArxBIH90vvf+8n6aPpw+/v7nf1B/Fr6TPpP/CL/FgFa/8z8bvma9nb1MfVo9cfzW/X09bz1ufPd9LH3IPhE+RL47va89Rj3K/ZS9Hz09veU/HECqwmdDl8Paw3lEPMQFw0jC4oKFQs/BhoK2wP+/Sj+XgNvAF38qv34/gICWASVA3cBCAGQBPwHmAqdCRIJ1QR/B+gIFQtjBxMEMQGLAL0BNwCt/x/9FP/J/zb+XfyJ+ZL6Qfxo//79Qfyu+gz59vdd94f3D/bY9eD2V/gK9xv08fNu9Bj3QffH+A/2hPXx84T1gvPH88T2Nv5hAA0FcQdaCysMTBD+DhoPbQ/rD4EOxwlrCOYBTQHmAfkFmAD+/fP6UwC7/14DtwJ/AmEArATuB5sHFQZrCM0INAgrB4oF2wP0BtoIxwnCBTcAPvpo+s/+MP9R/qL8zPxz/U/88/oB+0n9l/4U/2X9Zfh89ET0ivQp9M/0dvVN9fHzkPPb8sL0CveM+3b6/vhN9Sb3T/f5+bv6VPtX/akCtAUJDfMLaAuoDBwRXw8JDegNPAljB+MJNAMi/xH9UwDz/5sCvvy+/HEHjwmTAVsBJgMeAvwCAge/AyEEawi7EI8OggSU/NsDYwz2CMcJtAWg+o/4lPzJ+v74tvvi/WEA1/+l+Xb14/hU+zD/GwAB+3b1nfPT8a7w2/Kr8+b1h/em9A30//MP9vT1IPgY92j1fPk++s/5zPdX/dUEtgxUEfgPCQ27EPMQJxRVDBcN+QU8CSEEKQUz/OX60vu0BUP+nf0M/qEBsQMxBikAX/5bAaAGeQg0CPQG8QktDv4OnQnNA8cEmwdoC1sGJAE59lv1sff5+dr34/jJ+oH9DQCJ/nj8KP7eADoCbwDX+uPzh/LF8UfxI/C078rw8fMK8vTwt/EY96j2cfYj9ab0I/Wr+EH8X/5jAj4LOxOXFLgTJRKhF8AULROlCqAGxwQTBEIDz/4X/OP4qPud/WX98/peA8oGMQYFBLcC/AL/BO4HdwZ/B48JKArlC5gKhAbmASEEGAM8BN4Az/7o/J//TQHB/mD5rvUM+a3/+gCf/+j8nf2z/oH9YPlB9zn2cfaN9g30Ye/F7L/tU++T8N7vo/Jg9Pn0jfHC79jwW/Ua/qYAGwXrCucSIhWnFq0VABZnGvcZuxBjB+AHJAExAZH/RPmY9G75aP/5+d356Px1/xUGeQh5CMoG/AcHBigKvwgYCBsFawhHB9AFkASjA6ALSgkbAGX4sPyLAFr/HgKl/q76RPki+hr5FfoX/H0AiAMQAmv8V/gY9x32lffr9IXw6e1C7XLsUO3p7bLtOvEK8vTwS+536/ftFfXYAVgEVw5RFGQY7Rb0HIUhLx8mHjcb/hMHC1YCWvr89vD4dPNm883yB/Xu8bb7df8/AXwF/wkPDDwJ1ws2CvAOqw7lC9gGIwYbBTkHygbQBVsBUf67+mv8gf0X/C39/v0B+0r48Pi7+sb95gFeA40CkwEf/Zr7pflz+OD2I/Ue8YvqCeb+4vvlb+rN7bzwb+8j8Cnvd/Bm8xr5BwawDd4bnh/IHz0aZB3WGikb0xgAFt0PYweYAIXwJu1F76vzzPed+Dz4Ffo3ADQDkAQgCakH4Az+DpoM6wWSBrQFFQajCMIF0wKFAR4Cg/+R/3P9rwGVCPEE4/jC9PD46PwCAlIFXgPYAfoAs/5D/sb9H/0IAU0BB/qb8dDqJOav5gjrdeln6cbnNehL6Wnrcuyu8LruyO4z92MHXBKCHxUmFSGpIg8nJSg0HgAbexTiDsIFf/aN7ADq7OpQ7RX1MfWg9Xj8sQPTAjQIxwlHDNIMuQ5PDcQMigrYBisHIwa9AYsArf/+/aj7fvvd+Wj/FQbX/+X62veX/jD/dwYuCfkFtwLsACkAn/+l/tz+6v5B/Db0pO2D6YvlCeaG5gPnZOf95wbk0eXI6QXuiO1L6aTtIv+9F0YsqjPMLTEm6ChdLZMhLB07E98RowOq/fLkeOG+3OHnWO7X+o32l/n2/K8BxQIJDfsR7RaGF+QVlw9gCk0GSgTVBO8CPv9i+7P5B/VS9DH1BPhw+3oDIQQYAzD/HgJuBccJswraCIgDg/82/rP+2vy2+1r6YPkb9Bnt3+Xq42fkeOav5irlQeEz4TXjN+pQ7dPsZOc59swNfjHkOro6gDNWM5cv2yM3IJAawQ+VCFT72evV0+DWEtgD5wLsP/W+91f9RQA8BAQOnBPAGbEeGB7LF4kPxwneBRgDwf5w+6j2KfSh8H/xafAS82P2HfspAEUFNgrjCaAGxwRmCR0MGgrNCIcITQZhALv6Afbu8SzxL+6h6zXoQObA487jhuGR3+LiauY36uHnmeqs6d/lmvZ2ENA72z72Q389UDl4LfQhFSb7Fj0VwgVM+v7dhdBOyybSIt9W7I3x/PYM/t4FTwjlEH0W1h9mJHkjkBoBEXEHAgLa/GD5Y/bx83fwUO3v7NnrlfIY95H/UANbBhIJjw4fE44TKhE2DysM1ws/Bs/+PPh/9iP1CvLv7Kfl5OSA5/Lp0+ek6PXmC+j956/mPuRZ5GrmwOjI6WTsjQccMS1JjEeBRMU9BjApJUQqOh3XENMCF/yw4bfRrcTRyhjXnOe67m70u/pD/msIZBiHI9gmhyiHKF4eew9bBtz+1/pP92j1SOwf58DjlOZO67/y8Pg/AYQGNgoVC50OFBChF9seXh4ZFJgF8P0o+ev51fhS+fz2vPAc6tfkdeR95VbsdPMB9mj1W/A96Qnm9eZT6tDqZOxc5k7mBuSFAQQpv0OYQLQ7wjsDMxQrYydkHcYOWAlX/YDndNNqy5PLcdZf4+frkPM++q3/wgWzD2QdDydaK+4nxSJLFdoIMP+5+Cn02PCW7Y7nQOYc5QXpiu/B+ZMB/wl7D/MQCRIREwMTjhPtFpwYxhOHCKj7OfZm82Px6e3T7E7r1unv58Plw+W66XfwGPfo95Dz4ew96cbnTubZ5gDlXOaL5VYCuytzRPRBPTr3Pl80ByswK3ch7RG5BIn5BuS/0qrHTMRs0n7gaes88275DP65BL4SThx2K9QucCxQI5AaxAzKASj53fTv7FvrfeW24GLgOOUm7VX2bAMgCSgPeBLAFG8WmRaOGIAYGRmGEpIG9vcC8dDvLPHQ75Du2+0V8KzuFusT6Wbu//O7+sn6/PbT8T3uW+tF6qrnnOJl4vPf3+A889gmdD/CQII6G0AsPdcr9i1pIa8X2AamACTr0tYyxobB4cwu3cvmyO5x9pf+9wOXD8AZFSb2LW0voyg0Hp8QigXt+zn26e0O6u3leOFc4Uvkdel58jb+hAYEDicUPRV4F+EY/RjfFgAW1BNlDlIFLvhH8b/t0+y16urog+m66a/rcuzv7A3vEvMz91L57vYK8vft7Opc5vvg199M3wzeW/XHKTFGnUmIOaNDZDiULdcrXiMOFmMHtACq51PUAcAavq3Jq90R567w2vdl/dUEmhEvGrwmtTHiM2stkB9UEfQBz/nH87zwzuiU5s/eTN9o30PoWO7+/eYG8xDkFToYGRleGbUbrxcnFAkNEAfpA1H+tPRF6lHoMuvk7pPw8e6k7RXw+fTH+KX5F/zS+wn8l/l/9t7v5+sJ5sbie9522oLT99Im8ugo80YBR3E90EDhODsuojLEJ/IaDwwxBlbsXtLMvIe8FMlH25znb++x8p340ACPDhEYriZwMRQ1Xy+mIFwShQHE+3/2+fT37c7oGeMU38nfg+SI7T76igWlD84UrRVvFpkWbBlIGEgYSRO7EEoJYQAK8svrzujI6dzoaesA6sjpU+r97MLvfPT++O37QfwM+ZXyr+sW5tff697i3Xve9tw+/wwvu0v+SbI5DEU+MCQynDOlKkYRbAO4/TvieMv+vRi83Mh+21PqofA59pL6kAR1FXoetiykNG82cCz3HsYOmADa96b0d/BO62fke94S3avdhuau8Ab/sQgXEvsWERj1FwsZyBr3GS0Y1xCuBsz8o/e58ynvS+nG55Prb++T8ALxf/Hr9PD4MP8WAU0B8P2o+1L5+fSK7x/njOBm2BjXm9Z/0aDVGv5kM+pKJUhSQN1FrTWZNo4zDydUFmMMOgIZ6NzNUrnCuYnImNlU5SHuR/EY9xACQRKyGd0qQzRcN0MvECJqErcCF/wm97nzCPC453jhKN743tzjIe5d/G4Fxg61EZcUexTkFdMYzhmcGA8RDAoKA1/+OfZh74Pp9OsT7orv5O6m75PwLvPS9mD5fPnE+8z86Pyd+OnyLOzO6MDjQeE73TbZI9Wo264GTjJlSVhEykEESeIu8zDJK0Qllw+MDKMDzuOvyya8fL4ZyODbiOjY8Kb0mvtsAzgR9RfPKvUy1jUwK7ofeBINAGv8dvUp9JbtW+tZ5FzhHeD75cjuV/0jBnkNRhFfFNwUVBYcFjgWiRQUEDwJWASX/vz2Re996hDsC+207+Tuf/Gx8rT0Y/Zx9rn4fvtJ/fP64PaN8QXuReq75L7hEt122mDUcOBaCyc0EkTVPxg+YEUcMXIz6C3gIu0RQQ1WAk7mzs2Pve3A4cyP3fvlbO0Q8cT2vwPiDkAXPyYyMoAzhCs/IUkTrATQAF38GPdp8JPrcOWJ40HhRuWW7W75JAECBzYPFxItE60VpxZZFUsVFBDgDCkF3gC5+M3yv+2k7UXvofCQ7m/vefKK9DP3cfYK9xr57fsl/KX5ivSK7zLry+b74FLecNvi3WvcbPIFH9M43UVWMzRDwDmiLZ8w4imYIMEPDwyV9yDdTsswxOTJ5tXP3ifok+vp8jP3BwbaDQgc7ifELHYmhyjYITMShwhM/wn8BPjV+BXwpOhq4QnhL+nC9O37kf9CA2AFAQzfEbIUvhJDFGgQiQ9SCiYIcQLE+6b0rvB/8anxjfGH8hvvyvC38VL06fIB9tL2qPYm97T0m/H37ezq0eUX4SfjUeOi4UblzwogKahCgzW/PhY8XSigK+IpJSiJFJkWrgYn6K7ay9CZz/3MzNyq4sbnMfB088z3sPzwDqkdvCaMJ9sjLx8UFdoSOw5pBsoBhvzX+hDxgu6O50PoW+vg8WX4M/xM/38CIwZKCQEMrRABEfMQ6w9MC7EI4wT6AGD52vfE9sL0kPM88ynvrO58767wW/Am8uDxNPJY817ytO/F7Hro7eV45mfke+P43hv0kRW1MSw9rTUWPKArySsOMYwsCx7WFSIVJAEC8fjjk9Dez0TZEee95kPoteqT6yv2V/28Bk8NnxVsHr8e9BwIF8YTdhCwDfYNNAh0BHP9M/f88Rvv1u5m7qHwGPLK9d35PvpB/G3+lQN/B5ILRwwzDVcO0gz2CPEEvwPmAZMBZf1l+BLzNPLs7/3sU+re6mnrUO0k65TmDOMZ4/vlaua453LneugV8PwHlSN9Npk2rTU1L8wtXDJfL0UgMBWIGVEUrgbb8nDgJtdB3NHlFOQD4sbiluhe7XzvB/X5+ZAEGg+hFycZtRYIF0MUdRWtFWcVYhEPDOAHOgLi/bH3lfJ/8TrxIPPb8uDx5vDj80r4XfyD//QBNANgBfQGOQcQB7wG7gdVB7wGCgOf/8n6gfgK98r1G/R38I3sX+hU5YnjgeJw4CLfs97t4LLjd+tt/sYTMSbVKU8oDyfVKfsxOy6gJrEeLCLSIqoYJgh29S/uYe9e8tbuauZL5K3k4ec65zLmE+me7lr6JAFSBVIFaQbxCfsMThJzE5EVPRXqFFcTbQ98CusFlQPFAmEAQ/5M+oH49PU29FvwIe7W7qPyAfaV9xj39vdM+ij+7AACAlADggQVBg0FGAMbADb+s/5l/VT79PWd8xDxcfHC783tGe1s7XHx/PavATYK/g4rDHMJcwnaDZEQxg45DJQNXBInFPMQgQmQBGYEHQddCOsF7wLQAKYAWv8f/c/5h/dl+IT6a/xi+7P5BPi5+KD6+/sR/f79KQBIAukDsQPTAn8CXgN0BJgFUgXxBFgEngS/Az8BKP4E/YH9Nv7U/e37Ivow+tf6xPuo+/v7Ef0U/w0Adf+B/bD8Sf3c/ur+xv0X/Jr71/o5+z761fiH98T2R/a89ZX3Ef1sA4oFQgMkAaYABQS0BU0G8QTKBmgLgQ7aDdUJhAYQByAJBwtmCR0HUgVgBfEENANhAPD9j/2X/kz/e/5P/KD6wflM+uX6OftU+yX8nf34/lr/+P6z/tf/HgL3A2YEsQNjAqEBVgJ/AtgBYQD4/j7/g/9M/y39Cfya+y398P3i/Xj8R/vz+tL7+/sX/OX61/rP+c/5ufhz+AT4zPeo9gf1IPOx8g/28P10BNAFmwL0Ae8C9AYuCaMIowjdCrsQ5xIJEu4MDAqdCSsM+wzXC5UIhAZgBYIEEAJt/vP6z/kB+4z7yfpr98r1I/W29sz3Zfga+ZL6gf0NAPoAbwCYAOYB2wNgBSMGpgWuBrYHawgpBZsCGwCYAE0B0AD+/aD6s/ki+oT6fPlz+GD5fvvi/YH9cPt8+Zf5Hfvt+4z7x/ix9wr3h/fm9bT0m/Gu8CnvFfAj9Z//9giuC+4HdwaNB2sNyRDXEGUOnxA4Fi0YGRTEDBgIjQcaCloL0gfFAn0Az/7U/Sj5Y/bN8g30W/V592P2pvTH8yP1sffl+h/91/9bAdUEygZrCJsHQgi5CXAMBA47DgEM6AhuBb8D5gGYAF/+6Pwi+kr4yvUb9JXyLvOY9Kj2o/cu+LH3sffa94n5kvol/Ib8qPv5+X/2D/aC8w30CPDI7uzqJOsj8CL/KwznEtQOKA+dDjAVCxlZGq0VABbnHNMd9RfKC6wE5gF0BDEGmwJU++D2MfXV8zfvbO136+TuPPPS9tL2aPVx9o/4Zf2FAdAFLgnzC74NKA+5Di0OXQ0gDtoNVw4zDfkKwgUAAF384/hu+bH3jfa/8oXw0O8/8ALxEPGr82P2Hfud/bP+Ef0f/Tb+pgA/AU0BWv9d/KD6CveK9HTucuyW6Mbn++Vk7Bf8Pgu+EmgQHBGHDb4SwBk3IN4bNxuxHqEcZBirDpUI+gB6A0oEUAOM+6D1ofAm7bXq0OpA6+/s3u9083z0W/VV9s/5Uf6xAyAJOw6tEOUQmhGMEVQROBGoEbMPJQ3PCnMJpgUWAfP64PZ081jzefKb8f/upO2I7TfvEPGY9Nr3D/ud/ZgArwECAsUCsQPNA5UDcQIbAKj7o/eC8wjwQu1T6v3nPuSU4efruP2iDYEO3Q/+E/gPERMZGakiZB2KIO4iwhtOEtIMcAyQBPcDSALq/vb3dvV/8U7rMubZ5n3qE+468WzyEvO583n3H/1NAcIFxwl2EDMScxMXEjMSwxH7EZQStREMD1oL0gcQAmv8CvfY9Wbzh/Jb8Kzucuws7Pft0O9C8vT1TPrw/XX/fQCmAFYCxQIuBBME9wO0AEP+VPux9+Pz5O6F65boOucw5KHrbf5ECi4JjQeaERcSCRKUF2Qd6hmAGNAgZB0UFUcMRwzoCM0I2AYKA3j83fQu8yPwb++Z6o3sYe/g8VXx9PDb8hLzSviz/rkEigUmCB0MEg7wDm0P1xAGENcQDxFSDwcLIAnuBxMEif7j+Ln4Afbd9Bjym/Fv75jvqfE88270W/Vg+fb8+P7P/q3/bwC0APoAmADB/lT7MPq5+Nj1cfGk7b3rmerA6BPuGv6dCZ0JkgYtDsEPzA07E1EZqhgiFYMa4RjlEOgIcQfYBiMGUgU8BKYAOftl+O72Ofb38gXzrvUE+Kv49vfH+MH51/rP/u8CGwVuBXEHgQk8CRgIawjgB40HAgdbBoIEowO3AlMAQfyX+bn4c/hK+If34PaS9QH2VfaV9534dvpP/Pj+RQBhAMn/YQCLAFMAUwDX/1H+O/2U/HD7c/ig9UrzxfGu8Hzvm/Ga+zcFygaxA6AG6AjKBtUJGg9+ESAOrRDDETsOPAl3BtgGPwbEB6AG0AUeArP+sPzt+377c/jd+R37a/xo+kz6Ivrd+WL7e/4QAvQBUAN6A1gE2wP3A80DEwRgBawE8QRSBZ4EhQHq/v79gf2G/MT7Ofvr+fD42veP+Ff41fj5+Qn8qv3U/Tb+Q/74/qX+TP9o/z7/nf1X/bj9sPwr+275j/hV9vT1wvQK99T9xQJeAzEBEwQYA3oD2wNdCFgJCggoCjYKYAppBhAHdwapB+AHGAh5CHcG/wTYASwCYQCf/4n+yf8AAOL9gf3o/Dv9ePxt/hT/8/9TAEUAbwDCALQAn//CAE0BTQGvAbcCHgLX/5f+nf3G/Vf9c/2w/AT93/ti+5r7M/za/En9s/4G/5//l/6l/sH+Bv/c/vj+FP/U/Tv99vyw/EH83/vz+vn51fhB91X26/ka/jcAyf+7/30An/+YAEgCwgXQBaYFhAYrBxAHigVVBx0H/Ae2B7EIQgibB2kG2wO/AzQDjQJ3AY0CTQFFALv/yf8w/wb/Bv+z/nX/g/9M/1r/n//P/l/+Wv83AFMAbwDX//j+X/5D/rj9/v3+/Tv9zPwt/S39BP1l/eL9/v1R/nv+pf6l/jb+/v3G/eL9qv24/WX9zPxd/O373/ua++X6s/kM+S74bvn7+xr+l/7P/jD/Iv+t/+wAiAMpBTwEdARYBNAFGwUCB4QGEAegBmMH7gcKCDQIKQXVBNsDuQQ0AwUEqQI6ApMBoQH0AaEBoQGD/7QAKQB9AIP/5f/q/gz+wf4o/s/+KP6J/kn98P0f/bD8ePyG/JT8hvz2/E/8sPxB/Pb8nf3i/ar9xv0a/tT9Q/4o/vD9xv0M/tT9uP2q/RH9Xfy+/F38tvs5+6D6wfki+sT7nf3c/qX+Q/6X/mj/YQCxA4IEiAMmA78DNwUHBugIVQe2B2MHBAkmCOMJ6Ai0BTcFGwUbBb8D4wRxAqkCxQKNAuYBjQIxAcH+KQDz/2j/z/7P/kn9V/0a/o/9uP3+/YH9T/w7/UH8Cfz7+7D8M/xd/Hj8CfwE/Un9qv1X/f79uP0a/kP+Q/5t/oH9nf2q/Xv+nf2q/b78a/wl/An8VPt2+vn5x/hS+VT7KP4o/sb98P2J/q3/5gFuBZUD6QO3ApgF+QUECSAJmwfoCBgIzwraCOULKwcxBoIEwgUNBTwEdASFAVAD5gHTApMBYwJ1/3v+u/8w/0z//v1f/k/8nf1l/Tv9xv2q/dr8tvsE/Yz7+/u2+4b8Cfxd/F38T/yq/ar9DP6P/Yn+4v2l/rP+3P6l/l/+X/5R/s/+DP7U/R/96PwJ/MT7D/s++hr5nfid+K76c/3i/YH9KP74/j7/kwH/BEoElQOIAxsF+QWxCIEJqQfNCIEJqwkECc8K7gc3BeMEbgUuBPcDbAPYAWMC4QLYAZMB5gHJ//j+8//l/5f+l/6d/Vf9xv02/kn9uP02/oH9zPyw/CX8jPvt+xf8zPx4/E/8F/xJ/dT9Uf6q/f79Nv5f/jb+Q/5f/oH9nf3U/eL9O/2i/HD7D/tH+2j6DPlz+LH3M/c2+Un9Gv7o/NT9l/6t/68B+QUTBPcDbANSBZIGxwnPChgIuQnVCfkKnQloCzQI+QVFBTcFDQVKBDwE2AFsA8UCcQKvAR4CUwAU/zcAIv8G/1/+bf7M/Br+uP32/B/9gf0f/SX8QfzX+jn7cPsJ/Pv7T/wJ/O37Sf2d/Sj+1P2q/cb9l/4U/23+pf4o/hr+Gv6J/rj9Lf1P/Ef7Hfvl+sH51fhK+KP36Pf7+9z+1P3i/W3+aP/l//8E3gUuBJUDWAQjBu4H8wsuCSAJBAnBCoEJNgr/CSMGRQWQBMIFvwPjBHECjQK3Ao0CygEWAa8Bwf43AFr/kf+J/s/+qv07/Yn+gf24/S39nf3S+yX80vua+7b7jPvt+3D7ovxP/B/9Sf24/ar9qv1D/lH+wf4o/rP+X/6X/on+X/7i/Vf96Pz7++37R/si+kT58PhX+If3B/oa/rP+xv17/j7/NwD0AesFDQUuBJUD8QT0Bp0JMQsYCJ0JZgmzCgQJYAomCEUFuQS/A8cEegP3A68BjQKbAvQBdwHsAKYA+P67/+r+FP/B/vD9gf2P/Sj+Lf2d/eL9Zf1B/HD7cPua+3j8Xfxd/DP8F/yi/B/9Uf7+/dT9c/02/rP+pf42/v79Gv7i/bP+Gv6d/Yb8xPsr+0f71/o2+YH4lfeH98f4uP3B/sb94v3P/kUAPwH5Bf8EEwRsA8cEdwYgCYQLJgjjCUoJBwtKCcEKQgjCBfEESgQpBbEDkARbAV4D4QLhAqEBhQHeAOr+mACz/nX/e/7c/gT9DP5R/gT9Zf0R/bj9ePza/A/7Yvu2+/v7lPyi/Oj83/v2/AT9bf42/rj9nf1t/gb/Uf6z/kP+Gv7i/eL9gf1z/RH9fvtw+wH7Pvrw+PD4IPgg+Iz76v4o/vD9wf5a/1MA2wNpBmYEEwSVA+sFYwdaC7kJTwg8CWYJigpzCW4KTQbxBJUDrARmBLEDQgM/ATQDHgJ/At4AaQE+/2j/rf/B/lr/KP5R/pT8X/6B/Y/9j/3G/cz8+/sl/B37CfwX/E/87ftr/L789vz+/Qz+DP6q/Rr+X/7c/s/+Gv6X/kP+Uf4a/vD9O/2w/F38R/sd+3b6ifmB+BL4zPd2+pf+6v57/sH+kf/J/6kC5gbxBFgEbAN8BT8GMQulCkIIcwn2CP8J6AgHCx0HUgXNA/cDSgS/A78D7AAYA1YCSAKFAWkB8/+J/tf/Gv6R/4n+bf6i/P79DP5l/Sj+Ef07/dL7M/wr+yX8JfzS+/v7+/sE/dr8Gv5l/UP+j/2q/UP+l/6l/tT9if7G/V/+8P1z/ZT8hvwJ/B37D/sw+rn4BPjM99r3fvt1/23+4v0U/2EAKQDNA7wGggT3A+kD0AX0BisMKAr2CL8IgQkuCS4Jigq8BikFzQMNBUoErAQKAzEB9AHsAJMBCAG3AosANwBFANz+u//B/jb+7fud/Qn8O/2q/V/+qv0J/Kj78/rE+8T70vsd+wH7qPtr/Cj+Nv7c/qr98P2J/jD/wf42/nv+nf2J/ij+X/6B/ej8QfzS+9/71/r5+Vf49vfa97b7NwBa/3X/aP+YAKYAIQTYBnQE2wObAmAFFQagC1IKeQijCBIJLglPCCgK+QVYBEIDzQO/A+kDCgO0ACwCoQECArQA+gD4/tT9FP+4/SL/Q/6l/mv8bf4o/kP+KP64/fb8tvuw/N/7ovxr/F380vt4/J39nf1D/sb9e/6d/Tb+e/7B/on+/v2X/lH+6v7w/bj9ovyG/MT7D/uS+on5gfij96P3fPmz/uX/X/74/sn/UwAIASMG1QT3A+8CdATQBY8JKwz8BzwJeQi5CU8IDApPCNUEkARQA4IElQOCBD8BoQF/AmkB9AGmAPoAZf2t//79FP8+/6X+nf0R/Wj/Zf2X/lf9V/3E+zP8Qfyo+5T8tvsX/H77O/0E/WX9qv1z/eL9Zf2J/uL9Bv8a/kP+DP5R/qX+uP3U/Wv8XfwP+wH7PvoM+dX4h/ed+FT7NwD4/gb/Pv9hADcA0wLYBgUExwTFAgcGMQYrDFIKNAj2CF0IWAnuB+sKPwbVBJUDsQMFBIgD6QM3AGMCdwFWAjEBWwGf/4H9n/9J/eX/xv0U/wn8DP5f/rj9e/47/Un9Hfu+/HD7lPxr/CX8mvua+3P9ovwa/lf98P1J/f79wf5t/j7//v2z/vD96v4o/tT9Sf14/Hj8Ofs5++v5fPkg+Pb3fPlf/osA+P6D/5H/JAHCAAcGYAW5BEIDEwQHBvYIqAxrCIcItgfaCOAHjwl5CBsFLgQYA9sDiAMhBJMBpgDKATEB2AHeAJMB/v0w/wz+KP7q/pf+8P2U/DD/uP34/rj9uP0X/An8F/yM+wT9QfxP/Dn7zPz2/En9qv1X/ar9Sf3B/jb+MP+J/gz+4v0M/s/+qv3G/TP8Jfzl+tf6PvpS+Z34h/eJ+Vf9bwAi/w0Arf8WAdAAUgWmBYIE2wPbA4QGawjSDLEILgldCNoIeQjNCHMJDQXHBAoD9wOVA6MDjQJvAH8CYQACAjcAWwFt/m3+l/5X/bv/qv3c/iX8Bv+q/Qz+Uf5z/dMCGAM+/zn7fvvl+q76fvtJ/Qz+3fka+cz3V/iB+Lb7V/3c/rP++/td/HD73/uz+Wj6Ivoo+dr37va29qb0Qfci/zcFfwdTAE0B9wPmBuAHDwzdD2gLjwlmBIcIzQiMDMEK8wt5Db8IxwSVAzkH4wQFBFYC5gHeAEn9gf3i/RsAbf47/Qz+Gv6w/C74VPuw/In+H/2i/Gv8XfzG/aL8PwFTAF/+fvtB/F/+c/3M/En9if5r/LD89vwa/rP+1P1o/zEB5gE2/v79u/8eAhYBl/6P/V387fvP+d35Zfhd94LzQvJu9BT/uQSTASD4Cfz0BuMJBAkdBwwKBQSeBLwGWgv2CDkHmwexCM8K4wTbA/QGbgrHBNf/n/99ACQBJAHhAn0AzPwJ/Jf+JgP0AZ39kvp7/oP/8P2l/tf/tADq/jcApgDeAM/+3P43ABsABP1o+l38X/4t/Tn7CfzM/CX8zPyB/Xv+qv2i/Ib8Gv7q/oH9zPzE+1T7oPrB+VL5Y/ZH9vHzSvMg894AvAaf/wf1Lf15DSAOPgt0BIEJsQOBCeAMhw2bB+ECzQhoC2UOtAWKBbYHCghQAzD/JgP0AVsBGwCmAFf9kvphAB4CSAKM+2j6mvuR/wAAF/wo/l38KP64/VYCNwA2/v79KP7z/+j8c/0X/Cj+T/wd+/v7BP2J/pT8e/5X/ar98P2f/63/Uf6z/vD93P6+/JT8fvug+lL5T/c59v/zIPNj9g0F8QRu+cXxngTaEjMN9wPYARgIUgXMDbANLglo/14Dvg25Dp0J9AFbBk8ITQbCAPQBEwRTAGj/g/+R/377Iv8hBE0BHfso+ZH/3gDX/5r7sPz+/bP+fQANAFMA9vxa/5MBRQDf+wT9AACd/df6rvqq/Rr+6Pxr/Ib8H/07/Wj/1/9X/Sv7if5NAcH+xPsd+wn8fvvr+S744PZu9HTzq/Nz/TEGwf5Y88H5fhHwDooFUwDEBwoIuQmJD50JGAMpAPsMnQ4+C0UFDQWHCLQFsQPvAsIFaQEM/hT/fQCR/xr+zQPQAPP6yfrQAEgC9vy+/Gj6Gv7+/YUByf9X/UP+pf5/ApH/c/37+1r/1P3l+vv7lPxz/fv7H/2U/CX8nf2t/1MAF/zt+9T92AEU/7b71/qM+4z73fl8+Tn2kPP38uv0kwGeBEf7cfHB/nMT2g2sBD7/JgjuByUNPhBNBg0ALAKREF0N9gi5BKAGNAhKBNsDXgNFBW8AGv6X/jD/yf8kAXoDzPyJ+f79egP6AGL7T/yM+/79+P4xAVr/c/3+/Uz/JAEw/8H+KP7G/WL7Hftt/lH+7fsP+wn8lPy4/fP/+P6i/Ef7Nv7QAGEA9vzJ+tL73/tU+8/5Zfhb9ffykPM2+SMG1/+S9Q30PgtXE10IfQD0AfkKtgeoEUwLPwE2/s8KOxM0CLwGrASrCXQE1QSYBSEEjQLU/df/DP6YABYBYwLX//D44v0eApUDcPvl+nj8BP2t//j+tACo+zb+aP8kASL/6PxM/1f9V/1M+lf94v0l/HD7D/vU/U/8kf9R/tT9Cfxz/cIATP82/sT7Xfw5+zP8yfoS+H/2ufPC9E31OgJCA6P3qfEYA6cWDAobAJ//IwuPCe4MNg8sArP+Iwa4E6UKigUHBhgIoAbhAq4G8QRCA9T9if4AAMIAMQEkAX0AaPpr/BgDJgNd/Jf5Gv4t/W3+Pv9hAAT9hvzQAJgAyf8t/Qb//v1r/Bf8vvwa/oz7jPtB/BH9vvwa/g0Aj/3M/B/98//J/xT//v2o+9/7jPtX/Tb5cfYb9N30mPTP/usF4/gC8Wv87RbMDUUAEf1KCTELzwrzEIgDZf1eAxkUXQ3pA4QGvwgmCMoBvAbeBekDg/9z/bP+1/8TBOYBdf+l+U/8LgSVAzv9Evgo/hr+Wv+z/qX+vvyB/ToC1//G/eL9dwGl/uX6fvuB/Zf+ePzX+gH7T/yq/bP+Bv+w/DP8Gv6t/7v/j/2+/FT7qPsl/E/8Svgx9fn0P/WE9dgBNAN/9lXxggQIFwQJGv7c/rwLaAt5DS0OGwCl/qkHiRQuCawERwc0CLQFGAPaCJgFmwIo/hT/DQB3ASEEUwBl/TD6NwD/BD8B8/rB+T7/c/2t/9z+V/1U+4H9LALJ/xr+6PwU/8b9O/2d/bb7Jfya+2X9QfxP/An8uP2z/hH9X/6l/sH+8P2J/nv+hvxU+5L6cPs8+H/2YPTV8432xwS0AHTzgvPdCrsVZgRz/SwCtgzVCQwP5Qs7/YP/YwzUEzcFGwXaCCYIzQPbA6MIIQS9Afj+s/7q/soBngSD/yX8u/r0AfcDrf92+pr7+P4t/QAANv4t/V38pgB3Ab78Lf2YAE0BD/uS+pT89vwE/V38R/sM+TP8aP83AO37cPsM/p//bf6d/S39cPsd+/P6u/pK+Lb26/QN9Jr2BQTeAIT1YPQHC8YT4wSD//wC0gyrCaUP3Qql/hYBqAznEtUETQaxCLEIsQMNBWsI2wM6AiL/KQDB/n8CegOt/0/8mvupAjQDWv8P+0/8pf6i/FMA1P3o/MT7TQG0AJT82vw3AJgAD/vJ+vv7hvxP/EH8R/tE+bb7s/6R/3P9QfxD/ur+u//4/rj9qPs5+yX8TPrH+Kj2dvW58wH2kAR9AOb1SvN8CkkTDQXX/7cCvAvaCHsPaAt7/rQAKwywEmYEAgfHCcQHJgNgBXMJlQNIAmj/g/9t/o0CngQG/8T7Jfy3AsUCkf/S+/v7Gv72/IsA8P14/L78WwHl/wn83P76AEz/aPp++wT9Xfwf/Qn8B/rj+Lj9rf9R/rb7a/z+/Qb/Iv8o/lT7yfo++pr7q/hK+GD0DfQF8yL/ggQw+pXy3P6OE+sK2AGFAaMIEgmECxwRNAMi/9gG3xFYCeMEyguHCGYEXgOPCTcFxQJjAiL/9vyLAPkFTQG+/KL8rf+pAosA3P4P+2X92vyJ/rP+O/2U/B/95f+X/kP+Uf7G/YH9lPwR/aD6K/tB/N/70vuM+778ePzP/qX+1P07/cH+kf8R/cT7YvuE+on5j/jg9krzo/Jz+PEEKP6m9IT1hw1aEJ4Eyf+YBfEJ9ggiEM8Kl/4sAjsO3Q8TBHMJhAvKBtgBVQfoCEIDqQIkASj+j/2xA7kEif62+539SAKvAZH/Ef1d/En9Lf0pAMb9H/3M/H0Akf/2/Mb9AADz/6j7D/sz/Bf8H/3t+w/7fPnM/MH+z/6U/KL8X/6z/rP+9vyM++X68/oi+iD4R/Z89P/zY/ZWAosAlffx8woIkRDSB94AggQuCSYIGg/MDcIADQCEC7sQYAW2B9cLqQfYARUGLgk8BAoDcQJt/u370wJ8BQ0ACfwE/dAATQHCAAz+CfyU/Ff9u/8M/kn9ovzB/rP+DP6X/m3+gf0f/S393/uS+rD8O/05+9f6zPxX/dr8Gv7B/hr+4v3q/qX+M/xP/Kj7D/uH9yD4HfZN9bHyGv5WAk/8nfNM/xQQGgq/AywCsQgjBvMLpQ/xBOr+2Aa7EDQItAUdDEoJlQPbAyAJsQNsAyEEwgCE+p//6wVWAqr99vz4/gAAMQHCAAn8Cfyi/J//DP47/ar98P3P/vD9l/64/f79bf5l/dL7hPqU/HP9xPti+zP8O/2U/In+z/4M/qr9s/4U/3P9BP1P/GL7bvnj+Er4kvV89KD1JAENAOX6yvWQBFUMqQf3AwUE5ga0BQQO0gxxAggBuQn2DW4FTwhoCzkHegP5BbwGhQF0BGYEFP+E+lsBPASYADD/e/5f/on+rwEpAN/7sPyP/dz+Ef34/mj/rf/i/aL8bf5hAJ//ePyu+gH7fvuq/RH98/rP+Xj8if5R/sb9c/1l/cb9s/42/tr8Cfzf+3b61fga+dr3Vfbj80H8rwEG/4/4vvzxCc0IygbpA+4H4wSVCBIOjQc6Ag0FlA15CHwFmArVCXwFzQNPCEgCSAK5BM0Da/yw/CYDAgINALv/aP+4/bP+rwEa/qL8zPz4/jv9Ef3q/kz/6v4t/Qz+/v0a/p392vw5+yL6fvuw/N/7Hfsl/C39nf0a/lH+xv24/TD/wf4t/U/82vyo+3b6Ivo2+e72MfW+99AA8/8R/Sj5owObBysHBwb5BeYGngRMC0QKggS/A2YJhAtmBDQI/wnNCAUEvAYNBfoAQgOsBFsBCfxhAIUBg//l/28ATP9l/TcATP+w/En9wf6z/vv7Nv7B/lr/e/7B/ij+c/0M/o/9ovxw+7b7JfzE+5r7XfxX/Z39Nv5D/v79V/34/gb/1P0l/Ib8QfyS+hX6z/mV9w/2cfbU/TD/if6g+hsAYAW0Bd4FBwb8B3QEcQe5CWkGSgR/Bx0M3gUjBjwJDArCBfkFvAZNAVYCBQRQAwz+FP/KAXX/kf9FAMIADP5o/wAAH/0E/f79u/9l/cb9Nv42/nv+pf7B/kn9Lf3a/JT8fvti+8T7fvvE+9L7Ef07/fD9/v02/vD9Nv6J/ij+O/3M/Hj80vvl+q76Gvkg+Jr2VPvB/s/+BP3+/dsDNAOeBHwFCgiKBfEEJggVBhsFhAaSCxgIwgWjCCAJjQfeBc0IiAMeAtMC2wPJ/2j/EAKf//j+rf+0ADD/FP+0ABr+H/1X/Wj/Uf4a/gb/Uf4M/jb+FP/+/YH9V/3o/Jr7Hfuo++37tvtP/KL82vw7/Xv+e/6X/kP+6v57/sb9j/0f/bD80vtH+1r6q/gu+Cj5BP0R/aX+c/0IAXcB0wJmBMIF9AYTBHwFKQXVBMIFsQjxCSMGxAdPCGsI6wXgB00GJgNeA+8CvQFo/wICJAG7/63/YQAbAEz/GwB1/8b9Gv57/s/+qv3c/on+l/5t/pf+/v1z/Tv9O/0z/Pv7VPvf+9L7ePwR/XP94v0a/m3+e/6J/qX+z/5R/oH9nf2w/Gv8cPsP+yL6x/hS+cn6mvtX/cb9rf+f/ykA9AEFBCkF2wPpA1gELgSKBWMHSgnYBnkILgn2CPQGJghVB/EESgTNA5sC7ACbAsoB0ACLAAgB3gApAFMATP97/sH+MP8U/8b9Uf5t/rP+z/57/vD9Lf1J/fb8lPzf+4z7jPu2+9/7ovz2/En9uP3+/eL91P1D/kP+4v1l/QT9hvwl/MT7D/to+ij5x/gi+pf5ePwf/RT/s/6J/uwALAKsBDwENAM8BEoEaQauBrkJqQcECeMJ4wmVCAoIeQhbBusFPAS/AzoC7wLFAmkB7AD6ACQBbwBFAEz/Uf6l/tz+wf42/ij+Nv5t/pf+/v2q/XP96PzM/Bf8mvsP+4z77fvS++37Xfz2/C39Zf2P/XP9qv3i/cb96PzM/KL8F/zE+x37dvrP+Yn5RPkw+uj8Gv4a/ij+3P4WAToCxwThAqMDiAPrBU0GTwg8CYcI/wndCqUKEgmrCU8IKwc/Bg0FlQOIA4gDtwKTAT8BFgEWAbQAyf+X/tT9e/5R/v79V/1X/Vf9DP4M/lf9Ef2i/L78Qfz7+w/78/od+0f7mvvS+138vvxJ/YH9Zf2d/cb94v2B/S39sPxP/F387fs5+2j6MPql+cH50vuq/WX9xv3w/TcAFgFsA4gD0wLbA6wEkgauBlgJXQjHCYoKFQs2CscJxwkKCFUHIwbHBOkDzQMmAxACdwE/AQgBpgDX//j+uP1t/v791P0f/RH9BP1z/fD9O/3a/JT8ovyi/CX87fsd+377Yvvf+9L7M/yG/Mz8gf1z/Y/91P0M/v79c/1l/cz8lPxB/Lb7OfuS+qD6s/lo+rD8uP2B/Z39X/5FAPoAegMQAjQDiANSBd4FKwexCEIIGgqKCvkKnQluClgJawh/ByMGrAQ8BNsDJgMQAr0BPwHCAEUAn/9R/qr9/v1z/Tv9sPzo/KL8H/1l/b78ovwl/L78JfxP/Iz7Oftw+4z77fvf+3j8sPwt/YH9qv24/Rr+Nv7w/dT9j/0f/dr8sPxB/N/7xPsP+0z61/ro/Mb9gf2q/eL9DQDQADQDygFxAmwDkATeBa4G/AebB2YJUgpuCuMJgQlzCUII/AegBvEExwQuBL8DYwICAj8B+gDeAJH/s/5z/Tb+c/1l/cz8sPzM/Pb8c/14/LD8hvy+/Ib8F/zS+377Cfwl/An8JfxB/AT9Lf2q/Un9c/3U/f79DP6q/YH9zPza/Oj8Xfz7+8T7K/uu+lT79vxX/YH9j/02/q3/tACbAqEBjQLhAjwEGwUxBjkHOQfaCMcJ/wmPCYEJZglrCEII5gbrBQ0FrAQTBAoDtwK9AWkB7AANAPj+/v1R/oH9j/14/KL8Xfyw/L78M/wz/DP8XfxB/Bf80vuo+wn87ftd/F38ovz2/Ff9qv2d/bj9Gv4o/v79xv3G/Un9xv07/cz8ovx4/CX8mvvf+778xv3U/dT9Gv7J/2EAygHYAfQBqQJ6A6wEGwWSBiMGfwddCAQJ2gjoCKMI/AfSBxAHtAVuBbkEBQQ0AwoDSAKTAcoBfQAAAF/+z/7w/Z39Ef2G/Ib8Xfzo/Bf8M/wJ/O37Qfzt++37mvvt+wn8Cfx4/KL8Lf1J/dT9qv2q/Rr+DP5f/tT9/v2d/ar9xv2B/WX9O/07/b78vvz2/Kr9l/4o/lH+s/7z/5gAhQF3AcoBjQKjA+kDdATVBGAFaQYQB0cHRwdVB0cHHQfmBhUGYAUNBXQEIQReAxgDYwIQApMBpgDz/zD/Bv9D/v79V/0f/dr8zPy+/EH8T/wz/E/8ovwz/EH8Cfyw/Ib8zPzM/BH9nf2q/fD91P0o/lH+Uf57/lH+bf4o/pf+Q/4o/jb+Gv4o/uL9qv2d/Rr+z/4U/xT/Bv/J/zcA+gACApMBWwFjApUDiAPNAxME9wPjBPkFfAVgBaYFbgUbBQ0FkAQTBPcDvwOIA8UCqQL0AYUBPwGLAMn/TP/q/m3+Nv64/Z39Zf1J/R/99vza/Nr8Ef32/B/9BP3o/GX9c/2P/bj9qv3i/Sj+if4M/ij+l/6J/jb+wf6z/l/+Bv8U/5f+3P7l/0z/s/4AAD7/xv27/zcABv/z/30A1/+LAHcBCAEkAXcBJAHYAQIC5gGbAu8CjQIYA80DsQO/A78DsQN6A78DegM0A/wCxQJIAgIC9AGvAXcBFgGYADcAyf+D/1r/6v57/lH+Q/5R/kP+DP4a/kP+Q/7+/Qz+Uf7i/Y/9l/4o/hH93P4o/o/9l/5D/p39Pv+J/qr9aP8i/1H+l/4w//j+bf74/kz/6v6D/2EAYQBFACkAfQCvAX0AiwBbAd4AUwB3AQICkwEQAkgCYwJxAtMC4QI6AiwCOgJIAiwCEALKAToCEALYAQIChQEIASQBJAFvAEUARQDJ/4P/kf8w/xT/Iv/P/pf+z/57/l/+s/6X/jb+Nv6J/v79Q/51/1H+Q/7B/pf+z/6J/vj+g//q/hT/g/+t/2j/NwAbADD/g/+mANf/yf/sAEUAn/8kAWkBNwBNAb0BtACvAb0BYQBbAQIC7AAkAU0BCAGFAZMBTQG9AYUB+gAWASQB3gBvAGEAYQBvADcAbwB9AGEARQBFABsA8//l/+X/rf9a/5H/n/9o/5H/1/9o/2j/g/9o/0z/n/8i/wb/aP8U/zD/Wv91/4P/kf9M/4P/1//l/9f/5f/X//P/1/8NADcArf8NAFMA8//X/2EA8/+t/2EAbwBFAA0AUwApAEUAYQBFAEUAUwBTADcAUwCLAJgAmABFAJgAiwA3AH0AbwBTAJgAwgBhAEUApgBhAEUAfQBhADcARQBhAFMANwBvAEUAGwApACkAUwDz//P/8//X/5//KQApAA0ARQBTAAAA1/8NAPP/u/9FABsADQBTADcARQBTAGEAUwBTAEUARQBFAFMARQBFAEUARQBFAEUARQBFAFMAUwBFADcAAAANACkA1//l/+X/1//z//P/yf8NANf/yf/z/+X/yf+t/7v/rf/l/63/yf/z/+X/AABFADcAGwA3ACkAUwA3AFMARQApAEUARQBFAFMANwBTAPP/NwBTAEUAKQBFADcA5f83AEUARQBFACkANwBTABsARQANAAAAKQDX/wAAAADl/9f/u/+t/63/n//X/9f/5f/l/w0A5f8NAFMAGwBFAEUAUwBTAEUARQBTAFMARQBvAGEAbwBvAGEAiwBTAFMARQBFAEUAKQBTACkARQBFAEUARQBFAEUARQBFADcAUwANAPP/8//X/+X/5f/l/+X/8//J//P/u//J/8n/yf/J/9f/u//X/+X/8/9FAEUAKQBFAEUARQBFAEUARQBFAEUAUwBFAEUARQBFACkARQBFAFMANwBTADcAKQBFAEUANwApABsADQBTACkANwApAEUANwANAEUADQDl/wAA8/8AAPP/DQAbAAAA8//z/+X/AAAbAAAADQAbADcAGwAAADcAKQBTADcARQBFAEUARQBFAEUARQBFAEUARQBFADcAKQBTACkANwBTACkADQA3ABsANwANAEUAAAANAPP/8/8AAA0AAAAAAA0ADQAAABsAKQAAABsANwDl/ykADQAAAAAAAAA3ABsADQAAACkARQA3AEUARQA3ABsARQBFAEUARQBFAEUAGwBFAAAANwAbABsANwA3ABsADQDz/w0A5f8AAA0AAAANAAAAAAAAAA0AKQDz/w0ADQANAAAADQDz/wAA1/8AAPP/5f/z/w0AGwDl/wAAAAANAOX/AAAAAPP/AADz//P/8//l/wAA8/8AAA0ADQAbACkAGwApAAAAGwBFAA0ARQANAPP/DQA3AAAA8/8NAA0AKQDz/wAANwAAADcAGwANAA0AGwAAACkADQANAA0AAAAAACkAKQAbADcANwBTADcAUwApAGEARQC0AJgA7ADeAH8HJQ2vAfb8Ffot/fP6Xfwi+vb8H/1mCTMNzPwYA4n+7ABi+x/9cPs2/hf8Zf3o/GEA5f/YAX0ANwDCAKYACAF/AtgB8//X/+wADQAbAJgA3P4CAuX/+gBf/lsBNwAxAYP/JAFz/coBV/2IA/79KQD2/N4Apf5J/WMCoQEw/9/7uP0sAggBqPvTAmX9JgMJ/LP+OgJR/hMEs/6J/rkE6PyLAMH+UwAmA0P+1P3P/mwD6v6FAYz7DQWq/X0Axv3eAOECbf53Afj+xQJP/K8BaP/4/gAAmAAi/x4CFgGX/uX/kwHX//D9rwGJ/hr++gCLABYBO/0YA8IAcPsIAa3/CAFhALcCg//i/cIAwf4i/3X/6Py7/w0AaQGJ/ikAbvnmBq8B/vi0ANT94QL7+5AEgf0pAPj+kf99AHX/bf64/SMGJgNhAKX+PwEpBU0Bpf4KCJr7Ow7C9CMG1/qYBSD4pgWG/Kr9e/4G/8H+3gBa+rcChvx/AuL9Lf2TAQ0AkwF++3oDdwHw/YcINwXTAlgEVPv5BYn5FgFf/i39uP2g+hAHufjvAk31ygaj9ysHTfVmBM/+HQfw/YgDc/hjBx/9XQjl/8/+LAIWAUz/DQXM/PT1KQWYBZ39OftR/u37pQ+l+UUAF/wAAO8CUAMz/Oj8X/6hAdAAfQCM+28AmwJf/uME0vtQA9/7IAnB/gT9xv2g+iAJ1/qIA0r4kf//BNAAaP/P/mkBNANCAzD/xPvmARf8cwk3AK762AER/b78PAQ3AFT75gEsAnP9T/yG/Dz4sQPJ/0gCDPmjA4IEMP+LAIb8/wSP/Z4ErwEJ/FMAaP9IAr0BbwAeAn0AiwBFAAT9MQENAM0DqPvsAIf3wgBl/TQD9vw/AaL8zPyKCvD9Qfw0A6MDowPU/UH8FP8G/+X/DQX2/Db5IQSjA1L5XgOd/UgCbAMxAVr/oQEG/30AbwDz/z7/1QQd+zD/3P5WAon+FgFvADoCz/75+UUANwAmA9AAa/w2/ncB8/8WAbv/kf/vAuX/WwECAuj8jQIhBLD8PwEw/1r/BP1a//b8bwD6AAgBWv/z/7P+z/67/0P+RQXP/lr/LAJo/1ADa/wt/YgD7wL+/Z//g/9a/yEEyf/+/VgEu/8kARgD+P4l/PwCdwH0AXv+GwDc/h4CFP97/mj/sPxQAyL/g/83ANMCTQFM/x4Cxv3sAGAFhQG9AUIDJAHP/lH+Wv9a/0UA+P5i+wb/fPnM/CYDiwDJ/6763gAw/0UAaQHf+5sCXgPYAeYBH/1bAU0BTP+LABsAWwHi/SYDtACM+4UBygHbA8oBdf94/LD8AgI3ACQBovxw+xACs/76ABT/ePyf/00BFgFR/m3+ngQ3AK8B1/8eAnX/+P4YAxr+bf7P/ggBaQE7/Sj+BP3z/9MC9wMsAg0AmwK3Ar0BiwCJ/nX/PwFTAHj8rvoE/SL/GAMi/1/+g/9o/woD9AFt/nv+kf/mAa8Be/5f/l/+aQGf/w0A8/9o/1sBCAEkAT8B5f/CAB4CSAKTAcoB5f+R/2MC9AHQADD/if4bANf/FP/P/on+fQDP/lf9O/0G/94AAAChAQ0AmACYAJH/0wKFAdAAOgKpAuYBdf97/pf+TQGTAQ0Ag/9D/gAAkwFM/6X+AAC0ABsA3P4G/+X/3gBxAs0D4QI3ABsASAI/AQ0AvQGTAb0BCAFjAoP/3P43ANAAMP/c/mj/z/7+/cn/DQAG/0UAAAAU/+r+3gCD//oAHgJbATcATQGYALQA5gGvARYB3gBTACkAUwApABsAyf8w/zb+gf3+/Wj/aP99AE0B3P4+/x4CJAHJ/8oBhQGf/94ATQF1/5H/iwBhAMIADQCYAKEB5gFpAXcBJAFhANAA7ABM/4n+aP83ANAAn/+X/iL/Wv9t/p//YQBo/0UACAFM/zb+yf83AK3/5f91/0z/kf/sAK8BFgFhACwCygEi/zcAxQIbAAb/TQFa/0n91/+FAWj/5f8kARsAl/4w/7QApgCf/28A5f/P/on+GwDQAIP/kf93AT8BFP8bAG8An//J/5sCrwE+/1r/g/97/rP++gDl/8/+6v43AIn+X/4U/6YApgAWAW8AGwDJ/5gAWwEeAoUB+gAxAbQAKQCLALQAwgCmAMIADQCR/z7/1/8kAZH/pf6D/yL/4v1TAOwAbf57/j8BFgGt/+wAhQHz/w0A5gHeAIn++P4kAXcBpgDeACkAPv8NAAgBYQA+/28AFgF9AAb/yf9M/yL/rf8NAPj+3P7l/5gArf8w/4P/n/9TAH0AfQD6AGEAyf9FAFMAUwDeAD8BWv8G/7QAYQDc/hsAMQFFAM/+3gAIAcn/Pv/0AWEAaP/sAAICpf4U/2kBdwEpAK8BaQGz/oP/SAICAvP/UwBvAOX/Wv/eADcA3P7q/ikAFP8a/iL/g/97/iL/tAAi/+L9DP5a/7P+Bv8AACkABv+X/q3/YQBFAH0ACAGLACL/1/8AAIP/MP/6AH0AX/6B/TD/fQDz/4UBCAEG/8/+YwLKAVsB9AEQAn0AYwKIA68BwgCFAY0CXgPvAuYBFgHCAJMBzQMCAoP/yf9TAJ//kf+D/23+yf9TAJ//l/6D/z7/0AAWAcn/+P6R/6X+xv0U//D9hvwE/YH90vs5+0H8Jfzf+7b7F/xH+zn7M/y+/Bf8Sf2d/XP9nf1D/vj+3P6R/3X/3gD6AFYCqQJIAn8CowMjBgcGEAfpAw0FWwa5CfkFmAXmBoQGkARFBU0G5gGVA/cD6QN1/yQBGwDX/yL/aQF9AIP/TP9FACkAFP9a/00BFgHX/8/+3P5z/Zf+z/5f/h37pfmx9/z2tPSK9DH1oPUV9Tb0o/J/8Sby1fPd9JL1xPZ596j2GPdz+Bf8g/+rCbgTuBM8CVIKzhQOFtEWchhUFvML1wt5DWAFMP86AsoGoQFz/Tn7mvaQ88n6WwFl/XD7nf3eAEz/0wJeA5gFfweECwcL6AgpBTcFuQkuCW4FcQIWAd/7FfpM+v74Y/ZX+Br5I/WH8v/z9PUd9nn3IPgB9lv1cfYg+If3sfdP9+b1ufOC85XyjfEV8I3xf/Hg8Yf3Ywc7EzgRIA7wEwgckBokHJsdJxkqEfsRaBB0BHD7DP53Af79TPoS+Erz9/LH+Nz+6Pzw/akCrAT0AU0B9wOVA8cEmwf/CV4DiwD0ARgDtACYAHcBs/6z/n0AGwAV+rn4uP0xAQ0AzPyU/Lb72vwa/jcAbf4M/p//PwEo/uv5TPro/En9Qfyg+u72ufPV82bzofCk7Xrtze097vTrSOxh7+72oAvIGtMYIwvWFb8eshl4F40dwxbxCfAOBwvV+AjwYvsWAbb7Ivq+953zRPQ3AIoFpgDCAFUH+wyjCHwFmADvAtgGIAmCBNf/8/qr+Nz+u//l+uP4Q/4+/2X98/8CAtMCJgMTBOYBMP+z/lr/bwBvAFYCKQCa+2X4MPo5+4b8bf6d/Uz6lfcg+Mz3j/iJ+ev5Zfgx9ULyP/CT8PrvyvBb8ILuaeu29hoPwBnJEM8KdRrIGqoTmRYYHpoRnQmoEeMJHfbN8kUAwgDz+gn8R/u+9xr5vQFsA9AAVgLQBSsHtAUHBrcCmwImA2wDaP8l/Hb6+fna/HP9Xfzz+lH+UwA/ASwCGAOVAzkH3QoQB0UAXfzP/hsANwBR/vv7V/gz91f4KPlo+sz8n/+7/yL/1P3t+778Bv8+/2v8bvlV9hLz4PEV8OTuXu3F7JboeObv523++xYQHSIQKhF3HEYWpRTLHGYfrRDwDoQQKQB38Hz0DQDB/sT7vvzH+Gj1PPgYA+ECHgIhBIcIzQg/Bn8CvvxhABMECgM+/4/9z/kS+P79kf9X/bj9egM0A8oBhQG9AX8C5gaKClgEkvru9rv6ePw5+zD63fn5+Rr+oQE+/yL6M/yjA+4HWARa//b8Uf5t/sb9dvrE9sr1/PZN9UXvYeoc6svrmeoD5+rjv/IPEW8g2RcEDj0arBpUFhMa3iAwFbwLWhDuB5DzpO02+TcAsPza/IT66Pfa93X/9wO9AUIDPwadCUoE5gEa/iQBsQO/A8IALf2E+gz5xv1a/8H+z/7FAmwDoQH6APQB2wNjB48JBQSu+mP21fhw+wf6vvcz99X49vwpAKX+fPmU/M0DOQcYAxsA6v6YANgB+gAz/CD4M/fa9+b1Y/He6mHq2euh6yLkH+JY7rANpB7kGjYP4Rj6Gw4WtRYQHZkWFw0UECgKMfVO64T1YQA2/nj8BP3J+uX68P0TBJgAjQLCBcEKdwYkAZ39bf6pApMBbwAR/dL7bvm+/J//uP2X/hgDFQbpA+8CbAOIAzEGGAjQBYH9efcm92j6VPta+rv6rvow+vb3Lvh8+Yn+owMCB7kE5f+B/c/+AACR/yL/lPz++A/22/Lp7UDrr+uh6wvoYuVn5Lnz5RAVIV4ZrRAsHRge/hPaEpAaixa2DEENRQW/8r3raPXeAB/94v1l/WEA3P5vAB4CaQGmBRAHkgvKBnECTPol/NAA6v5B/Iz7DP4H+pr7Ef2d/cn/owNVBxsFPASpAr8DuQQ0A4UBBv8t/V337vao9n/2JvfM/OYBpgBr/K764v3mAccEPwa0BSYDmAB7/qj78Pir+MH5Ivqg9THwd+ve6qzpZ+kt59/leujX/5Aa9CFZFaoTvx51Gk4SOxMnGZwTygsrB9r8+u/37UH3kwFo/zb+gf2VAx4CdwF9ANsDRwejCP8J0AUbAJf56Pyl/r78kvro/FH+7ft4/Oj8e/4CAkUF0gc/Bm4F0wIuBEIDiwAa/nP9K/sr9vT1MfWu9X/2jPveAHoDCAH2/HX/QgN8BeMEfAXpAzoCAADf+4H4K/Y59hX1kPMx8NPs0OpF6lnp2eZU5YvqWwEcGywiLRitFWweLxqoEdcQMBUDE3YLHQdX/Trxv+1H9nX/3P4G/4sAkASeBLEDmAAsAq4G6AiBCfQGJAH5+X77gf27+v747fv4/rj96v4a/kz/SAI/BisHAgf0BscELgQKAxT/3fku+Pb34Pao9gr3PPh8+Sv7hvwG/40CYAXSB2MHtAWxA+EC2AFNAT7/nf3M/BX6I/U/8Ozvb+9v70LtgOzD6sjpzujA6J7u/wRFG+kj8hqsGtkctRYSDgQO7RF+Ef8JGwUr+0T0mO9b9XP9kf86AiwCCgj5BZ4ETP9xAjEGygbYBrkExQLS++X6FfrB+Vr67ft1/1MAcQLl/xYBSgS0Bd4FYAW2B+kDiAOLAIH9fPld91332PV59yv2lffB+SX8vvyd/SQBsQPKBjQI9gjuB00GEwQCAqYAqv3X+k/3AfaC8yzxuu6k7YjtGe3b7f3s4exC7Snv5vXKBnoZ8R89GnIY1hp1FSAO+QogDoEO/AfFAiv7h/er85X3BP1FAHECfwLYBmMHdwZvACQBIQT5BZgFkAS3Ap39CfyS+hX6Wvpr/MH+TQEhBHECEAJCA4IEZgSQBKYF6QM0A0UAT/yd+Cv2aPUj9Sb3sfed+AH71P3q/s/+YQC3AjEG9ghKCWsIBwZQAykANv6o+/n5wfnw+FX2JvIj8HTuS+637Jvsv+3I7lPvKe+V8pf+WhAsHW8brxfTGO8YThKSC4oKKwxYCccEYQDS++j3qPb5+cz8JAFIAmYEjQdYCYIE7AAsAkoEWARmBNsDNwA+/4/9+/t+++j86PyX/noD6QMYA9MCLgRQAyYD9wM0A7cC9AGJ/iL6ufj89sL09PVr9xL4+fnw/TD/df8bAHcBlQNNBhgIqQfSB24FcQKt/8b9xPsM+ej37vZb9S7zhfCm70XvKe/p7f3sZu4x8DTymvYhBCcUtRvZF+oUfRZLFesPwQq8CwEMCgijAzD/KP67+nb6hPo2/ncBkwFQA5gF4AcmA0UAwgDFAtsDXgMKA2kBPwFM/3P98P1t/sb9pf7vAr8DbANxAmMCAgJxAlYCRQBbAZgAUf45+2j6j/gr9hj39veJ+fP6gf2J/oP/+gAxAbcCEwRFBeMEUgVKBKkCdwF1/6L8z/nV+F33xPag9Qf11fMg82zyafAI8HTuYe938M/03P4HCyIV3BScE5QSwxHiDvkKygsBDDYKVQdYBJsC8/91/3j8JfyJ/jcAYQDYAbkEGANbAX0ANwC0AAICtwIkAfwCXgO9AUUACAENABr+pgCYACwCLAJ/AlMAmAChATD/6v57/l/+9vwf/UH86/la+qX5RPn5+Xj8Ef2d/Vr/DQDmAfwCowP8AkIDbAMeAuYBpgBo/9T9gf22+9351fhB9xj3vPXY9Rv0ufPp8nHxt/HF8YT1QfzrBTMNNg8oD0kOBA6oDFIKGgooCpUIqQdbBrwGZgT3A94AUf4U/7v/NwA3AOEC2AEIAZgAUwDJ/0UAiwCf/68BCgNeAzQDowO3AsIAWwFvAIsATQHKAZgAUwChAWj/6v7w/Vf9+/tr/JT8yfq2+/P6AfsP+y39nf24/cH+6v4pABYBqQJjAkIDXgNjAmkBFgGYADD/if47/Xj8qPsd+/n5RPkM+fb3T/c59ub1B/Ux9cr1Lvga/qMDAgdbBgIH5ga8BqYF9AbaCOAHVQcjBh0H9AbEB/kFowOxA7cCjQIeArEDGAPKAYUBRQDeAG8AKQAw/28A2AFpAeEC0wL8AuYBAgJNAewA9AHeAIsANwDsANf/TP8G/4H9ovwJ/H77Afua+6j7Afvf+778c/2q/Xv+e/4i/xsApgChAR4COgKhAZMBPwHCAGEArf/P/ij+DP7G/Vf9ePxw+4T6Ffrr+UT5/vgE+DP3h/el+S39bwA6Ah4CkwFpAToCXgOeBGAF8QTjBOMEvAZxB80IvAZFBZAEvwOeBIgD/wQKA4gDxQJxAtMCrwH0Acn/FgGYAE0BdwGhAT8BbwCTAVMAfQA3AEUAWv8U/+X/pf5a/zb+Gv4t/Z39Sf14/HP99vzG/Y/9+P6J/pf+Iv9t/vj+Bv8AAIP/NwDX/0z/TP91/5//FP9M/0P+/v1z/eL9Lf1J/WX9Xfz7+x37VPta+mj6+fnd+Uf7vvxM/xsAmADz/9f/KQBhAAoDUAOjA6kCvwMuBCkF5gbQBW4FBQRFBYIE0AUHBm4FSgTpA2YEowMTBGwD0wLmAR4COgIQAn8CrwHeAH0AYQCmABsANwDq/tz+Bv/B/ur+e/5f/i39qv0R/R/9BP0R/QT9Lf3+/bj9uP2q/ar9nf0o/qX+e/7P/pf+pf7P/kz/MP/P/iL/if6z/on+s/6X/nv+Nv64/Y/9Sf07/V38a/y2++37Qfwt/Sj+3P6f/4n+Wv8U/+X/0ABWAsUCtwKVA78DBQQ3BfkFigVFBWAFDQXHBNAFfAVFBZ4EWATbA78DsQPhApsCEALmAZMBkwF3AX0AYQDJ/8n/n/9o/wb/Gv6z/sb9bf4M/jb+nf1X/Vf9vvyB/fb8V/1J/dT91P3G/UP+8P1t/m3+3P74/tz+Pv/B/mj/Wv+f/0z/df8i/wb/aP/P/kz/+P74/vD9xv07/S39j/1X/ZT83/tr/Ff9KP4w/1r/e/6l/j7/1/+LAKEBAgKvAY0CXgNmBIIE/wQ8BCEEkARmBP8E4wQbBSEEWARKBCEEEwSIA0IDYwI6AvQBAgK9AT8BtABTAEUAGwC7/3X/pf6J/lH+KP7w/Qz+4v1l/Z39Lf2B/Vf9gf1J/XP9uP3G/Tb+KP5f/ij+X/6X/sH+TP9M/1r/MP9a/3X/aP+f/1r/TP9a/yL/Pv8i/zD/+P7q/rP+l/5f/kP+/v3i/eL9uP0M/lH+wf4+/2j/aP+f/w0AKQANAD8BWwG9ARACtwImAyYDzQOxA80DsQP3A80DzQNKBNsDvwO/A80DUAM0AzQDjQIsAvQBWwE/ASQB+gApAGEArf9a/1r/MP8G/4n+wf5R/l/+X/4o/rj94v2q/YH9uP3U/eL98P1D/lH+KP5t/ij+Uf57/sH+wf7q/hT/Iv9M/5H/kf/X/9f/KQAbAJH/8/9hANf/rf8bANf/aP+t/4P/aP+f/wb/3P5o/2j/df+f/+r+Pv/l//P/GwBhAA0A1//QAH0ApgCTAcoBaQEQAkgCcQJjApsCfwJxAn8CLAIsAnECcQIsAmMCEALYARAC2AF3AWkBWwHeANAAwgBvAGEARQANANf/u/+D/3X/Wv8i/wb/wf6l/nv+if5t/ij+Q/4M/v79pf5D/m3+bf5D/m3+if57/s/+wf6X/ur+aP9a/zD/n/+t/4P/u//J/0UAg/9a//P/RQAbAA0ANwBFAAAADQA3AGEANwB9AEUAfQB9ALQAtAB9AMIA3gA/AewA7ABNARYBMQEIAVsBPwEWATEBWwEkATEBMQEIARYBMQEIAewA7ADeAJgApgDQAKYAwgB9AEUAYQBTAEUARQA3ALv/KQAbAPP/1/+7/2j/MP8+/8H+s/57/qX+wf5f/qX+FP/q/s/+3P6z/lH+z/57/tz+z/7c/jD/MP9M/5//1//z//P/u//z/w0AAABhACkADQBhAKYAwgA/AT8B3gAWAQgBCAEkAaYA0AB9AMIAFgH6APoAPwEIAdAACAHeAIsAiwBFAEUARQBTAEUARQBhACkADQAbAA0AGwDz/+X/kf+f/5//1//J/+X/yf/l/wAA1/8AADcADQDX/ykAGwBFADcADQBFAEUARQBFAEUA5f8NAFMA5f/l/wAA1/+7/w0Arf8NABsA8//J/w0AAAANAMn/yf/l//P/yf+t/wAAGwC7/+X/RQDz//P/RQANAOX/KQBTAOX/GwAbANf/RQBFAEUARQBFAEUAUwBFAFMAUwBhAFMARQBFAFMARQBFAFMARQBFAFMARQBFAEUAUwApABsAUwA3AA0ADQA3AA0AGwBTABsARQBFAFMAAAA3ADcA5f/z/zcADQDl/wAADQDl/9f/8/8AANf/5f8NANf/5f8pAAAADQDz/xsANwANAA0AUwA3AFMAKQA3ACkAKQApAEUARQBFAEUARQBTADcAUwAbACkARQApACkAKQAbACkAKQA3AAAAGwAAAAAADQA3AOX/DQAAAPP/AAA3AAAA8/8AANf/AADz/+X/1//z//P/GwAAABsAGwAAAEUAAABTACkANwBFAEUAKQANAEUAGwApADcAKQAbAEUAKQApABsANwANADcAGwApACkANwA3AA0ADQAbAA0ADQA3AAAAKQApACkARQAbAEUAAABFABsARQAAAFMAGwAAAGEAKQA3ABsAKQANABsANwDz/0UA8/83AA0AAABFAEUARQA3AA0AUwANAEUANwApAEUAGwA3ACkANwAAACkAAAApABsANwApACkADQBFAAAANwAbAA0ADQAAABsADQAAACkADQAAAAAADQAAAA0AGwAAAOX/DQBTAAAA1/8NAAAAKQApAA0AGwAbADcAGwApABsAKQANADcAAADz/wAAKQAbACkAKQAbABsAGwApACkAKQA3AA0AKQBTAA0ARQAAAEUAAAAbACkAAABFAFMAGwAAADcAKQAbAPP/GwANABsAAAANAA0ANwDz/ykA1/83AA0ANwDX/ykAGwA3AAAANwApADcAGwA3ACkAGwBTADcAUwA3AFMAKQA3AEUARQApACkAGwBFAEUARQAbAEUARQAbADcAAABTABsAGwApABsAUwAbADcAKQApAAAARQDX/zcADQANAFMAGwAbADcA8/9FAOX/KQApAAAADQANAEUAGwA3AOX/KQA3APP/AAA3APP/RQANAA0AAAANAA0AAAANAAAA5f9FAAAA1//z//P/5f/l/w0AGwDz/wAADQANAOX/KQA3ABsAAAANAPP/NwAAABsANwAAABsANwApACkAGwBhAPP/UwApAEUAGwB9AA0AYQAAAIsAWARZFf4OLgkmAyL6h/dV9uX65fqi/EH8a/y+/Lj9Uf6J/nv+TP+YAKYAPwEWATcAWv97/ur+aP+LAPoAwgAIAfoA3gAIAdAA1//J/6X+g/+f/+wATQExATEBGwDJ/4P/n/+f/4P/n/9vAPP/YQCLAGkBRQAo/tf/TP/4/rP+YQDsAMIA7ADsAIsAKQApAIP/DQAWAa8BqQKNAhYBu/9TAHX/8P0t/V/+8//YAWMCkwGhAa8BWwHz/7j97fsr+1T70vvM/HP9Nv7q/ikARQDCAD8BFgFbAWkBWwHsAH0AAABo/z7/Iv8w/z7/Wv9M/0z/FP/c/s/+l/5D/ij+bf6J/s/+Bv8w/2j/Iv/P/vj+Iv8w/3X/u//z/w0AAAAAAPP/5f+f/7v/yf+f//P/GwBFAEUARQBFACkADQA3ACkARQBFAFMAUwBTADcAUwBFAEUARQBFAEUAUwBvAJgAmACLAGEARQBTAEUAUwBTAH0AUwBTAEUAYQBFAGEAiwBvAG8ARQBTAEUAUwBTAH0AiwCmALQAmACLAIsAtAC0AJgAtACLANAA+gDsAOwAwgDCAN4AiwCYANAA7ADsAPoACAH6APoA3gC0AG8AYQBTAGEANwBTAFMAUwBFAEUAGwA3ABsARQAbAFMAUwBTADcAUwAbADcAGwDl/w0ADQBTAA0AKQApABsANwApAFMARQBTAFMARQBhAEUAYQBhAG8AbwBTAIsARQBhAH0AwgDCAMIA0ACYAMIAUwC0AH0A0ACmAMIA0AC0ABYB0AAxAd4AFgEIAewA3gCmAG8AUwBFAFMANwB9AEUAYQA3AA0AmAA3AH0Au/8bAOX/rf8bAJH/RQCD/xsA5f+R/8n/Pv91/0z/df+t/5//5f9M/+X/TP9M/0z/Pv+f/0z/kf9M/3X/n/91/63/kf+D/8n/g/8NAAAAtADeAMIA+gBvAAgBwgAkARYBCAFbATEBoQFpAZMBaQE/AU0B7AAxARYBMQFNARYBJAHQAIsAfQBFAFMANwBhAGEARQBvAEUAYQDz/63/u/9a/5//Wv+D/0z/Iv/4/nv+wf5R/rP+X/42/hr+nf3G/Un9Sf3M/Pb8Ef0f/Y/9Sf2d/Y/9xv3i/fD9l/57/jD/aP83AOwAvQGpAjQDzQOsBHwFvAY5B3EHOQdNBqYFdAQhBL8DowPvAh4ChQHCACkAn/8i/4n+KP6B/WX9c/24/f79e/6X/rP+FP8w/63/UwBvAAgBJAExASQBJAG0ABsAMP/w/dr8qPuE+qX5c/jo9/z2f/bm9QH2cfao9l33M/d59133Xfed+Fr6MP+sBDkMJRLkFQMYOBYiFX4RIhB5DZILSgn5BfcDMQFa/wT9dvpP95j0bPKp8SbyYPQB9p34pfm7+n77a/zP/pgAowPxBDkH2ggoCjELBwvBCgQJ5ga5BDQDOgL6AK3//v37+8/59vdV9sr1vPXm9Qr3o/ez+Sv7O/0w/4sA9AG3Ar8DrASKBakHGAj2CKMIJgh/B9AFngS3ApMBdf+X/i39ovya+3b6B/rw+GD5Uvk++rv6+/vo/I/9e/4+//P/0AAkAU0BTQFbATEBmAB9AK3/Wv8i/zb+uP3M/LD8ovyU/Ff91P0+/ykAoQHFAtsDxwSKBaAGvAZ/B2MHjQfmBt4FYAX3A4gDSAJbAewAAACR/0P+uP0R/b78a/wz/Ib8ePxJ/Vf9DP7B/nX/UwBFALQAbwCLACkArf8+/1H+Sf0J/K76Gvku+If3GPeo9nH25vU59g/2R/Y59jn2cfZ593D7WwFuClwSiBkCHdAb3BnwEyIQKwxYCV0INwWjA94AuP3t+y74hPX88UXv1u7W7hjyMfXw+F38xv34/nX/CAHhAqwEEAfoCOsKOQxjDB0MpQrNCBUG9wMQArQAdf+J/pT81/rj+Cb3Y/au9Y32xPYu+In5jPu4/fP/AgI0A80D9wOCBA0F6wVpBk0GwgU8BBgDMQFo/4n+zPwl/Dn78/pU+w/7tvu2+7b7Qfw7/fP//AI/BisHEAeeBNMCTQFFAOwAJAFjAvQB7AAi/y39T/xi+6D6wfko+Qz5bvkV+gH7xPui/Oj8Sf0o/mj/TQHvAtsDZgRSBZgFWwagBhAHKwfKBvkFxwT3A4gDCgP0Ad4Au/+X/lH+qv2q/XP9Zf2d/Y/9KP5t/pH/UwAxAaEB2AECAtgBEALKAVsBiwCf/4n+nf3a/E/8jPta+ij5o/cr9oT1W/UB9gr3vvdl+P741fhE+bn4YPnr+WX97wJuCucSchiTHOQanBgRE4EOqwmEBpAEVgLQAI/9rvo8+Nj1nfPu8YXwHvEm8qD1q/hd/Lv/dwHhAkID6QMNBbwGXQhKCWAKwQrjCfYIoAY8BOYBaP87/cT78/q7+mj6z/m5+Mz3T/cz9wT4ifmM+/D9RQACArEDLgR8BSkFbgVFBccEGwVKBPcDiAM6ApgAs/72/MT7cPsd+2L7tvsJ/Nr8H/3+/Zf+Pv99ACQBVgJeAy4EGwVFBW4FDQUhBL8DCgObAgICtACl/gn8FfrH+HP4q/id+ET5Uvnr+SL61/r7+3P93P6f/w0ApgBNAToCJgOIA78DvwN6A/wC0wImA7EDvwPbAzwEPAQuBNsDvwP8An8ChQEkAdAAmADeAPoApgApAGj/Wv8w/yL/1//z/9AAwgDeAGEA1/8w/7P+Uf4M/ij+Gv5R/vD9c/1r/H77hPqX+cf4nfiB+P74DPlS+dX4Svhz+LH3Evhz+Kv4Uvl2+pf+dARdDScUbBnqGUAXuBOdDhUL/AfmBv8E/AIAAO37ufgz92j1mPRY8wXzq/Nb9SD4rvo2/m8ATQHYAeYBQgOQBNgGeQguCYEJowhxByMGZgRQA3cBn/8t/e37R/sB+8T7xPsE/Y/9qv3o/CX87fsR/UP+g//QAJMBcQLTAtMC0wK3AlAD/AK3AqEBpgDX/zD/KP64/dr8XfwJ/Ef7CfzM/P79wf4G/8n/fQBbAUgCXgMbBakHDAq5CakHLgRhAJ397fvf+7D8/v3+/bD8D/uX+UT5pfmE+mL7XfxJ/cb9e/7q/oP/RQDQAOwA3gB3AUgCQgOxA4gD4QI6AsoBtABhACkAKQBFAK3/AADl/8IAaQH0AToCEAJ/Ah4CjQIYA4gDvwO/A/wCEAKFAfoA7ABhAFMAAACt/0z/l/5t/gz+/v3+/dT9nf3G/Rr+DP7i/ar9Lf2+/DP80vua+377tvu2+7b7qPuo+9/7mvti+7v6aPoV+vn5Pvp++9T9EAK8Bq4LiQ8lEqgRpQ8JDQQJKwcbBZ4EEwQKAxAC+P7M/JL6x/hl+IH44/gi+lr67fv2/In+n/8NACQBdwFxAmwDvwPjBJgFTQbeBdUE2wO3AtgBfQCR/5f+1P32/LD8M/zE+5r7Ofvz+g/7fvuw/In+NwBbARACjQJWAnEC5gH0AdgBLAJxAhACAgI/AfoAbwDl/+X/g/91/2j/df8+/1/+H/0r+zD6fPl8+Xb6qPuw/En9c/2U/Pv7tvt++9/77fsJ/BH9n/9CA5sHPgu2DHAM1QlHB6wEiAO/A9sD9wOIAx4CAADU/ZT8Qfzf+7D8j/3w/cH+Wv+t/1MAiwDQAJgAtAA/AeYBtwKIA78DsQOjA8UCygHQAG8ARQBFAK3/MP+X/uL9Zf2w/JT8ovz2/Nr8BP0f/ar9l/4G/4P/rf/X/zcA7ABNAR4C4QKjA7EDBQSeBMcEIQShAbj9MPoE+Dz4UvkV+mj6s/nj+Oj3effM92D51/qM+3D7rvpd/OwAYwczDTAQIhAJDZ0JjQcxBlsG4AebB3cGxQKt/0H8mvsJ/H77Hfto+t35MPqa+8z8MP/eAJMBMQHeALQAVgLpA/8EfAW5BC4ENAPhAtgB2AG9ARYBAABf/p39nf24/ar9Lf1r/N/7M/zM/Lj9z/6R/7v/aP8+/1r/5f/eADEBCAHCALQAvQGIA1IFfwfmBlgE5f8P+4/4SvjB+Yz7vvx4/AH7KPlz+P74fvvw/Wj/MP9D/lf9O/02/kz/tABjAukDpgV/B9IHJggQB1IFowNWAlsBaQGTASQBKQCR/+L94v0a/pf+kf9vAIUBoQFjAh4CSALTAsUCJgPhAn8CSAIeAtgBJAHQAOX/yf/J/3X/n/9a/1r/FP/c/pf+l/7c/s/++P7B/sH+s/6z/tz+l/7B/qX+wf74/s/+FP8U/8n/mACTAcoBEALKAVsBtADJ/+r+X/4M/rj96Pwz/Iz7jPvt+3j89vxX/cb9j/1z/ej8sPza/BH9xv1D/rv/9AFYBAIH/Af8B8oG8QTpA9MCkwFNATEBWwG0AJ//z/7B/j7/kf/X/2EAMQE6AuECXgNsA4gDiAPTApsCvQH0AZMBkwEWAVMAfQBvANAAfQApAJ//FP/4/pf+Iv9a/+X/RQDl/1r/pf4a/vD9KP4a/m3+e/7P/hT/Wv+t//P/iwA3AFMANwDQACQBCAENAKX+gf2w/L78zPwf/ar9uP3i/Z39H/2i/JT8vvz2/Oj86PyB/eL9+P7X/9AAdwHKAXEC4QKxA7EDLgTbA5UDqQKvAXcBJAEkAZgAmAAIAa8BSAICAvQBaQFbAewAJAGhAY0CXgOjA2wDEAJpAQgBCAF3AQIC0wLhAgoDSAJNAcIARQBhACkADQC7/5H/Iv/B/gz+Zf0t/Vf9Gv42/qX+if6X/vD9O/1B/HD7R/tw+9L7M/yG/Ff9xv3+/Rr+8P3G/ar9j/0R/cz86Pw7/dT9X/4G/9f/UwDeAFsBAgKbAhgDlQOxA78DvwO/A7EDvwO/A78DbAN/AqEBJAHQAD8BWwGhAQICEAIsAsoB9AGhAU0BMQHCAMIAmADQANAApgDQABYBkwHYAa8BMQH6AKYAbwAAAJ//aP/l/zcAUwANAD7/6v6J/rP+Gv4a/l/+if6J/v79O/2+/LD8sPzo/I/91P2X/hT/6v6X/kP+j/0f/cz8ePxd/JT8BP2B/bj9bf6z/lr/aP/X/2EACAECAnEC0wKNAhAC5gF3AaEBAgKpAl4DsQOIAyYDYwJ3AT8BFgE/ATEBvQFxAn8C7wLhAvwCLAJpAaYAfQBbAWkBkwEWAU0B+gAxAd4AYQBvAAAAiwBvAN4AUwB9AKYAu/9a/23+Nv5D/qX+Bv8+/2j/if7+/S392vxd/LD8ovyi/IH9/v0w/7v/KQCR/3X/3P4a/tT9nf24/Rr+wf7B/hT/Bv/4/lr/g/+R/+X/fQDsAL0BEAIQAhAC9AGhATEBFgH6ABYBTQFpAU0BvQEQAuYBvQFNAewApgDeALQAtADsAD8BrwE/AQgBiwDCAOwACAFbAT8BvQGTAZMBTQGFAZMBaQFvAFr/Iv+R/30A0ADeABYBYQBTALv/TP8U/9f/YQDX/3X/X/57/m3+DP6P/R/99vyd/VH+e/74/oP/yf+D/+r+Nv6q/Rr+if6X/l/+8P3U/f79s/74/tf/5f/z/zcAUwBTAN4APwEkAXcBkwFbAQgB3gB9ANAACAEkAQgB7ABbAb0BHgLYAZMBCAGLAH0A7AB3AWkB0AB9ADcAyf99AOwA7AA/AQgBmABTAFMADQBFAAgB7AAxAQgBfQBhAEUAu//X/wAArf9TALQAUwBTAG8ADQAU/zD/Bv8G/7v/GwANAK3/Pv9f/rj9Sf3a/En91P3P/q3/DQCf/7v/rf/c/rP++P6l/sH+df91/yL/Pv/q/qX+l/7q/kz/yf/CAKEBAgL0AeYBoQEkAewA3gDsAN4AfQDsALQAiwB9AKYAmADCAPoARQDeAAICOgJIAjoCWwEAABT/bf7B/q3/YQBTANAAYQCmAJMBMQEIAVsBaQFFAKYANwB1/ykAYQDz/5//1/9o/+X/pgB9ACQBrwHQAIsAmACt/4P/g/8o/i39O/0t/XP9if5M/5//fQCLADcARQDJ/z7/FP/q/m3+z/7P/nv+e/6l/hT/u/99AKYAUwAAAA0A3gAxATEBtAAbAPP/1/91/5//KQAkAQICvQGTAfoAPwGYAA0A1/9FAGEAFgFbAd4AFgFpAT8B7ABvALv/YQAkAW8A0AAkAewAbwAbAFr/FP8pAPP/1//l/9f/KQD6AFsBFgFpATEBmABFAFMAu//z//P/aP9a//j+6v5f/nv+l/4U/3X/yf9TAIsAJAGLAK3/TP8U/4n+/v24/dT9if6R/+X/AABTAH0AfQBTAOX/aP8pAPP/Wv+D/8n/RQA3AGEAAAAbAIsAfQB9AKYApgA3AFMANwCLAN4A+gCYACkAbwBFAGEAYQBhAGEAfQCmAEUANwA3AA0A1//z/7v/GwDl/w0AYQDeAD8BCAF9AOX/1/+t/5//Wv/X/4sAwgD6AGEARQBvAG8Adf8i/2j/u/8NAJ//6v74/lr/6v5a/1r/rf9hAFMA8/8AAJgAAABo/+r+4v3+/Zf+e/7q/hsApgBbAaEBCAHeAN4A8/8G//P/5f+t/1MAAADX/30AmABFAG8AbwBhAN4AiwA3AIsA0AAbAPP/kf+f/28ACAFvAEUACAH6AE0B7ABvAA0Adf/q/iL/kf9o/0UAwgCYAFMAmACmABsADQDJ/4P/GwApAAAAmABFACkARQCD/3X/u//J/0z/1/9vAOX/YQApAOX/KQBhAIP/8//QAGEAUwAbAGj/Iv+D/xT/z/4U/3X/aP/l//P/bwChAaEBTQEWAYsAyf+7/zD/if5f/pf+Bv+f/1MAtACmAJgA0AB9AEUADQA3AFMARQBFAFMA0AA3AFr/z/5o/5H/5f9FAFMAFgG9AT8BJAExAdAAfQBhAK3/aP/X/9f/3P4w/63/DQDeANAAGwBvAN4AbwBFADcAkf8U/0z/+P4G/7v/8//X/w0ApgDsAE0BtAC7/3X/Iv8U/1r/df/z/1MARQB9ALQAmAAAAGj/g//J/zcAfQCYAH0A8//X/0UA8/8pACkAAAAbAH0ARQANAKYA5f9o/ykAAACR/0UAUwAAAFMAfQC7/+X/iwDX/wAA8/8w/+X/bwBhABsAiwApABsAYQDJ/5H/5f+D/zD/yf/X/7v/KQCLAFMAiwDCALQAfQBhAIP/TP9M/8/+Iv9o/4P/5f/sAKEBEAJxAiwChQG0ANf/+P42/sb9X/7P/lr/AACmADEBdwGTARYB+gAWAWEAg/+f/z7/Iv+t/5H/AABFAEUARQBTABsA1/8bACkAyf8pABsAkf91/5H/n//X/xsAKQAAALQA7ACYAH0AUwBTAA0ANwDl/w0Ayf/J/9f/GwBTAFMApgC0AGEARQDJ/0z/TP8+/yL/Pv/J/0UAUwC0AGEAUwDsAN4AmABTAEUARQA3AMn/n/+7/zcAu//X/+X/KQCLADcAYQC0AMIA+gD6AG8A5f9a/zD/Pv9o/1r/MP8bAFMAfQDsALQARQBvAH0ANwBTABsAg/9a/63/g/+D/+X/GwApAGEAfQBFAEUAUwAAAJ//1/+7/ykAYQB9AH0AfQBTAEUARQAbAK3/rf+R/4P/AABFAH0A7AD6ANAAJAExAcIAGwBo/yL/l/6l/nv+MP83AJgA7AAIAT8BkwE/AfoApgANAJH/TP/B/nv+6v6D/+r+rf9TALQATQH6AMIAWwF3AYsARQAAAD7/wf6X/kP+s/6f/2j/1/+LAN4A+gAkARYB7ACYAGEANwBTAAAAaP9o/0z/Pv9o/1r/rf8pAEUARQDeAOwAiwBTADcAyf+t/5H/6v5M/9f/rf/X/8IACAExAXcB7AANADcAu/+l/nv++P4G/9f/fQBvAOwAaQHQAH0A7ABTAGj/5f+R/z7/n/+D/z7/AAC0AMIAtADsADcAKQCmAA0Ayf83AMn/yf/J/+X/8/9FAFMAyf9hANAAYQBFAFMA1/+f/wAAn//l/8IApgBTAMIAtAC0ANAAfQDX/5H/n/9M/1r/yf+t/w0AKQAAALQAfQA3AIsAwgA3AAAARQAAAK3/rf+f/xsAKQDz/+X/GwBFAGEAKQA3AFMAAAApAGEA5f8NAFMAyf/J/0UARQCt/zcAUwANAGEA0AAbACkAYQAAACkARQDJ/4P/u//z/5//KQBTAFMAUwCmAEUAiwCmALQAiwCLAH0A1/8AANf/n/9a/5//g//J/30AmABFAFMAbwA3ADcAKQAbAFMA5f/l/0UApgBvAGEAUwBFAFMAKQDz/0UA5f+f/xsARQANAEUARQBFAG8AtAB9AJgApgBTADcA5f+t/2j/TP9o/3X/u/8NAG8ARQBhAN4ApgA3AG8AYQCt/+X/8/+D/0UA0ADX//P/mACLAJgA7AA3AAAAtADl/2j/RQDJ/4P/5f/X/8n/mAB9AOX/NwCLACkARQBFAOX/KQBTAEz/8/8bAJH/rf/X/5//AACLABsA5f83AFMANwCmAGEA1/8pAA0Adf/z/1MA8/+t/9f/kf8bAFMAbwApAKYApgBFAEUAUwDX/+X/n/8i/1r/DQApAPP/bwBFAEUAUwBTAFMApgAbAOX/5f+7/63/5f/J/2j/aP+D/63/KQBFAEUAbwBhADcAmABhAEUAUwBvAEUAUwDl/4P/yf8AADcAUwCLAFMARQCmAIsARQBTAK3/kf83ABsAn/9FAFMAkf9FACkAg/8pAH0A8/8NAH0A1//J/28A5f8AANAAGwC7/ykADQDz/zcAKQBa/8n/DQDJ/2EAbwBFAEUARQAAADcARQDX/w0AUwDl/w0ANwDl/0UAfQBhADcAUwApAA0AUwA3AOX/u/+D/63/KQAbACkAUwA3ADcAfQBFAEUAYQBTAA0AUwApAA0AKQAAAEUARQDz/xsAUwBTAA0AfQBFAA0AfQBhALv/KQApAJH/AABTAPP/AABhAEUAUwCYAFMAYQCYABsAGwBTABsAGwBTAPP/kf9FAFMAAAA3ADcAKQApAPP/5f/z/zcARQDX/xsAUwBhAG8AUwDQAFMAUwCLAEUARQBvAAAAg/8bACkAkf8bACkA1/9TAGEADQBFAEUADQA3AFMA8/83ABsARQBhAGEA1//J/0UA1/8NADcA5f/J/+X/yf8NAG8AGwANAFMANwApADcAUwANADcA1//l/zcAUwDz/ykAAAApAFMA5f+t/ykAAACf/9f/1//X/w0A1/8AAFMANwBTAA0ADQBTACkAKQDl/wAAyf+t/8n/1//l/0UARQBFAGEAYQBhAKYAUwAAANf/8/+7/8n/1/+R/xsA8/+t/zcAKQA3ACkAUwBFAEUANwAbAA0ADQCt/9f/GwDX/zcAfQA3AJgA0AA3ACkAbwDz/+X/5f91/5//8/+R/0z/GwA3AA0AUwBhAEUAiwBvADcAYQBhAFMARQANAA0A5f8AAPP/5f8pADcAKQBFAFMARQBFAEUAKQA3ACkARQANACkAKQANAJ//8//l/ykAUwApABsAUwBvAGEAUwBTAEUARQA3ALv/1//X/5H/df+t/8n/AABhADcAUwBFAH0ARQBFAEUAKQApABsA5f8NAPP/u//J/ykADQANACkAyf/z/0UAKQApAFMAKQA3AEUARQBFAGEAUwApADcA8/83AFMANwApAFMAGwAbAG8AfQDz/+X/5f/J/+X/NwDJ/9f/KQAbANf/KQCLAFMARQBTADcAbwBhAEUANwApAA0A1//z/63/GwBFABsARQApAPP/yf/z/2EAAADX/+X/KQBFAEUARQBFAFMANwBTABsAKQBFAEUAGwApADcARQBFAEUARQBFAFMARQBFACkAu/83ACkA1/9FANf/u/8NAFMANwBTAFMARQBFADcArf+7/w==\" type=\"audio/wav\" />\n",
       "                    Your browser does not support the audio element.\n",
       "                </audio>\n",
       "              "
      ],
      "text/plain": [
       "<IPython.lib.display.Audio object>"
      ]
     },
     "execution_count": 11,
     "metadata": {},
     "output_type": "execute_result"
    }
   ],
   "source": [
    "import IPython.display as ipd\n",
    "import numpy as np\n",
    "import random\n",
    "\n",
    "rand_int = random.randint(0, len(timit[\"train\"]))\n",
    "\n",
    "ipd.Audio(data=np.asarray(timit[\"train\"][rand_int][\"speech\"]), autoplay=True, rate=16000)"
   ]
  },
  {
   "cell_type": "code",
   "execution_count": 12,
   "metadata": {},
   "outputs": [
    {
     "name": "stdout",
     "output_type": "stream",
     "text": [
      "Target text: tim takes sheila to see movies twice a week\n",
      "Input array shape: (53248,)\n",
      "Sampling rate: 16000\n"
     ]
    }
   ],
   "source": [
    "rand_int = random.randint(0, len(timit[\"train\"]))\n",
    "\n",
    "print(\"Target text:\", timit[\"train\"][rand_int][\"target_text\"])\n",
    "print(\"Input array shape:\", np.asarray(timit[\"train\"][rand_int][\"speech\"]).shape)\n",
    "print(\"Sampling rate:\", timit[\"train\"][rand_int][\"sampling_rate\"])"
   ]
  },
  {
   "cell_type": "code",
   "execution_count": 13,
   "metadata": {},
   "outputs": [
    {
     "name": "stderr",
     "output_type": "stream",
     "text": [
      "/home/slzhang/miniconda/envs/fedml/lib/python3.7/site-packages/numpy/core/_asarray.py:83: VisibleDeprecationWarning: Creating an ndarray from ragged nested sequences (which is a list-or-tuple of lists-or-tuples-or ndarrays with different lengths or shapes) is deprecated. If you meant to do this, you must specify 'dtype=object' when creating the ndarray\n",
      "  return array(a, dtype, copy=False, order=order)\n",
      "/home/slzhang/miniconda/envs/fedml/lib/python3.7/site-packages/numpy/core/_asarray.py:83: VisibleDeprecationWarning: Creating an ndarray from ragged nested sequences (which is a list-or-tuple of lists-or-tuples-or ndarrays with different lengths or shapes) is deprecated. If you meant to do this, you must specify 'dtype=object' when creating the ndarray\n",
      "  return array(a, dtype, copy=False, order=order)\n",
      "/home/slzhang/miniconda/envs/fedml/lib/python3.7/site-packages/numpy/core/_asarray.py:83: VisibleDeprecationWarning: Creating an ndarray from ragged nested sequences (which is a list-or-tuple of lists-or-tuples-or ndarrays with different lengths or shapes) is deprecated. If you meant to do this, you must specify 'dtype=object' when creating the ndarray\n",
      "  return array(a, dtype, copy=False, order=order)\n",
      "/home/slzhang/miniconda/envs/fedml/lib/python3.7/site-packages/numpy/core/_asarray.py:83: VisibleDeprecationWarning: Creating an ndarray from ragged nested sequences (which is a list-or-tuple of lists-or-tuples-or ndarrays with different lengths or shapes) is deprecated. If you meant to do this, you must specify 'dtype=object' when creating the ndarray\n",
      "  return array(a, dtype, copy=False, order=order)\n",
      "/home/slzhang/miniconda/envs/fedml/lib/python3.7/site-packages/numpy/core/_asarray.py:83: VisibleDeprecationWarning: Creating an ndarray from ragged nested sequences (which is a list-or-tuple of lists-or-tuples-or ndarrays with different lengths or shapes) is deprecated. If you meant to do this, you must specify 'dtype=object' when creating the ndarray\n",
      "  return array(a, dtype, copy=False, order=order)\n",
      "/home/slzhang/miniconda/envs/fedml/lib/python3.7/site-packages/numpy/core/_asarray.py:83: VisibleDeprecationWarning: Creating an ndarray from ragged nested sequences (which is a list-or-tuple of lists-or-tuples-or ndarrays with different lengths or shapes) is deprecated. If you meant to do this, you must specify 'dtype=object' when creating the ndarray\n",
      "  return array(a, dtype, copy=False, order=order)\n",
      "/home/slzhang/miniconda/envs/fedml/lib/python3.7/site-packages/numpy/core/_asarray.py:83: VisibleDeprecationWarning: Creating an ndarray from ragged nested sequences (which is a list-or-tuple of lists-or-tuples-or ndarrays with different lengths or shapes) is deprecated. If you meant to do this, you must specify 'dtype=object' when creating the ndarray\n",
      "  return array(a, dtype, copy=False, order=order)\n",
      "/home/slzhang/miniconda/envs/fedml/lib/python3.7/site-packages/numpy/core/_asarray.py:83: VisibleDeprecationWarning: Creating an ndarray from ragged nested sequences (which is a list-or-tuple of lists-or-tuples-or ndarrays with different lengths or shapes) is deprecated. If you meant to do this, you must specify 'dtype=object' when creating the ndarray\n",
      "  return array(a, dtype, copy=False, order=order)\n"
     ]
    }
   ],
   "source": [
    "def prepare_dataset(batch):\n",
    "    # check that all files have the correct sampling rate\n",
    "    assert (\n",
    "        len(set(batch[\"sampling_rate\"])) == 1\n",
    "    ), f\"Make sure all inputs have the same sampling rate of {processor.feature_extractor.sampling_rate}.\"\n",
    "\n",
    "    batch[\"input_values\"] = processor(batch[\"speech\"], sampling_rate=batch[\"sampling_rate\"][0]).input_values\n",
    "    \n",
    "    with processor.as_target_processor():\n",
    "        batch[\"labels\"] = processor(batch[\"target_text\"]).input_ids\n",
    "    return batch\n",
    "\n",
    "timit_prepared = timit.map(prepare_dataset, remove_columns=timit.column_names[\"train\"], batch_size=8, num_proc=4, batched=True)\n"
   ]
  },
  {
   "cell_type": "code",
   "execution_count": 14,
   "metadata": {},
   "outputs": [],
   "source": [
    "import torch\n",
    "\n",
    "from dataclasses import dataclass, field\n",
    "from typing import Any, Dict, List, Optional, Union\n",
    "\n",
    "@dataclass\n",
    "class DataCollatorCTCWithPadding:\n",
    "    \"\"\"\n",
    "    Data collator that will dynamically pad the inputs received.\n",
    "    Args:\n",
    "        processor (:class:`~transformers.Wav2Vec2Processor`)\n",
    "            The processor used for proccessing the data.\n",
    "        padding (:obj:`bool`, :obj:`str` or :class:`~transformers.tokenization_utils_base.PaddingStrategy`, `optional`, defaults to :obj:`True`):\n",
    "            Select a strategy to pad the returned sequences (according to the model's padding side and padding index)\n",
    "            among:\n",
    "            * :obj:`True` or :obj:`'longest'`: Pad to the longest sequence in the batch (or no padding if only a single\n",
    "              sequence if provided).\n",
    "            * :obj:`'max_length'`: Pad to a maximum length specified with the argument :obj:`max_length` or to the\n",
    "              maximum acceptable input length for the model if that argument is not provided.\n",
    "            * :obj:`False` or :obj:`'do_not_pad'` (default): No padding (i.e., can output a batch with sequences of\n",
    "              different lengths).\n",
    "        max_length (:obj:`int`, `optional`):\n",
    "            Maximum length of the ``input_values`` of the returned list and optionally padding length (see above).\n",
    "        max_length_labels (:obj:`int`, `optional`):\n",
    "            Maximum length of the ``labels`` returned list and optionally padding length (see above).\n",
    "        pad_to_multiple_of (:obj:`int`, `optional`):\n",
    "            If set will pad the sequence to a multiple of the provided value.\n",
    "            This is especially useful to enable the use of Tensor Cores on NVIDIA hardware with compute capability >=\n",
    "            7.5 (Volta).\n",
    "    \"\"\"\n",
    "\n",
    "    processor: Wav2Vec2Processor\n",
    "    padding: Union[bool, str] = True\n",
    "    max_length: Optional[int] = None\n",
    "    max_length_labels: Optional[int] = None\n",
    "    pad_to_multiple_of: Optional[int] = None\n",
    "    pad_to_multiple_of_labels: Optional[int] = None\n",
    "\n",
    "    def __call__(self, features: List[Dict[str, Union[List[int], torch.Tensor]]]) -> Dict[str, torch.Tensor]:\n",
    "        # split inputs and labels since they have to be of different lenghts and need\n",
    "        # different padding methods\n",
    "        input_features = [{\"input_values\": feature[\"input_values\"]} for feature in features]\n",
    "        label_features = [{\"input_ids\": feature[\"labels\"]} for feature in features]\n",
    "\n",
    "        batch = self.processor.pad(\n",
    "            input_features,\n",
    "            padding=self.padding,\n",
    "            max_length=self.max_length,\n",
    "            pad_to_multiple_of=self.pad_to_multiple_of,\n",
    "            return_tensors=\"pt\",\n",
    "        )\n",
    "        with self.processor.as_target_processor():\n",
    "            labels_batch = self.processor.pad(\n",
    "                label_features,\n",
    "                padding=self.padding,\n",
    "                max_length=self.max_length_labels,\n",
    "                pad_to_multiple_of=self.pad_to_multiple_of_labels,\n",
    "                return_tensors=\"pt\",\n",
    "            )\n",
    "\n",
    "        # replace padding with -100 to ignore loss correctly\n",
    "        labels = labels_batch[\"input_ids\"].masked_fill(labels_batch.attention_mask.ne(1), -100)\n",
    "\n",
    "        batch[\"labels\"] = labels\n",
    "\n",
    "        return batch\n"
   ]
  },
  {
   "cell_type": "code",
   "execution_count": 15,
   "metadata": {},
   "outputs": [],
   "source": [
    "data_collator = DataCollatorCTCWithPadding(processor=processor, padding=True)\n",
    "wer_metric = load_metric(\"wer\")\n",
    "\n",
    "def compute_metrics(pred):\n",
    "    pred_logits = pred.predictions\n",
    "    pred_ids = np.argmax(pred_logits, axis=-1)\n",
    "\n",
    "    pred.label_ids[pred.label_ids == -100] = processor.tokenizer.pad_token_id\n",
    "\n",
    "    pred_str = processor.batch_decode(pred_ids)\n",
    "    # we do not want to group tokens when computing the metrics\n",
    "    label_str = processor.batch_decode(pred.label_ids, group_tokens=False)\n",
    "\n",
    "    wer = wer_metric.compute(predictions=pred_str, references=label_str)\n",
    "\n",
    "    return {\"wer\": wer}"
   ]
  },
  {
   "cell_type": "code",
   "execution_count": 16,
   "metadata": {},
   "outputs": [],
   "source": [
    "from transformers import Wav2Vec2Processor, Wav2Vec2CTCTokenizer\n",
    "from transformers.modeling_outputs import CausalLMOutput\n",
    "from wav2vec2_model import Wav2Vec2ForCTC, Wav2Vec2FeatureExtractor, Wav2Vec2Model, Wav2Vec2PreTrainedModel, Wav2Vec2Config, Wav2Vec2Encoder, Wav2Vec2EncoderLayer\n",
    "from wav2vec2_model import Wav2Vec2RawEncoder, Wav2Vec2_with_exit\n",
    "import torch.nn as nn\n",
    "import copy\n"
   ]
  },
  {
   "cell_type": "code",
   "execution_count": 23,
   "metadata": {},
   "outputs": [
    {
     "name": "stderr",
     "output_type": "stream",
     "text": [
      "loading configuration file https://huggingface.co/facebook/wav2vec2-base/resolve/main/config.json from cache at /home/slzhang/.cache/huggingface/transformers/c7746642f045322fd01afa31271dd490e677ea11999e68660a92619ec7c892b4.02212753c42f07ecd65bbe35175ac4866badb735f9dae5bf2ae455c57db4dbb7\n",
      "Model config Wav2Vec2Config {\n",
      "  \"activation_dropout\": 0.0,\n",
      "  \"apply_spec_augment\": true,\n",
      "  \"architectures\": [\n",
      "    \"Wav2Vec2ForPreTraining\"\n",
      "  ],\n",
      "  \"attention_dropout\": 0.1,\n",
      "  \"bos_token_id\": 1,\n",
      "  \"codevector_dim\": 256,\n",
      "  \"contrastive_logits_temperature\": 0.1,\n",
      "  \"conv_bias\": false,\n",
      "  \"conv_dim\": [\n",
      "    512,\n",
      "    512,\n",
      "    512,\n",
      "    512,\n",
      "    512,\n",
      "    512,\n",
      "    512\n",
      "  ],\n",
      "  \"conv_kernel\": [\n",
      "    10,\n",
      "    3,\n",
      "    3,\n",
      "    3,\n",
      "    3,\n",
      "    2,\n",
      "    2\n",
      "  ],\n",
      "  \"conv_stride\": [\n",
      "    5,\n",
      "    2,\n",
      "    2,\n",
      "    2,\n",
      "    2,\n",
      "    2,\n",
      "    2\n",
      "  ],\n",
      "  \"ctc_loss_reduction\": \"mean\",\n",
      "  \"ctc_zero_infinity\": false,\n",
      "  \"diversity_loss_weight\": 0.1,\n",
      "  \"do_stable_layer_norm\": false,\n",
      "  \"eos_token_id\": 2,\n",
      "  \"feat_extract_activation\": \"gelu\",\n",
      "  \"feat_extract_norm\": \"group\",\n",
      "  \"feat_proj_dropout\": 0.1,\n",
      "  \"feat_quantizer_dropout\": 0.0,\n",
      "  \"final_dropout\": 0.0,\n",
      "  \"freeze_feat_extract_train\": true,\n",
      "  \"gradient_checkpointing\": true,\n",
      "  \"hidden_act\": \"gelu\",\n",
      "  \"hidden_dropout\": 0.1,\n",
      "  \"hidden_size\": 768,\n",
      "  \"initializer_range\": 0.02,\n",
      "  \"intermediate_size\": 3072,\n",
      "  \"layer_norm_eps\": 1e-05,\n",
      "  \"layerdrop\": 0.05,\n",
      "  \"mask_channel_length\": 10,\n",
      "  \"mask_channel_min_space\": 1,\n",
      "  \"mask_channel_other\": 0.0,\n",
      "  \"mask_channel_prob\": 0.0,\n",
      "  \"mask_channel_selection\": \"static\",\n",
      "  \"mask_feature_length\": 10,\n",
      "  \"mask_feature_prob\": 0.0,\n",
      "  \"mask_time_length\": 10,\n",
      "  \"mask_time_min_space\": 1,\n",
      "  \"mask_time_other\": 0.0,\n",
      "  \"mask_time_prob\": 0.05,\n",
      "  \"mask_time_selection\": \"static\",\n",
      "  \"model_type\": \"wav2vec2\",\n",
      "  \"no_mask_channel_overlap\": false,\n",
      "  \"no_mask_time_overlap\": false,\n",
      "  \"num_attention_heads\": 12,\n",
      "  \"num_codevector_groups\": 2,\n",
      "  \"num_codevectors_per_group\": 320,\n",
      "  \"num_conv_pos_embedding_groups\": 16,\n",
      "  \"num_conv_pos_embeddings\": 128,\n",
      "  \"num_feat_extract_layers\": 7,\n",
      "  \"num_hidden_layers\": 12,\n",
      "  \"num_negatives\": 100,\n",
      "  \"pad_token_id\": 29,\n",
      "  \"proj_codevector_dim\": 256,\n",
      "  \"transformers_version\": \"4.8.1\",\n",
      "  \"vocab_size\": 32\n",
      "}\n",
      "\n",
      "loading weights file https://huggingface.co/facebook/wav2vec2-base/resolve/main/pytorch_model.bin from cache at /home/slzhang/.cache/huggingface/transformers/ef45231897ce572a660ebc5a63d3702f1a6041c4c5fb78cbec330708531939b3.fcae05302a685f7904c551c8ea571e8bc2a2c4a1777ea81ad66e47f7883a650a\n",
      "Some weights of the model checkpoint at facebook/wav2vec2-base were not used when initializing Wav2Vec2ForCTC: ['project_hid.bias', 'quantizer.weight_proj.weight', 'project_q.weight', 'project_hid.weight', 'quantizer.weight_proj.bias', 'quantizer.codevectors', 'project_q.bias']\n",
      "- This IS expected if you are initializing Wav2Vec2ForCTC from the checkpoint of a model trained on another task or with another architecture (e.g. initializing a BertForSequenceClassification model from a BertForPreTraining model).\n",
      "- This IS NOT expected if you are initializing Wav2Vec2ForCTC from the checkpoint of a model that you expect to be exactly identical (initializing a BertForSequenceClassification model from a BertForSequenceClassification model).\n",
      "Some weights of Wav2Vec2ForCTC were not initialized from the model checkpoint at facebook/wav2vec2-base and are newly initialized: ['lm_head.weight', 'lm_head.bias']\n",
      "You should probably TRAIN this model on a down-stream task to be able to use it for predictions and inference.\n",
      "loading configuration file https://huggingface.co/facebook/wav2vec2-base/resolve/main/config.json from cache at /home/slzhang/.cache/huggingface/transformers/c7746642f045322fd01afa31271dd490e677ea11999e68660a92619ec7c892b4.02212753c42f07ecd65bbe35175ac4866badb735f9dae5bf2ae455c57db4dbb7\n",
      "Model config Wav2Vec2Config {\n",
      "  \"activation_dropout\": 0.0,\n",
      "  \"apply_spec_augment\": true,\n",
      "  \"architectures\": [\n",
      "    \"Wav2Vec2ForPreTraining\"\n",
      "  ],\n",
      "  \"attention_dropout\": 0.1,\n",
      "  \"bos_token_id\": 1,\n",
      "  \"codevector_dim\": 256,\n",
      "  \"contrastive_logits_temperature\": 0.1,\n",
      "  \"conv_bias\": false,\n",
      "  \"conv_dim\": [\n",
      "    512,\n",
      "    512,\n",
      "    512,\n",
      "    512,\n",
      "    512,\n",
      "    512,\n",
      "    512\n",
      "  ],\n",
      "  \"conv_kernel\": [\n",
      "    10,\n",
      "    3,\n",
      "    3,\n",
      "    3,\n",
      "    3,\n",
      "    2,\n",
      "    2\n",
      "  ],\n",
      "  \"conv_stride\": [\n",
      "    5,\n",
      "    2,\n",
      "    2,\n",
      "    2,\n",
      "    2,\n",
      "    2,\n",
      "    2\n",
      "  ],\n",
      "  \"ctc_loss_reduction\": \"mean\",\n",
      "  \"ctc_zero_infinity\": false,\n",
      "  \"diversity_loss_weight\": 0.1,\n",
      "  \"do_stable_layer_norm\": false,\n",
      "  \"eos_token_id\": 2,\n",
      "  \"feat_extract_activation\": \"gelu\",\n",
      "  \"feat_extract_norm\": \"group\",\n",
      "  \"feat_proj_dropout\": 0.1,\n",
      "  \"feat_quantizer_dropout\": 0.0,\n",
      "  \"final_dropout\": 0.0,\n",
      "  \"freeze_feat_extract_train\": true,\n",
      "  \"gradient_checkpointing\": true,\n",
      "  \"hidden_act\": \"gelu\",\n",
      "  \"hidden_dropout\": 0.1,\n",
      "  \"hidden_size\": 768,\n",
      "  \"initializer_range\": 0.02,\n",
      "  \"intermediate_size\": 3072,\n",
      "  \"layer_norm_eps\": 1e-05,\n",
      "  \"layerdrop\": 0.05,\n",
      "  \"mask_channel_length\": 10,\n",
      "  \"mask_channel_min_space\": 1,\n",
      "  \"mask_channel_other\": 0.0,\n",
      "  \"mask_channel_prob\": 0.0,\n",
      "  \"mask_channel_selection\": \"static\",\n",
      "  \"mask_feature_length\": 10,\n",
      "  \"mask_feature_prob\": 0.0,\n",
      "  \"mask_time_length\": 10,\n",
      "  \"mask_time_min_space\": 1,\n",
      "  \"mask_time_other\": 0.0,\n",
      "  \"mask_time_prob\": 0.05,\n",
      "  \"mask_time_selection\": \"static\",\n",
      "  \"model_type\": \"wav2vec2\",\n",
      "  \"no_mask_channel_overlap\": false,\n",
      "  \"no_mask_time_overlap\": false,\n",
      "  \"num_attention_heads\": 12,\n",
      "  \"num_codevector_groups\": 2,\n",
      "  \"num_codevectors_per_group\": 320,\n",
      "  \"num_conv_pos_embedding_groups\": 16,\n",
      "  \"num_conv_pos_embeddings\": 128,\n",
      "  \"num_feat_extract_layers\": 7,\n",
      "  \"num_hidden_layers\": 12,\n",
      "  \"num_negatives\": 100,\n",
      "  \"pad_token_id\": 29,\n",
      "  \"proj_codevector_dim\": 256,\n",
      "  \"transformers_version\": \"4.8.1\",\n",
      "  \"vocab_size\": 32\n",
      "}\n",
      "\n",
      "loading weights file https://huggingface.co/facebook/wav2vec2-base/resolve/main/pytorch_model.bin from cache at /home/slzhang/.cache/huggingface/transformers/ef45231897ce572a660ebc5a63d3702f1a6041c4c5fb78cbec330708531939b3.fcae05302a685f7904c551c8ea571e8bc2a2c4a1777ea81ad66e47f7883a650a\n",
      "Some weights of the model checkpoint at facebook/wav2vec2-base were not used when initializing Wav2Vec2_with_exit: ['project_hid.bias', 'quantizer.weight_proj.weight', 'project_q.weight', 'project_hid.weight', 'quantizer.weight_proj.bias', 'quantizer.codevectors', 'project_q.bias']\n",
      "- This IS expected if you are initializing Wav2Vec2_with_exit from the checkpoint of a model trained on another task or with another architecture (e.g. initializing a BertForSequenceClassification model from a BertForPreTraining model).\n",
      "- This IS NOT expected if you are initializing Wav2Vec2_with_exit from the checkpoint of a model that you expect to be exactly identical (initializing a BertForSequenceClassification model from a BertForSequenceClassification model).\n",
      "Some weights of Wav2Vec2_with_exit were not initialized from the model checkpoint at facebook/wav2vec2-base and are newly initialized: ['s2_lm_head.bias', 's2_lm_head.weight', 's1_lm_head.bias', 's1_lm_head.weight']\n",
      "You should probably TRAIN this model on a down-stream task to be able to use it for predictions and inference.\n"
     ]
    }
   ],
   "source": [
    "# model = Wav2Vec2ForCTC.from_pretrained(\"facebook/wav2vec2-base-960h\")\n",
    "model = Wav2Vec2ForCTC.from_pretrained(\n",
    "    \"facebook/wav2vec2-base\", \n",
    "    gradient_checkpointing=True, \n",
    "    ctc_loss_reduction=\"mean\", \n",
    "    pad_token_id=processor.tokenizer.pad_token_id,\n",
    ")\n",
    "\n",
    "model_CTC = Wav2Vec2_with_exit.from_pretrained(\n",
    "    \"facebook/wav2vec2-base\", \n",
    "    gradient_checkpointing=True, \n",
    "    ctc_loss_reduction=\"mean\", \n",
    "    pad_token_id=processor.tokenizer.pad_token_id,\n",
    ")\n",
    "# model_CTC = Wav2Vec2_with_exit.from_pretrained(\"facebook/wav2vec2-base-960h\")\n",
    "model_CTC.add_exit(7)\n",
    "model_CTC.freeze_feature_extractor()"
   ]
  },
  {
   "cell_type": "code",
   "execution_count": 24,
   "metadata": {},
   "outputs": [
    {
     "name": "stderr",
     "output_type": "stream",
     "text": [
      "PyTorch: setting up devices\n",
      "The default value for the training argument `--report_to` will change in v5 (from all installed integrations to none). In v5, you will need to use `--report_to all` to get the same behavior as now. You should start updating your code and make this info disappear :-).\n",
      "Using the `WAND_DISABLED` environment variable is deprecated and will be removed in v5. Use the --report_to flag to control the integrations used for logging result (for instance --report_to none).\n",
      "Using amp fp16 backend\n"
     ]
    }
   ],
   "source": [
    "# model.freeze_feature_extractor()\n",
    "\n",
    "from transformers import TrainingArguments, Trainer\n",
    "\n",
    "training_args = TrainingArguments(\n",
    "  # output_dir=\"/content/gdrive/MyDrive/wav2vec2-base-timit-demo\",\n",
    "  output_dir=\"./wav2vec2-base-timit-demo\",\n",
    "  group_by_length=True,\n",
    "  per_device_train_batch_size=8,\n",
    "  evaluation_strategy=\"steps\",\n",
    "  num_train_epochs=30,\n",
    "  fp16=True,\n",
    "  save_steps=500,\n",
    "  eval_steps=50,\n",
    "  logging_steps=50,\n",
    "  learning_rate=1e-4,\n",
    "  weight_decay=0.005,\n",
    "  warmup_steps=1000,\n",
    "  save_total_limit=2,\n",
    ")\n",
    "\n",
    "trainer = Trainer(\n",
    "    model=model,\n",
    "    data_collator=data_collator,\n",
    "    args=training_args,\n",
    "    compute_metrics=compute_metrics,\n",
    "    train_dataset=timit_prepared[\"train\"],\n",
    "    eval_dataset=timit_prepared[\"test\"],\n",
    "    tokenizer=processor.feature_extractor,\n",
    ")"
   ]
  },
  {
   "cell_type": "code",
   "execution_count": 25,
   "metadata": {},
   "outputs": [
    {
     "name": "stderr",
     "output_type": "stream",
     "text": [
      "***** Running training *****\n",
      "  Num examples = 4620\n",
      "  Num Epochs = 30\n",
      "  Instantaneous batch size per device = 8\n",
      "  Total train batch size (w. parallel, distributed & accumulation) = 32\n",
      "  Gradient Accumulation steps = 1\n",
      "  Total optimization steps = 4350\n"
     ]
    },
    {
     "data": {
      "text/html": [
       "\n",
       "    <div>\n",
       "      \n",
       "      <progress value='75' max='4350' style='width:300px; height:20px; vertical-align: middle;'></progress>\n",
       "      [  75/4350 02:06 < 2:03:07, 0.58 it/s, Epoch 0.51/30]\n",
       "    </div>\n",
       "    <table border=\"1\" class=\"dataframe\">\n",
       "  <thead>\n",
       "    <tr style=\"text-align: left;\">\n",
       "      <th>Step</th>\n",
       "      <th>Training Loss</th>\n",
       "      <th>Validation Loss</th>\n",
       "      <th>Wer</th>\n",
       "    </tr>\n",
       "  </thead>\n",
       "  <tbody>\n",
       "    <tr>\n",
       "      <td>50</td>\n",
       "      <td>8.648000</td>\n",
       "      <td>14.203657</td>\n",
       "      <td>1.000000</td>\n",
       "    </tr>\n",
       "  </tbody>\n",
       "</table><p>"
      ],
      "text/plain": [
       "<IPython.core.display.HTML object>"
      ]
     },
     "metadata": {},
     "output_type": "display_data"
    },
    {
     "name": "stderr",
     "output_type": "stream",
     "text": [
      "***** Running Evaluation *****\n",
      "  Num examples = 1680\n",
      "  Batch size = 32\n"
     ]
    },
    {
     "ename": "KeyboardInterrupt",
     "evalue": "",
     "output_type": "error",
     "traceback": [
      "\u001b[0;31m---------------------------------------------------------------------------\u001b[0m",
      "\u001b[0;31mKeyboardInterrupt\u001b[0m                         Traceback (most recent call last)",
      "\u001b[0;32m<ipython-input-25-bb2f30602136>\u001b[0m in \u001b[0;36m<module>\u001b[0;34m\u001b[0m\n\u001b[1;32m      1\u001b[0m \u001b[0;32mimport\u001b[0m \u001b[0mos\u001b[0m\u001b[0;34m\u001b[0m\u001b[0;34m\u001b[0m\u001b[0m\n\u001b[1;32m      2\u001b[0m \u001b[0mos\u001b[0m\u001b[0;34m.\u001b[0m\u001b[0menviron\u001b[0m\u001b[0;34m[\u001b[0m\u001b[0;34m\"WANDB_DISABLED\"\u001b[0m\u001b[0;34m]\u001b[0m \u001b[0;34m=\u001b[0m \u001b[0;34m\"true\"\u001b[0m\u001b[0;34m\u001b[0m\u001b[0;34m\u001b[0m\u001b[0m\n\u001b[0;32m----> 3\u001b[0;31m \u001b[0mtrainer\u001b[0m\u001b[0;34m.\u001b[0m\u001b[0mtrain\u001b[0m\u001b[0;34m(\u001b[0m\u001b[0;34m)\u001b[0m\u001b[0;34m\u001b[0m\u001b[0;34m\u001b[0m\u001b[0m\n\u001b[0m",
      "\u001b[0;32m~/miniconda/envs/fedml/lib/python3.7/site-packages/transformers-4.8.1-py3.8.egg/transformers/trainer.py\u001b[0m in \u001b[0;36mtrain\u001b[0;34m(self, resume_from_checkpoint, trial, **kwargs)\u001b[0m\n\u001b[1;32m   1267\u001b[0m                         \u001b[0mtr_loss\u001b[0m \u001b[0;34m+=\u001b[0m \u001b[0mself\u001b[0m\u001b[0;34m.\u001b[0m\u001b[0mtraining_step\u001b[0m\u001b[0;34m(\u001b[0m\u001b[0mmodel\u001b[0m\u001b[0;34m,\u001b[0m \u001b[0minputs\u001b[0m\u001b[0;34m)\u001b[0m\u001b[0;34m\u001b[0m\u001b[0;34m\u001b[0m\u001b[0m\n\u001b[1;32m   1268\u001b[0m                 \u001b[0;32melse\u001b[0m\u001b[0;34m:\u001b[0m\u001b[0;34m\u001b[0m\u001b[0;34m\u001b[0m\u001b[0m\n\u001b[0;32m-> 1269\u001b[0;31m                     \u001b[0mtr_loss\u001b[0m \u001b[0;34m+=\u001b[0m \u001b[0mself\u001b[0m\u001b[0;34m.\u001b[0m\u001b[0mtraining_step\u001b[0m\u001b[0;34m(\u001b[0m\u001b[0mmodel\u001b[0m\u001b[0;34m,\u001b[0m \u001b[0minputs\u001b[0m\u001b[0;34m)\u001b[0m\u001b[0;34m\u001b[0m\u001b[0;34m\u001b[0m\u001b[0m\n\u001b[0m\u001b[1;32m   1270\u001b[0m                 \u001b[0mself\u001b[0m\u001b[0;34m.\u001b[0m\u001b[0mcurrent_flos\u001b[0m \u001b[0;34m+=\u001b[0m \u001b[0mfloat\u001b[0m\u001b[0;34m(\u001b[0m\u001b[0mself\u001b[0m\u001b[0;34m.\u001b[0m\u001b[0mfloating_point_ops\u001b[0m\u001b[0;34m(\u001b[0m\u001b[0minputs\u001b[0m\u001b[0;34m)\u001b[0m\u001b[0;34m)\u001b[0m\u001b[0;34m\u001b[0m\u001b[0;34m\u001b[0m\u001b[0m\n\u001b[1;32m   1271\u001b[0m \u001b[0;34m\u001b[0m\u001b[0m\n",
      "\u001b[0;32m~/miniconda/envs/fedml/lib/python3.7/site-packages/transformers-4.8.1-py3.8.egg/transformers/trainer.py\u001b[0m in \u001b[0;36mtraining_step\u001b[0;34m(self, model, inputs)\u001b[0m\n\u001b[1;32m   1750\u001b[0m         \u001b[0;32mif\u001b[0m \u001b[0mself\u001b[0m\u001b[0;34m.\u001b[0m\u001b[0muse_amp\u001b[0m\u001b[0;34m:\u001b[0m\u001b[0;34m\u001b[0m\u001b[0;34m\u001b[0m\u001b[0m\n\u001b[1;32m   1751\u001b[0m             \u001b[0;32mwith\u001b[0m \u001b[0mautocast\u001b[0m\u001b[0;34m(\u001b[0m\u001b[0;34m)\u001b[0m\u001b[0;34m:\u001b[0m\u001b[0;34m\u001b[0m\u001b[0;34m\u001b[0m\u001b[0m\n\u001b[0;32m-> 1752\u001b[0;31m                 \u001b[0mloss\u001b[0m \u001b[0;34m=\u001b[0m \u001b[0mself\u001b[0m\u001b[0;34m.\u001b[0m\u001b[0mcompute_loss\u001b[0m\u001b[0;34m(\u001b[0m\u001b[0mmodel\u001b[0m\u001b[0;34m,\u001b[0m \u001b[0minputs\u001b[0m\u001b[0;34m)\u001b[0m\u001b[0;34m\u001b[0m\u001b[0;34m\u001b[0m\u001b[0m\n\u001b[0m\u001b[1;32m   1753\u001b[0m         \u001b[0;32melse\u001b[0m\u001b[0;34m:\u001b[0m\u001b[0;34m\u001b[0m\u001b[0;34m\u001b[0m\u001b[0m\n\u001b[1;32m   1754\u001b[0m             \u001b[0mloss\u001b[0m \u001b[0;34m=\u001b[0m \u001b[0mself\u001b[0m\u001b[0;34m.\u001b[0m\u001b[0mcompute_loss\u001b[0m\u001b[0;34m(\u001b[0m\u001b[0mmodel\u001b[0m\u001b[0;34m,\u001b[0m \u001b[0minputs\u001b[0m\u001b[0;34m)\u001b[0m\u001b[0;34m\u001b[0m\u001b[0;34m\u001b[0m\u001b[0m\n",
      "\u001b[0;32m~/miniconda/envs/fedml/lib/python3.7/site-packages/transformers-4.8.1-py3.8.egg/transformers/trainer.py\u001b[0m in \u001b[0;36mcompute_loss\u001b[0;34m(self, model, inputs, return_outputs)\u001b[0m\n\u001b[1;32m   1784\u001b[0m         \u001b[0;32melse\u001b[0m\u001b[0;34m:\u001b[0m\u001b[0;34m\u001b[0m\u001b[0;34m\u001b[0m\u001b[0m\n\u001b[1;32m   1785\u001b[0m             \u001b[0mlabels\u001b[0m \u001b[0;34m=\u001b[0m \u001b[0;32mNone\u001b[0m\u001b[0;34m\u001b[0m\u001b[0;34m\u001b[0m\u001b[0m\n\u001b[0;32m-> 1786\u001b[0;31m         \u001b[0moutputs\u001b[0m \u001b[0;34m=\u001b[0m \u001b[0mmodel\u001b[0m\u001b[0;34m(\u001b[0m\u001b[0;34m**\u001b[0m\u001b[0minputs\u001b[0m\u001b[0;34m)\u001b[0m\u001b[0;34m\u001b[0m\u001b[0;34m\u001b[0m\u001b[0m\n\u001b[0m\u001b[1;32m   1787\u001b[0m         \u001b[0;31m# Save past state if it exists\u001b[0m\u001b[0;34m\u001b[0m\u001b[0;34m\u001b[0m\u001b[0;34m\u001b[0m\u001b[0m\n\u001b[1;32m   1788\u001b[0m         \u001b[0;31m# TODO: this needs to be fixed and made cleaner later.\u001b[0m\u001b[0;34m\u001b[0m\u001b[0;34m\u001b[0m\u001b[0;34m\u001b[0m\u001b[0m\n",
      "\u001b[0;32m~/miniconda/envs/fedml/lib/python3.7/site-packages/torch/nn/modules/module.py\u001b[0m in \u001b[0;36m_call_impl\u001b[0;34m(self, *input, **kwargs)\u001b[0m\n\u001b[1;32m   1049\u001b[0m         if not (self._backward_hooks or self._forward_hooks or self._forward_pre_hooks or _global_backward_hooks\n\u001b[1;32m   1050\u001b[0m                 or _global_forward_hooks or _global_forward_pre_hooks):\n\u001b[0;32m-> 1051\u001b[0;31m             \u001b[0;32mreturn\u001b[0m \u001b[0mforward_call\u001b[0m\u001b[0;34m(\u001b[0m\u001b[0;34m*\u001b[0m\u001b[0minput\u001b[0m\u001b[0;34m,\u001b[0m \u001b[0;34m**\u001b[0m\u001b[0mkwargs\u001b[0m\u001b[0;34m)\u001b[0m\u001b[0;34m\u001b[0m\u001b[0;34m\u001b[0m\u001b[0m\n\u001b[0m\u001b[1;32m   1052\u001b[0m         \u001b[0;31m# Do not call functions when jit is used\u001b[0m\u001b[0;34m\u001b[0m\u001b[0;34m\u001b[0m\u001b[0;34m\u001b[0m\u001b[0m\n\u001b[1;32m   1053\u001b[0m         \u001b[0mfull_backward_hooks\u001b[0m\u001b[0;34m,\u001b[0m \u001b[0mnon_full_backward_hooks\u001b[0m \u001b[0;34m=\u001b[0m \u001b[0;34m[\u001b[0m\u001b[0;34m]\u001b[0m\u001b[0;34m,\u001b[0m \u001b[0;34m[\u001b[0m\u001b[0;34m]\u001b[0m\u001b[0;34m\u001b[0m\u001b[0;34m\u001b[0m\u001b[0m\n",
      "\u001b[0;32m~/miniconda/envs/fedml/lib/python3.7/site-packages/torch/nn/parallel/data_parallel.py\u001b[0m in \u001b[0;36mforward\u001b[0;34m(self, *inputs, **kwargs)\u001b[0m\n\u001b[1;32m    166\u001b[0m                 \u001b[0;32mreturn\u001b[0m \u001b[0mself\u001b[0m\u001b[0;34m.\u001b[0m\u001b[0mmodule\u001b[0m\u001b[0;34m(\u001b[0m\u001b[0;34m*\u001b[0m\u001b[0minputs\u001b[0m\u001b[0;34m[\u001b[0m\u001b[0;36m0\u001b[0m\u001b[0;34m]\u001b[0m\u001b[0;34m,\u001b[0m \u001b[0;34m**\u001b[0m\u001b[0mkwargs\u001b[0m\u001b[0;34m[\u001b[0m\u001b[0;36m0\u001b[0m\u001b[0;34m]\u001b[0m\u001b[0;34m)\u001b[0m\u001b[0;34m\u001b[0m\u001b[0;34m\u001b[0m\u001b[0m\n\u001b[1;32m    167\u001b[0m             \u001b[0mreplicas\u001b[0m \u001b[0;34m=\u001b[0m \u001b[0mself\u001b[0m\u001b[0;34m.\u001b[0m\u001b[0mreplicate\u001b[0m\u001b[0;34m(\u001b[0m\u001b[0mself\u001b[0m\u001b[0;34m.\u001b[0m\u001b[0mmodule\u001b[0m\u001b[0;34m,\u001b[0m \u001b[0mself\u001b[0m\u001b[0;34m.\u001b[0m\u001b[0mdevice_ids\u001b[0m\u001b[0;34m[\u001b[0m\u001b[0;34m:\u001b[0m\u001b[0mlen\u001b[0m\u001b[0;34m(\u001b[0m\u001b[0minputs\u001b[0m\u001b[0;34m)\u001b[0m\u001b[0;34m]\u001b[0m\u001b[0;34m)\u001b[0m\u001b[0;34m\u001b[0m\u001b[0;34m\u001b[0m\u001b[0m\n\u001b[0;32m--> 168\u001b[0;31m             \u001b[0moutputs\u001b[0m \u001b[0;34m=\u001b[0m \u001b[0mself\u001b[0m\u001b[0;34m.\u001b[0m\u001b[0mparallel_apply\u001b[0m\u001b[0;34m(\u001b[0m\u001b[0mreplicas\u001b[0m\u001b[0;34m,\u001b[0m \u001b[0minputs\u001b[0m\u001b[0;34m,\u001b[0m \u001b[0mkwargs\u001b[0m\u001b[0;34m)\u001b[0m\u001b[0;34m\u001b[0m\u001b[0;34m\u001b[0m\u001b[0m\n\u001b[0m\u001b[1;32m    169\u001b[0m             \u001b[0;32mreturn\u001b[0m \u001b[0mself\u001b[0m\u001b[0;34m.\u001b[0m\u001b[0mgather\u001b[0m\u001b[0;34m(\u001b[0m\u001b[0moutputs\u001b[0m\u001b[0;34m,\u001b[0m \u001b[0mself\u001b[0m\u001b[0;34m.\u001b[0m\u001b[0moutput_device\u001b[0m\u001b[0;34m)\u001b[0m\u001b[0;34m\u001b[0m\u001b[0;34m\u001b[0m\u001b[0m\n\u001b[1;32m    170\u001b[0m \u001b[0;34m\u001b[0m\u001b[0m\n",
      "\u001b[0;32m~/miniconda/envs/fedml/lib/python3.7/site-packages/torch/nn/parallel/data_parallel.py\u001b[0m in \u001b[0;36mparallel_apply\u001b[0;34m(self, replicas, inputs, kwargs)\u001b[0m\n\u001b[1;32m    176\u001b[0m \u001b[0;34m\u001b[0m\u001b[0m\n\u001b[1;32m    177\u001b[0m     \u001b[0;32mdef\u001b[0m \u001b[0mparallel_apply\u001b[0m\u001b[0;34m(\u001b[0m\u001b[0mself\u001b[0m\u001b[0;34m,\u001b[0m \u001b[0mreplicas\u001b[0m\u001b[0;34m,\u001b[0m \u001b[0minputs\u001b[0m\u001b[0;34m,\u001b[0m \u001b[0mkwargs\u001b[0m\u001b[0;34m)\u001b[0m\u001b[0;34m:\u001b[0m\u001b[0;34m\u001b[0m\u001b[0;34m\u001b[0m\u001b[0m\n\u001b[0;32m--> 178\u001b[0;31m         \u001b[0;32mreturn\u001b[0m \u001b[0mparallel_apply\u001b[0m\u001b[0;34m(\u001b[0m\u001b[0mreplicas\u001b[0m\u001b[0;34m,\u001b[0m \u001b[0minputs\u001b[0m\u001b[0;34m,\u001b[0m \u001b[0mkwargs\u001b[0m\u001b[0;34m,\u001b[0m \u001b[0mself\u001b[0m\u001b[0;34m.\u001b[0m\u001b[0mdevice_ids\u001b[0m\u001b[0;34m[\u001b[0m\u001b[0;34m:\u001b[0m\u001b[0mlen\u001b[0m\u001b[0;34m(\u001b[0m\u001b[0mreplicas\u001b[0m\u001b[0;34m)\u001b[0m\u001b[0;34m]\u001b[0m\u001b[0;34m)\u001b[0m\u001b[0;34m\u001b[0m\u001b[0;34m\u001b[0m\u001b[0m\n\u001b[0m\u001b[1;32m    179\u001b[0m \u001b[0;34m\u001b[0m\u001b[0m\n\u001b[1;32m    180\u001b[0m     \u001b[0;32mdef\u001b[0m \u001b[0mgather\u001b[0m\u001b[0;34m(\u001b[0m\u001b[0mself\u001b[0m\u001b[0;34m,\u001b[0m \u001b[0moutputs\u001b[0m\u001b[0;34m,\u001b[0m \u001b[0moutput_device\u001b[0m\u001b[0;34m)\u001b[0m\u001b[0;34m:\u001b[0m\u001b[0;34m\u001b[0m\u001b[0;34m\u001b[0m\u001b[0m\n",
      "\u001b[0;32m~/miniconda/envs/fedml/lib/python3.7/site-packages/torch/nn/parallel/parallel_apply.py\u001b[0m in \u001b[0;36mparallel_apply\u001b[0;34m(modules, inputs, kwargs_tup, devices)\u001b[0m\n\u001b[1;32m     76\u001b[0m             \u001b[0mthread\u001b[0m\u001b[0;34m.\u001b[0m\u001b[0mstart\u001b[0m\u001b[0;34m(\u001b[0m\u001b[0;34m)\u001b[0m\u001b[0;34m\u001b[0m\u001b[0;34m\u001b[0m\u001b[0m\n\u001b[1;32m     77\u001b[0m         \u001b[0;32mfor\u001b[0m \u001b[0mthread\u001b[0m \u001b[0;32min\u001b[0m \u001b[0mthreads\u001b[0m\u001b[0;34m:\u001b[0m\u001b[0;34m\u001b[0m\u001b[0;34m\u001b[0m\u001b[0m\n\u001b[0;32m---> 78\u001b[0;31m             \u001b[0mthread\u001b[0m\u001b[0;34m.\u001b[0m\u001b[0mjoin\u001b[0m\u001b[0;34m(\u001b[0m\u001b[0;34m)\u001b[0m\u001b[0;34m\u001b[0m\u001b[0;34m\u001b[0m\u001b[0m\n\u001b[0m\u001b[1;32m     79\u001b[0m     \u001b[0;32melse\u001b[0m\u001b[0;34m:\u001b[0m\u001b[0;34m\u001b[0m\u001b[0;34m\u001b[0m\u001b[0m\n\u001b[1;32m     80\u001b[0m         \u001b[0m_worker\u001b[0m\u001b[0;34m(\u001b[0m\u001b[0;36m0\u001b[0m\u001b[0;34m,\u001b[0m \u001b[0mmodules\u001b[0m\u001b[0;34m[\u001b[0m\u001b[0;36m0\u001b[0m\u001b[0;34m]\u001b[0m\u001b[0;34m,\u001b[0m \u001b[0minputs\u001b[0m\u001b[0;34m[\u001b[0m\u001b[0;36m0\u001b[0m\u001b[0;34m]\u001b[0m\u001b[0;34m,\u001b[0m \u001b[0mkwargs_tup\u001b[0m\u001b[0;34m[\u001b[0m\u001b[0;36m0\u001b[0m\u001b[0;34m]\u001b[0m\u001b[0;34m,\u001b[0m \u001b[0mdevices\u001b[0m\u001b[0;34m[\u001b[0m\u001b[0;36m0\u001b[0m\u001b[0;34m]\u001b[0m\u001b[0;34m)\u001b[0m\u001b[0;34m\u001b[0m\u001b[0;34m\u001b[0m\u001b[0m\n",
      "\u001b[0;32m~/miniconda/envs/fedml/lib/python3.7/threading.py\u001b[0m in \u001b[0;36mjoin\u001b[0;34m(self, timeout)\u001b[0m\n\u001b[1;32m   1042\u001b[0m \u001b[0;34m\u001b[0m\u001b[0m\n\u001b[1;32m   1043\u001b[0m         \u001b[0;32mif\u001b[0m \u001b[0mtimeout\u001b[0m \u001b[0;32mis\u001b[0m \u001b[0;32mNone\u001b[0m\u001b[0;34m:\u001b[0m\u001b[0;34m\u001b[0m\u001b[0;34m\u001b[0m\u001b[0m\n\u001b[0;32m-> 1044\u001b[0;31m             \u001b[0mself\u001b[0m\u001b[0;34m.\u001b[0m\u001b[0m_wait_for_tstate_lock\u001b[0m\u001b[0;34m(\u001b[0m\u001b[0;34m)\u001b[0m\u001b[0;34m\u001b[0m\u001b[0;34m\u001b[0m\u001b[0m\n\u001b[0m\u001b[1;32m   1045\u001b[0m         \u001b[0;32melse\u001b[0m\u001b[0;34m:\u001b[0m\u001b[0;34m\u001b[0m\u001b[0;34m\u001b[0m\u001b[0m\n\u001b[1;32m   1046\u001b[0m             \u001b[0;31m# the behavior of a negative timeout isn't documented, but\u001b[0m\u001b[0;34m\u001b[0m\u001b[0;34m\u001b[0m\u001b[0;34m\u001b[0m\u001b[0m\n",
      "\u001b[0;32m~/miniconda/envs/fedml/lib/python3.7/threading.py\u001b[0m in \u001b[0;36m_wait_for_tstate_lock\u001b[0;34m(self, block, timeout)\u001b[0m\n\u001b[1;32m   1058\u001b[0m         \u001b[0;32mif\u001b[0m \u001b[0mlock\u001b[0m \u001b[0;32mis\u001b[0m \u001b[0;32mNone\u001b[0m\u001b[0;34m:\u001b[0m  \u001b[0;31m# already determined that the C code is done\u001b[0m\u001b[0;34m\u001b[0m\u001b[0;34m\u001b[0m\u001b[0m\n\u001b[1;32m   1059\u001b[0m             \u001b[0;32massert\u001b[0m \u001b[0mself\u001b[0m\u001b[0;34m.\u001b[0m\u001b[0m_is_stopped\u001b[0m\u001b[0;34m\u001b[0m\u001b[0;34m\u001b[0m\u001b[0m\n\u001b[0;32m-> 1060\u001b[0;31m         \u001b[0;32melif\u001b[0m \u001b[0mlock\u001b[0m\u001b[0;34m.\u001b[0m\u001b[0macquire\u001b[0m\u001b[0;34m(\u001b[0m\u001b[0mblock\u001b[0m\u001b[0;34m,\u001b[0m \u001b[0mtimeout\u001b[0m\u001b[0;34m)\u001b[0m\u001b[0;34m:\u001b[0m\u001b[0;34m\u001b[0m\u001b[0;34m\u001b[0m\u001b[0m\n\u001b[0m\u001b[1;32m   1061\u001b[0m             \u001b[0mlock\u001b[0m\u001b[0;34m.\u001b[0m\u001b[0mrelease\u001b[0m\u001b[0;34m(\u001b[0m\u001b[0;34m)\u001b[0m\u001b[0;34m\u001b[0m\u001b[0;34m\u001b[0m\u001b[0m\n\u001b[1;32m   1062\u001b[0m             \u001b[0mself\u001b[0m\u001b[0;34m.\u001b[0m\u001b[0m_stop\u001b[0m\u001b[0;34m(\u001b[0m\u001b[0;34m)\u001b[0m\u001b[0;34m\u001b[0m\u001b[0;34m\u001b[0m\u001b[0m\n",
      "\u001b[0;31mKeyboardInterrupt\u001b[0m: "
     ]
    }
   ],
   "source": [
    "import os\n",
    "os.environ[\"WANDB_DISABLED\"] = \"true\"\n",
    "trainer.train()"
   ]
  },
  {
   "cell_type": "code",
   "execution_count": null,
   "metadata": {},
   "outputs": [],
   "source": []
  }
 ],
 "metadata": {
  "interpreter": {
   "hash": "a65d3eb0d356f36bb8f03c924377c86e53151547a1652e45fa89707cca28024a"
  },
  "kernelspec": {
   "display_name": "Python 3.7.4 64-bit ('fedml': conda)",
   "name": "python3"
  },
  "language_info": {
   "codemirror_mode": {
    "name": "ipython",
    "version": 3
   },
   "file_extension": ".py",
   "mimetype": "text/x-python",
   "name": "python",
   "nbconvert_exporter": "python",
   "pygments_lexer": "ipython3",
   "version": "3.7.4"
  },
  "orig_nbformat": 4
 },
 "nbformat": 4,
 "nbformat_minor": 2
}
