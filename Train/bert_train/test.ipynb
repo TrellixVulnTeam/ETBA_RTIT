{
 "cells": [
  {
   "cell_type": "code",
   "execution_count": 1,
   "metadata": {},
   "outputs": [
    {
     "name": "stdout",
     "output_type": "stream",
     "text": [
      "Loading pipeline (model: bert-base-cased, tokenizer: bert-base-cased)\n"
     ]
    },
    {
     "name": "stderr",
     "output_type": "stream",
     "text": [
      "Some weights of the model checkpoint at bert-base-cased were not used when initializing BertModel: ['cls.seq_relationship.bias', 'cls.predictions.transform.LayerNorm.weight', 'cls.predictions.bias', 'cls.predictions.decoder.weight', 'cls.predictions.transform.LayerNorm.bias', 'cls.predictions.transform.dense.weight', 'cls.seq_relationship.weight', 'cls.predictions.transform.dense.bias']\n",
      "- This IS expected if you are initializing BertModel from the checkpoint of a model trained on another task or with another architecture (e.g. initializing a BertForSequenceClassification model from a BertForPreTraining model).\n",
      "- This IS NOT expected if you are initializing BertModel from the checkpoint of a model that you expect to be exactly identical (initializing a BertForSequenceClassification model from a BertForSequenceClassification model).\n"
     ]
    },
    {
     "name": "stdout",
     "output_type": "stream",
     "text": [
      "Found input input_ids with shape: {0: 'batch', 1: 'sequence'}\n",
      "Found input token_type_ids with shape: {0: 'batch', 1: 'sequence'}\n",
      "Found input attention_mask with shape: {0: 'batch', 1: 'sequence'}\n",
      "Found output output_0 with shape: {0: 'batch', 1: 'sequence'}\n",
      "Found output output_1 with shape: {0: 'batch'}\n",
      "Ensuring inputs are in correct order\n",
      "position_ids is not present in the generated input list.\n",
      "Generated inputs order: ['input_ids', 'attention_mask', 'token_type_ids']\n"
     ]
    }
   ],
   "source": [
    "from transformers.convert_graph_to_onnx import convert_pytorch, load_graph_from_args, infer_shapes, ensure_valid_input\n",
    "\n",
    "pipeline_name = \"feature-extraction\"\n",
    "framework = \"pt\"\n",
    "model = \"bert-base-cased\"\n",
    "tokenizer = \"bert-base-cased\"\n",
    "nlp = load_graph_from_args(pipeline_name, framework, model, tokenizer)\n",
    "\n",
    "input_names, output_names, dynamic_axes, tokens = infer_shapes(nlp, \"pt\")\n",
    "ordered_input_names, model_args = ensure_valid_input(nlp.model, tokens, input_names)\n",
    "\n"
   ]
  },
  {
   "cell_type": "code",
   "execution_count": 2,
   "metadata": {},
   "outputs": [
    {
     "name": "stderr",
     "output_type": "stream",
     "text": [
      "Some weights of the model checkpoint at bert-base-uncased were not used when initializing BertWithExit_s2: ['cls.seq_relationship.bias', 'cls.predictions.transform.LayerNorm.weight', 'cls.predictions.bias', 'cls.predictions.decoder.weight', 'cls.predictions.transform.LayerNorm.bias', 'cls.predictions.transform.dense.weight', 'cls.seq_relationship.weight', 'cls.predictions.transform.dense.bias']\n",
      "- This IS expected if you are initializing BertWithExit_s2 from the checkpoint of a model trained on another task or with another architecture (e.g. initializing a BertForSequenceClassification model from a BertForPreTraining model).\n",
      "- This IS NOT expected if you are initializing BertWithExit_s2 from the checkpoint of a model that you expect to be exactly identical (initializing a BertForSequenceClassification model from a BertForSequenceClassification model).\n",
      "Some weights of BertWithExit_s2 were not initialized from the model checkpoint at bert-base-uncased and are newly initialized: ['s2_pooler.dense.weight', 's2_classifier.bias', 's2_pooler.dense.bias', 's2_classifier.weight']\n",
      "You should probably TRAIN this model on a down-stream task to be able to use it for predictions and inference.\n"
     ]
    }
   ],
   "source": [
    "import os\n",
    "import torch\n",
    "from modeling_bert import BertForSequenceClassification, BertWithExit_s1, BertWithExit_s2\n",
    "\n",
    "model = BertWithExit_s2.from_pretrained('bert-base-uncased')\n",
    "model.add_exit(7,8)\n",
    "\n",
    "dynamic_axes.pop('output_0')\n",
    "dynamic_axes.pop('output_1')\n",
    "dynamic_axes.pop('token_type_ids')\n",
    "\n",
    "# output_names = [\"output1\", \"exit_output\"]\n",
    "output_names = [\"final_output\"]\n",
    "\n",
    "# dynamic_axes['output1'] = {0: 'batch', 1: 'sequence'}\n",
    "# dynamic_axes['exit_output'] = {0: 'batch'}\n",
    "dynamic_axes['final_output'] = {0: 'batch'}\n",
    "model_args = (torch.Tensor(1, 7, 768), torch.Tensor(1, 7))\n",
    "\n",
    "torch.onnx.export(\n",
    "    model,\n",
    "    model_args,\n",
    "    f=\"./bert_model.onnx\",\n",
    "    input_names=ordered_input_names[:2],\n",
    "    output_names=output_names,\n",
    "    dynamic_axes=dynamic_axes,\n",
    "    do_constant_folding=True,\n",
    "    enable_onnx_checker=True,\n",
    "    opset_version=11,\n",
    ")\n",
    "# torch.onnx.export(model, \"./bert_model.onnx\")"
   ]
  },
  {
   "cell_type": "code",
   "execution_count": 8,
   "metadata": {},
   "outputs": [],
   "source": [
    "model_args = (torch.Tensor(1, 7, 768), torch.Tensor(1, 1, 1, 7))"
   ]
  },
  {
   "cell_type": "code",
   "execution_count": 11,
   "metadata": {},
   "outputs": [
    {
     "data": {
      "text/plain": [
       "torch.Size([1, 7, 768])"
      ]
     },
     "execution_count": 11,
     "metadata": {},
     "output_type": "execute_result"
    }
   ],
   "source": [
    "model_args[0].shape"
   ]
  },
  {
   "cell_type": "code",
   "execution_count": null,
   "metadata": {},
   "outputs": [],
   "source": []
  }
 ],
 "metadata": {
  "interpreter": {
   "hash": "a65d3eb0d356f36bb8f03c924377c86e53151547a1652e45fa89707cca28024a"
  },
  "kernelspec": {
   "display_name": "Python 3.7.4 64-bit ('fedml': conda)",
   "name": "python3"
  },
  "language_info": {
   "codemirror_mode": {
    "name": "ipython",
    "version": 3
   },
   "file_extension": ".py",
   "mimetype": "text/x-python",
   "name": "python",
   "nbconvert_exporter": "python",
   "pygments_lexer": "ipython3",
   "version": "3.7.4"
  },
  "orig_nbformat": 4
 },
 "nbformat": 4,
 "nbformat_minor": 2
}
