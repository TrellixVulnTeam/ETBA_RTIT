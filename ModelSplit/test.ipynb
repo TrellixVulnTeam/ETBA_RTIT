{
 "cells": [
  {
   "cell_type": "code",
   "execution_count": 2,
   "source": [
    "import onnx\n",
    "from onnx.tools import update_model_dims\n",
    "import numpy as np\n",
    "import onnx.helper as helper\n",
    "from onnx import shape_inference, TensorProto\n",
    "import sys"
   ],
   "outputs": [],
   "metadata": {}
  },
  {
   "cell_type": "code",
   "execution_count": 3,
   "source": [
    "import torch\n",
    "import torchvision\n",
    "from transformers import AutoTokenizer, AutoModel\n",
    "\n",
    "from pathlib import Path\n",
    "from transformers.convert_graph_to_onnx import convert"
   ],
   "outputs": [],
   "metadata": {}
  },
  {
   "cell_type": "code",
   "execution_count": 14,
   "source": [
    "model = onnx.load(\"./models/bert-base/bert-base-cased.onnx\")\n",
    "oldnodes = [n for n in model.graph.node]\n",
    "newnodes = oldnodes[0:125]\n",
    "for n in model.graph.node:\n",
    "    model.graph.node.remove(n)\n",
    "model.graph.node.extend(newnodes)\n",
    "onnx.save(model, \"./models_out/bert-1-v2.onnx\")"
   ],
   "outputs": [],
   "metadata": {}
  },
  {
   "cell_type": "code",
   "execution_count": 18,
   "source": [
    "graph = helper.GraphProto()\n",
    "graph.node.extend(newnodes)\n",
    "model_def = helper.make_model(graph, producer_name='onnx-example')\n",
    "onnx.save(model_def, \"./models_out/bert-1-v3.onnx\")"
   ],
   "outputs": [],
   "metadata": {}
  },
  {
   "cell_type": "code",
   "execution_count": 19,
   "source": [
    "graph_def = helper.make_graph(\n",
    "            ['Mul_123'],\n",
    "            'Mul_123',\n",
    "            inputs=['A','B'],  # 输入\n",
    "            outputs=['C'],  # 输出\n",
    "            )"
   ],
   "outputs": [
    {
     "output_type": "error",
     "ename": "TypeError",
     "evalue": "Not a cmessage",
     "traceback": [
      "\u001b[0;31m---------------------------------------------------------------------------\u001b[0m",
      "\u001b[0;31mTypeError\u001b[0m                                 Traceback (most recent call last)",
      "\u001b[0;32m<ipython-input-19-96b6384d46f4>\u001b[0m in \u001b[0;36m<module>\u001b[0;34m\u001b[0m\n\u001b[1;32m      3\u001b[0m             \u001b[0;34m'Mul_123'\u001b[0m\u001b[0;34m,\u001b[0m\u001b[0;34m\u001b[0m\u001b[0;34m\u001b[0m\u001b[0m\n\u001b[1;32m      4\u001b[0m             \u001b[0minputs\u001b[0m\u001b[0;34m=\u001b[0m\u001b[0;34m[\u001b[0m\u001b[0;34m'A'\u001b[0m\u001b[0;34m,\u001b[0m\u001b[0;34m'B'\u001b[0m\u001b[0;34m]\u001b[0m\u001b[0;34m,\u001b[0m  \u001b[0;31m# 输入\u001b[0m\u001b[0;34m\u001b[0m\u001b[0;34m\u001b[0m\u001b[0m\n\u001b[0;32m----> 5\u001b[0;31m             \u001b[0moutputs\u001b[0m\u001b[0;34m=\u001b[0m\u001b[0;34m[\u001b[0m\u001b[0;34m'C'\u001b[0m\u001b[0;34m]\u001b[0m\u001b[0;34m,\u001b[0m  \u001b[0;31m# 输出\u001b[0m\u001b[0;34m\u001b[0m\u001b[0;34m\u001b[0m\u001b[0m\n\u001b[0m\u001b[1;32m      6\u001b[0m             )\n",
      "\u001b[0;32m~/miniconda/envs/fedml/lib/python3.7/site-packages/onnx/helper.py\u001b[0m in \u001b[0;36mmake_graph\u001b[0;34m(nodes, name, inputs, outputs, initializer, doc_string, value_info, sparse_initializer)\u001b[0m\n\u001b[1;32m    149\u001b[0m         \u001b[0mvalue_info\u001b[0m \u001b[0;34m=\u001b[0m \u001b[0;34m[\u001b[0m\u001b[0;34m]\u001b[0m\u001b[0;34m\u001b[0m\u001b[0;34m\u001b[0m\u001b[0m\n\u001b[1;32m    150\u001b[0m     \u001b[0mgraph\u001b[0m \u001b[0;34m=\u001b[0m \u001b[0mGraphProto\u001b[0m\u001b[0;34m(\u001b[0m\u001b[0;34m)\u001b[0m\u001b[0;34m\u001b[0m\u001b[0;34m\u001b[0m\u001b[0m\n\u001b[0;32m--> 151\u001b[0;31m     \u001b[0mgraph\u001b[0m\u001b[0;34m.\u001b[0m\u001b[0mnode\u001b[0m\u001b[0;34m.\u001b[0m\u001b[0mextend\u001b[0m\u001b[0;34m(\u001b[0m\u001b[0mnodes\u001b[0m\u001b[0;34m)\u001b[0m\u001b[0;34m\u001b[0m\u001b[0;34m\u001b[0m\u001b[0m\n\u001b[0m\u001b[1;32m    152\u001b[0m     \u001b[0mgraph\u001b[0m\u001b[0;34m.\u001b[0m\u001b[0mname\u001b[0m \u001b[0;34m=\u001b[0m \u001b[0mname\u001b[0m\u001b[0;34m\u001b[0m\u001b[0;34m\u001b[0m\u001b[0m\n\u001b[1;32m    153\u001b[0m     \u001b[0mgraph\u001b[0m\u001b[0;34m.\u001b[0m\u001b[0minput\u001b[0m\u001b[0;34m.\u001b[0m\u001b[0mextend\u001b[0m\u001b[0;34m(\u001b[0m\u001b[0minputs\u001b[0m\u001b[0;34m)\u001b[0m\u001b[0;34m\u001b[0m\u001b[0;34m\u001b[0m\u001b[0m\n",
      "\u001b[0;31mTypeError\u001b[0m: Not a cmessage"
     ]
    }
   ],
   "metadata": {}
  },
  {
   "cell_type": "code",
   "execution_count": 12,
   "source": [
    "model = onnx.load(\"./models/vgg16.onnx\")\n",
    "for i in range(20):\n",
    "    print(model.graph.initializer[i].dims)"
   ],
   "outputs": [
    {
     "output_type": "stream",
     "name": "stdout",
     "text": [
      "[512, 512]\n",
      "[512]\n",
      "[512, 512]\n",
      "[512]\n",
      "[10, 512]\n",
      "[10]\n",
      "[64, 3, 3, 3]\n",
      "[64]\n",
      "[64, 64, 3, 3]\n",
      "[64]\n",
      "[128, 64, 3, 3]\n",
      "[128]\n",
      "[128, 128, 3, 3]\n",
      "[128]\n",
      "[256, 128, 3, 3]\n",
      "[256]\n",
      "[256, 256, 3, 3]\n",
      "[256]\n",
      "[256, 256, 3, 3]\n",
      "[256]\n"
     ]
    }
   ],
   "metadata": {}
  },
  {
   "cell_type": "code",
   "execution_count": 4,
   "source": [
    "input_path = './models/vgg16.onnx'\n",
    "output_path = './models_out/vgg16_out.onnx'\n",
    "input_names = ['100']\n",
    "output_names = ['121']\n",
    "onnx.utils.extract_model(input_path, output_path, input_names, output_names)"
   ],
   "outputs": [],
   "metadata": {}
  },
  {
   "cell_type": "code",
   "execution_count": 7,
   "source": [
    "input_path = './models/bert-base/bert-base-cased.onnx'\n",
    "output_path = './models_out/bert_out.onnx'\n",
    "# input_names = ['input_ids', 'attention_mask', 'token_type_ids']\n",
    "input_names = ['235']\n",
    "output_names = ['351']\n",
    "onnx.utils.extract_model(input_path, output_path, input_names, output_names)"
   ],
   "outputs": [
    {
     "output_type": "error",
     "ename": "ValidationError",
     "evalue": "Field 'shape' of type is required but missing.",
     "traceback": [
      "\u001b[0;31m---------------------------------------------------------------------------\u001b[0m",
      "\u001b[0;31mValidationError\u001b[0m                           Traceback (most recent call last)",
      "\u001b[0;32m<ipython-input-7-ae5cc5817476>\u001b[0m in \u001b[0;36m<module>\u001b[0;34m\u001b[0m\n\u001b[1;32m      4\u001b[0m \u001b[0minput_names\u001b[0m \u001b[0;34m=\u001b[0m \u001b[0;34m[\u001b[0m\u001b[0;34m'235'\u001b[0m\u001b[0;34m]\u001b[0m\u001b[0;34m\u001b[0m\u001b[0;34m\u001b[0m\u001b[0m\n\u001b[1;32m      5\u001b[0m \u001b[0moutput_names\u001b[0m \u001b[0;34m=\u001b[0m \u001b[0;34m[\u001b[0m\u001b[0;34m'351'\u001b[0m\u001b[0;34m]\u001b[0m\u001b[0;34m\u001b[0m\u001b[0;34m\u001b[0m\u001b[0m\n\u001b[0;32m----> 6\u001b[0;31m \u001b[0monnx\u001b[0m\u001b[0;34m.\u001b[0m\u001b[0mutils\u001b[0m\u001b[0;34m.\u001b[0m\u001b[0mextract_model\u001b[0m\u001b[0;34m(\u001b[0m\u001b[0minput_path\u001b[0m\u001b[0;34m,\u001b[0m \u001b[0moutput_path\u001b[0m\u001b[0;34m,\u001b[0m \u001b[0minput_names\u001b[0m\u001b[0;34m,\u001b[0m \u001b[0moutput_names\u001b[0m\u001b[0;34m)\u001b[0m\u001b[0;34m\u001b[0m\u001b[0;34m\u001b[0m\u001b[0m\n\u001b[0m",
      "\u001b[0;32m~/miniconda/envs/fedml/lib/python3.7/site-packages/onnx/utils.py\u001b[0m in \u001b[0;36mextract_model\u001b[0;34m(input_path, output_path, input_names, output_names)\u001b[0m\n\u001b[1;32m    164\u001b[0m \u001b[0;34m\u001b[0m\u001b[0m\n\u001b[1;32m    165\u001b[0m     \u001b[0monnx\u001b[0m\u001b[0;34m.\u001b[0m\u001b[0msave\u001b[0m\u001b[0;34m(\u001b[0m\u001b[0mextracted\u001b[0m\u001b[0;34m,\u001b[0m \u001b[0moutput_path\u001b[0m\u001b[0;34m)\u001b[0m\u001b[0;34m\u001b[0m\u001b[0;34m\u001b[0m\u001b[0m\n\u001b[0;32m--> 166\u001b[0;31m     \u001b[0monnx\u001b[0m\u001b[0;34m.\u001b[0m\u001b[0mchecker\u001b[0m\u001b[0;34m.\u001b[0m\u001b[0mcheck_model\u001b[0m\u001b[0;34m(\u001b[0m\u001b[0moutput_path\u001b[0m\u001b[0;34m)\u001b[0m\u001b[0;34m\u001b[0m\u001b[0;34m\u001b[0m\u001b[0m\n\u001b[0m",
      "\u001b[0;32m~/miniconda/envs/fedml/lib/python3.7/site-packages/onnx/checker.py\u001b[0m in \u001b[0;36mcheck_model\u001b[0;34m(model, full_check)\u001b[0m\n\u001b[1;32m     94\u001b[0m \u001b[0;32mdef\u001b[0m \u001b[0mcheck_model\u001b[0m\u001b[0;34m(\u001b[0m\u001b[0mmodel\u001b[0m\u001b[0;34m,\u001b[0m \u001b[0mfull_check\u001b[0m\u001b[0;34m=\u001b[0m\u001b[0;32mFalse\u001b[0m\u001b[0;34m)\u001b[0m\u001b[0;34m:\u001b[0m  \u001b[0;31m# type: (Union[ModelProto, Text], bool) -> None\u001b[0m\u001b[0;34m\u001b[0m\u001b[0;34m\u001b[0m\u001b[0m\n\u001b[1;32m     95\u001b[0m     \u001b[0;32mif\u001b[0m \u001b[0misinstance\u001b[0m\u001b[0;34m(\u001b[0m\u001b[0mmodel\u001b[0m\u001b[0;34m,\u001b[0m \u001b[0mstring_types\u001b[0m\u001b[0;34m)\u001b[0m\u001b[0;34m:\u001b[0m\u001b[0;34m\u001b[0m\u001b[0;34m\u001b[0m\u001b[0m\n\u001b[0;32m---> 96\u001b[0;31m         \u001b[0mC\u001b[0m\u001b[0;34m.\u001b[0m\u001b[0mcheck_model_path\u001b[0m\u001b[0;34m(\u001b[0m\u001b[0mmodel\u001b[0m\u001b[0;34m)\u001b[0m\u001b[0;34m\u001b[0m\u001b[0;34m\u001b[0m\u001b[0m\n\u001b[0m\u001b[1;32m     97\u001b[0m         \u001b[0mm\u001b[0m \u001b[0;34m=\u001b[0m \u001b[0monnx\u001b[0m\u001b[0;34m.\u001b[0m\u001b[0mload\u001b[0m\u001b[0;34m(\u001b[0m\u001b[0mmodel\u001b[0m\u001b[0;34m)\u001b[0m\u001b[0;34m\u001b[0m\u001b[0;34m\u001b[0m\u001b[0m\n\u001b[1;32m     98\u001b[0m     \u001b[0;32melse\u001b[0m\u001b[0;34m:\u001b[0m\u001b[0;34m\u001b[0m\u001b[0;34m\u001b[0m\u001b[0m\n",
      "\u001b[0;31mValidationError\u001b[0m: Field 'shape' of type is required but missing."
     ]
    }
   ],
   "metadata": {}
  },
  {
   "cell_type": "code",
   "execution_count": 6,
   "source": [
    "model = onnx.load(\"./models/bert-base/bert-base-cased.onnx\")\n",
    "onnx.checker.check_model(model)"
   ],
   "outputs": [],
   "metadata": {}
  },
  {
   "cell_type": "code",
   "execution_count": 8,
   "source": [
    "class Extractor:\n",
    "    def __init__(self, model):  # type: (ModelProto) -> None\n",
    "        self.model = onnx.shape_inference.infer_shapes(model)\n",
    "        self.graph = self.model.graph\n",
    "        self.wmap = self._build_name2obj_dict(self.graph.initializer)\n",
    "        self.vimap = self._build_name2obj_dict(self.graph.value_info)\n",
    "\n",
    "    @staticmethod\n",
    "    def _build_name2obj_dict(objs):  # type: ignore\n",
    "        return {obj.name: obj for obj in objs}\n",
    "\n",
    "    def _collect_new_io_core(self, original_io, io_names_to_extract):  # type: ignore\n",
    "        original_io_map = self._build_name2obj_dict(original_io)\n",
    "        original_io_names = set(original_io_map.keys())\n",
    "        s_io_names_to_extract = set(io_names_to_extract)\n",
    "        io_names_to_keep = s_io_names_to_extract & original_io_names\n",
    "        new_io_names_to_add = s_io_names_to_extract - original_io_names\n",
    "\n",
    "        new_io_tensors = []\n",
    "        for name in io_names_to_keep:\n",
    "            new_io_tensors.append(original_io_map[name])\n",
    "        for name in new_io_names_to_add:\n",
    "            # activation become input or output\n",
    "            new_io_tensors.append(self.vimap[name])\n",
    "\n",
    "        # adjust sequence\n",
    "        new_io_tensors_map = self._build_name2obj_dict(new_io_tensors)\n",
    "        return [new_io_tensors_map[name] for name in io_names_to_extract]\n",
    "\n",
    "    def _collect_new_inputs(self, names):  # type: (List[Text]) -> List[ValueInfoProto]\n",
    "        return self._collect_new_io_core(self.graph.input, names)  # type: ignore\n",
    "\n",
    "    def _collect_new_outputs(self, names):  # type: (List[Text]) -> List[ValueInfoProto]\n",
    "        return self._collect_new_io_core(self.graph.output, names)  # type: ignore\n",
    "\n",
    "    def _dfs_search_reachable_nodes(\n",
    "            self,\n",
    "            node_output_name,  # type: Text\n",
    "            graph_input_names,  # type: List[Text]\n",
    "            reachable_nodes,  # type: List[NodeProto]\n",
    "    ):  # type: (...) -> None\n",
    "        if node_output_name in graph_input_names:\n",
    "            return\n",
    "        for node in self.graph.node:\n",
    "            if node in reachable_nodes:\n",
    "                continue\n",
    "            if node_output_name not in node.output:\n",
    "                continue\n",
    "            reachable_nodes.append(node)\n",
    "            for name in node.input:\n",
    "                self._dfs_search_reachable_nodes(name, graph_input_names, reachable_nodes)\n",
    "\n",
    "    def _collect_reachable_nodes(\n",
    "            self,\n",
    "            input_names,  # type: List[Text]\n",
    "            output_names,  # type: List[Text]\n",
    "    ):  # type: (...) -> List[NodeProto]\n",
    "        reachable_nodes = list()  # type: ignore\n",
    "        for name in output_names:\n",
    "            self._dfs_search_reachable_nodes(name, input_names, reachable_nodes)\n",
    "        # needs to be topology sorted.\n",
    "        nodes = [n for n in self.graph.node if n in reachable_nodes]\n",
    "        return nodes\n",
    "\n",
    "    def _collect_reachable_tensors(\n",
    "            self,\n",
    "            nodes,  # type: List[NodeProto]\n",
    "    ):  # type: (...) -> Tuple[List[TensorProto], List[ValueInfoProto]]\n",
    "        all_tensors_name = set()\n",
    "        for node in nodes:\n",
    "            for name in node.input:\n",
    "                all_tensors_name.add(name)\n",
    "            for name in node.output:\n",
    "                all_tensors_name.add(name)\n",
    "\n",
    "        initializer = [self.wmap[t] for t in self.wmap.keys() if t in all_tensors_name]\n",
    "        value_info = [self.vimap[t] for t in self.vimap.keys() if t in all_tensors_name]\n",
    "        assert(len(self.graph.sparse_initializer) == 0)\n",
    "        assert(len(self.graph.quantization_annotation) == 0)\n",
    "        return (initializer, value_info)\n",
    "\n",
    "    def _make_model(\n",
    "            self,\n",
    "            nodes,  # type: List[NodeProto]\n",
    "            inputs,  # type: List[ValueInfoProto]\n",
    "            outputs,  # type: List[ValueInfoProto]\n",
    "            initializer,  # type: List[TensorProto]\n",
    "            value_info  # type: List[ValueInfoProto]\n",
    "    ):  # type: (...) -> ModelProto\n",
    "        name = 'Extracted from {' + self.graph.name + '}'\n",
    "        graph = onnx.helper.make_graph(nodes, name, inputs, outputs, initializer=initializer,\n",
    "                                      value_info=value_info)\n",
    "\n",
    "        meta = {\n",
    "            'ir_version': self.model.ir_version,\n",
    "            'opset_imports': self.model.opset_import,\n",
    "            'producer_name': 'onnx.utils.extract_model',\n",
    "        }\n",
    "        return onnx.helper.make_model(graph, **meta)\n",
    "\n",
    "    def extract_model(\n",
    "            self,\n",
    "            input_names,  # type: List[Text]\n",
    "            output_names,  # type: List[Text]\n",
    "    ):  # type: (...) -> ModelProto\n",
    "        inputs = self._collect_new_inputs(input_names)\n",
    "        outputs = self._collect_new_outputs(output_names)\n",
    "        nodes = self._collect_reachable_nodes(input_names, output_names)\n",
    "        initializer, value_info = self._collect_reachable_tensors(nodes)\n",
    "        model = self._make_model(nodes, inputs, outputs, initializer, value_info)\n",
    "\n",
    "        return model"
   ],
   "outputs": [],
   "metadata": {}
  },
  {
   "cell_type": "code",
   "execution_count": 9,
   "source": [
    "input_path = './models/bert-base/bert-base-cased.onnx'\n",
    "output_path = './models_out/bert_out.onnx'\n",
    "input_names = ['235']\n",
    "output_names = ['351']\n",
    "onnx.checker.check_model(input_path)\n",
    "model = onnx.load(input_path)\n",
    "\n",
    "e = Extractor(model)\n",
    "extracted = e.extract_model(input_names, output_names)"
   ],
   "outputs": [],
   "metadata": {}
  },
  {
   "cell_type": "code",
   "execution_count": 10,
   "source": [
    "onnx.save(extracted, output_path)"
   ],
   "outputs": [],
   "metadata": {}
  },
  {
   "cell_type": "code",
   "execution_count": 11,
   "source": [
    "extracted = onnx.shape_inference.infer_shapes(extracted)\n",
    "onnx.save(extracted, './models_out/bert_out_2.onnx')"
   ],
   "outputs": [],
   "metadata": {}
  },
  {
   "cell_type": "code",
   "execution_count": null,
   "source": [],
   "outputs": [],
   "metadata": {}
  }
 ],
 "metadata": {
  "orig_nbformat": 4,
  "language_info": {
   "name": "python",
   "version": "3.7.4",
   "mimetype": "text/x-python",
   "codemirror_mode": {
    "name": "ipython",
    "version": 3
   },
   "pygments_lexer": "ipython3",
   "nbconvert_exporter": "python",
   "file_extension": ".py"
  },
  "kernelspec": {
   "name": "python3",
   "display_name": "Python 3.7.4 64-bit ('fedml': conda)"
  },
  "interpreter": {
   "hash": "974ac649167fefaf253379c48dc7b4aaed194fc33f94bc0767d802e4d67b73ad"
  }
 },
 "nbformat": 4,
 "nbformat_minor": 2
}